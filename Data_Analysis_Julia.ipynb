{
 "cells": [
  {
   "cell_type": "code",
   "execution_count": 1,
   "metadata": {},
   "outputs": [
    {
     "data": {
      "text/plain": [
       "\"https://raw.githubusercontent.com/CSSEGISandData/COVID-19/master/csse_covid_19_data/csse_covid_19_time_series/time_series_covid19_deaths_global.csv\""
      ]
     },
     "execution_count": 1,
     "metadata": {},
     "output_type": "execute_result"
    }
   ],
   "source": [
    "confirmed_cases_url = \"https://raw.githubusercontent.com/CSSEGISandData/COVID-19/master/csse_covid_19_data/csse_covid_19_time_series/time_series_covid19_confirmed_global.csv\"\n",
    "recovered_cases_url = \"https://raw.githubusercontent.com/CSSEGISandData/COVID-19/master/csse_covid_19_data/csse_covid_19_time_series/time_series_covid19_recovered_global.csv\"\n",
    "death_cases_url = \"https://raw.githubusercontent.com/CSSEGISandData/COVID-19/master/csse_covid_19_data/csse_covid_19_time_series/time_series_covid19_deaths_global.csv\""
   ]
  },
  {
   "cell_type": "code",
   "execution_count": 2,
   "metadata": {},
   "outputs": [
    {
     "name": "stderr",
     "output_type": "stream",
     "text": [
      "\u001b[32m\u001b[1m   Updating\u001b[22m\u001b[39m registry at `C:\\Users\\yashi\\.julia\\registries\\General`\n"
     ]
    },
    {
     "name": "stdout",
     "output_type": "stream",
     "text": [
      "\u001b[?25l"
     ]
    },
    {
     "name": "stderr",
     "output_type": "stream",
     "text": [
      "\u001b[32m\u001b[1m   Updating\u001b[22m\u001b[39m git-repo `https://github.com/JuliaRegistries/General.git`\n"
     ]
    },
    {
     "name": "stdout",
     "output_type": "stream",
     "text": [
      "\u001b[2K\u001b[36m\u001b[1mFetching:\u001b[22m\u001b[39m [========================================>]  99.9 %[36m\u001b[1mFetching:\u001b[22m\u001b[39m [===>                                     ]  5.2 %]  8.5 % [=====>                                   ]  11.0 % [======>                                  ]  14.4 %========>                                ]  17.5 %\u001b[36m\u001b[1mFetching:\u001b[22m\u001b[39m [=========>                               ]  20.7 %8 %.5 % %\u001b[36m\u001b[1mFetching:\u001b[22m\u001b[39m [============>                            ]  29.4 %\u001b[36m\u001b[1mFetching:\u001b[22m\u001b[39m [===============>                         ]  35.2 % [================>                        ]  38.8 %==================>                      ]  42.6 % % [====================>                    ]  48.9 %=====================>                   ]  50.9 %.5 %]  56.2 %                ]  58.4 % [========================>                ]  59.2 % [==========================>              ]  63.4 %67.0 % [==============================>          ]  73.8 % [===============================>         ]  76.7 %\u001b[36m\u001b[1mFetching:\u001b[22m\u001b[39m [=================================>       ]  80.2 % %     ]  85.0 %86.6 % [=====================================>   ]  90.5 %\u001b[36m\u001b[1mFetching:\u001b[22m\u001b[39m [======================================>  ]  94.4 %> ]  96.6 %\u001b[?25h"
     ]
    },
    {
     "name": "stderr",
     "output_type": "stream",
     "text": [
      "\u001b[32m\u001b[1m  Resolving\u001b[22m\u001b[39m package versions...\n",
      "\u001b[32m\u001b[1m   Updating\u001b[22m\u001b[39m `C:\\Users\\yashi\\.julia\\environments\\v1.4\\Project.toml`\n",
      "\u001b[90m [no changes]\u001b[39m\n",
      "\u001b[32m\u001b[1m   Updating\u001b[22m\u001b[39m `C:\\Users\\yashi\\.julia\\environments\\v1.4\\Manifest.toml`\n",
      "\u001b[90m [no changes]\u001b[39m\n"
     ]
    }
   ],
   "source": [
    "# Installing Packages\n",
    "using Pkg\n",
    "Pkg.add(\"DataFrames\")"
   ]
  },
  {
   "cell_type": "code",
   "execution_count": 3,
   "metadata": {},
   "outputs": [
    {
     "name": "stderr",
     "output_type": "stream",
     "text": [
      "┌ Info: Precompiling CSV [336ed68f-0bac-5ca0-87d4-7b16caf5d00b]\n",
      "└ @ Base loading.jl:1260\n"
     ]
    }
   ],
   "source": [
    "# Load Packages\n",
    "using CSV, DataFrames"
   ]
  },
  {
   "cell_type": "code",
   "execution_count": 4,
   "metadata": {},
   "outputs": [
    {
     "name": "stderr",
     "output_type": "stream",
     "text": [
      "┌ Warning: `CSV.read(input; kw...)` is deprecated in favor of `DataFrame!(CSV.File(input; kw...))`\n",
      "└ @ CSV C:\\Users\\yashi\\.julia\\packages\\CSV\\UWuB2\\src\\CSV.jl:40\n",
      "┌ Warning: `CSV.read(input; kw...)` is deprecated in favor of `DataFrame!(CSV.File(input; kw...))`\n",
      "└ @ CSV C:\\Users\\yashi\\.julia\\packages\\CSV\\UWuB2\\src\\CSV.jl:40\n",
      "┌ Warning: `CSV.read(input; kw...)` is deprecated in favor of `DataFrame!(CSV.File(input; kw...))`\n",
      "└ @ CSV C:\\Users\\yashi\\.julia\\packages\\CSV\\UWuB2\\src\\CSV.jl:40\n"
     ]
    },
    {
     "data": {
      "text/html": [
       "<table class=\"data-frame\"><thead><tr><th></th><th>Province/State</th><th>Country/Region</th><th>Lat</th><th>Long</th><th>1/22/20</th></tr><tr><th></th><th>String?</th><th>String</th><th>Float64</th><th>Float64</th><th>Int64</th></tr></thead><tbody><p>266 rows × 194 columns (omitted printing of 189 columns)</p><tr><th>1</th><td><em>missing</em></td><td>Afghanistan</td><td>33.9391</td><td>67.71</td><td>0</td></tr><tr><th>2</th><td><em>missing</em></td><td>Albania</td><td>41.1533</td><td>20.1683</td><td>0</td></tr><tr><th>3</th><td><em>missing</em></td><td>Algeria</td><td>28.0339</td><td>1.6596</td><td>0</td></tr><tr><th>4</th><td><em>missing</em></td><td>Andorra</td><td>42.5063</td><td>1.5218</td><td>0</td></tr><tr><th>5</th><td><em>missing</em></td><td>Angola</td><td>-11.2027</td><td>17.8739</td><td>0</td></tr><tr><th>6</th><td><em>missing</em></td><td>Antigua and Barbuda</td><td>17.0608</td><td>-61.7964</td><td>0</td></tr><tr><th>7</th><td><em>missing</em></td><td>Argentina</td><td>-38.4161</td><td>-63.6167</td><td>0</td></tr><tr><th>8</th><td><em>missing</em></td><td>Armenia</td><td>40.0691</td><td>45.0382</td><td>0</td></tr><tr><th>9</th><td>Australian Capital Territory</td><td>Australia</td><td>-35.4735</td><td>149.012</td><td>0</td></tr><tr><th>10</th><td>New South Wales</td><td>Australia</td><td>-33.8688</td><td>151.209</td><td>0</td></tr><tr><th>11</th><td>Northern Territory</td><td>Australia</td><td>-12.4634</td><td>130.846</td><td>0</td></tr><tr><th>12</th><td>Queensland</td><td>Australia</td><td>-27.4698</td><td>153.025</td><td>0</td></tr><tr><th>13</th><td>South Australia</td><td>Australia</td><td>-34.9285</td><td>138.601</td><td>0</td></tr><tr><th>14</th><td>Tasmania</td><td>Australia</td><td>-42.8821</td><td>147.327</td><td>0</td></tr><tr><th>15</th><td>Victoria</td><td>Australia</td><td>-37.8136</td><td>144.963</td><td>0</td></tr><tr><th>16</th><td>Western Australia</td><td>Australia</td><td>-31.9505</td><td>115.861</td><td>0</td></tr><tr><th>17</th><td><em>missing</em></td><td>Austria</td><td>47.5162</td><td>14.5501</td><td>0</td></tr><tr><th>18</th><td><em>missing</em></td><td>Azerbaijan</td><td>40.1431</td><td>47.5769</td><td>0</td></tr><tr><th>19</th><td><em>missing</em></td><td>Bahamas</td><td>25.0259</td><td>-78.0359</td><td>0</td></tr><tr><th>20</th><td><em>missing</em></td><td>Bahrain</td><td>26.0275</td><td>50.55</td><td>0</td></tr><tr><th>21</th><td><em>missing</em></td><td>Bangladesh</td><td>23.685</td><td>90.3563</td><td>0</td></tr><tr><th>22</th><td><em>missing</em></td><td>Barbados</td><td>13.1939</td><td>-59.5432</td><td>0</td></tr><tr><th>23</th><td><em>missing</em></td><td>Belarus</td><td>53.7098</td><td>27.9534</td><td>0</td></tr><tr><th>24</th><td><em>missing</em></td><td>Belgium</td><td>50.8333</td><td>4.46994</td><td>0</td></tr><tr><th>25</th><td><em>missing</em></td><td>Benin</td><td>9.3077</td><td>2.3158</td><td>0</td></tr><tr><th>26</th><td><em>missing</em></td><td>Bhutan</td><td>27.5142</td><td>90.4336</td><td>0</td></tr><tr><th>27</th><td><em>missing</em></td><td>Bolivia</td><td>-16.2902</td><td>-63.5887</td><td>0</td></tr><tr><th>28</th><td><em>missing</em></td><td>Bosnia and Herzegovina</td><td>43.9159</td><td>17.6791</td><td>0</td></tr><tr><th>29</th><td><em>missing</em></td><td>Brazil</td><td>-14.235</td><td>-51.9253</td><td>0</td></tr><tr><th>30</th><td><em>missing</em></td><td>Brunei</td><td>4.5353</td><td>114.728</td><td>0</td></tr><tr><th>&vellip;</th><td>&vellip;</td><td>&vellip;</td><td>&vellip;</td><td>&vellip;</td><td>&vellip;</td></tr></tbody></table>"
      ],
      "text/latex": [
       "\\begin{tabular}{r|cccccc}\n",
       "\t& Province/State & Country/Region & Lat & Long & 1/22/20 & \\\\\n",
       "\t\\hline\n",
       "\t& String? & String & Float64 & Float64 & Int64 & \\\\\n",
       "\t\\hline\n",
       "\t1 & \\emph{missing} & Afghanistan & 33.9391 & 67.71 & 0 & $\\dots$ \\\\\n",
       "\t2 & \\emph{missing} & Albania & 41.1533 & 20.1683 & 0 & $\\dots$ \\\\\n",
       "\t3 & \\emph{missing} & Algeria & 28.0339 & 1.6596 & 0 & $\\dots$ \\\\\n",
       "\t4 & \\emph{missing} & Andorra & 42.5063 & 1.5218 & 0 & $\\dots$ \\\\\n",
       "\t5 & \\emph{missing} & Angola & -11.2027 & 17.8739 & 0 & $\\dots$ \\\\\n",
       "\t6 & \\emph{missing} & Antigua and Barbuda & 17.0608 & -61.7964 & 0 & $\\dots$ \\\\\n",
       "\t7 & \\emph{missing} & Argentina & -38.4161 & -63.6167 & 0 & $\\dots$ \\\\\n",
       "\t8 & \\emph{missing} & Armenia & 40.0691 & 45.0382 & 0 & $\\dots$ \\\\\n",
       "\t9 & Australian Capital Territory & Australia & -35.4735 & 149.012 & 0 & $\\dots$ \\\\\n",
       "\t10 & New South Wales & Australia & -33.8688 & 151.209 & 0 & $\\dots$ \\\\\n",
       "\t11 & Northern Territory & Australia & -12.4634 & 130.846 & 0 & $\\dots$ \\\\\n",
       "\t12 & Queensland & Australia & -27.4698 & 153.025 & 0 & $\\dots$ \\\\\n",
       "\t13 & South Australia & Australia & -34.9285 & 138.601 & 0 & $\\dots$ \\\\\n",
       "\t14 & Tasmania & Australia & -42.8821 & 147.327 & 0 & $\\dots$ \\\\\n",
       "\t15 & Victoria & Australia & -37.8136 & 144.963 & 0 & $\\dots$ \\\\\n",
       "\t16 & Western Australia & Australia & -31.9505 & 115.861 & 0 & $\\dots$ \\\\\n",
       "\t17 & \\emph{missing} & Austria & 47.5162 & 14.5501 & 0 & $\\dots$ \\\\\n",
       "\t18 & \\emph{missing} & Azerbaijan & 40.1431 & 47.5769 & 0 & $\\dots$ \\\\\n",
       "\t19 & \\emph{missing} & Bahamas & 25.0259 & -78.0359 & 0 & $\\dots$ \\\\\n",
       "\t20 & \\emph{missing} & Bahrain & 26.0275 & 50.55 & 0 & $\\dots$ \\\\\n",
       "\t21 & \\emph{missing} & Bangladesh & 23.685 & 90.3563 & 0 & $\\dots$ \\\\\n",
       "\t22 & \\emph{missing} & Barbados & 13.1939 & -59.5432 & 0 & $\\dots$ \\\\\n",
       "\t23 & \\emph{missing} & Belarus & 53.7098 & 27.9534 & 0 & $\\dots$ \\\\\n",
       "\t24 & \\emph{missing} & Belgium & 50.8333 & 4.46994 & 0 & $\\dots$ \\\\\n",
       "\t25 & \\emph{missing} & Benin & 9.3077 & 2.3158 & 0 & $\\dots$ \\\\\n",
       "\t26 & \\emph{missing} & Bhutan & 27.5142 & 90.4336 & 0 & $\\dots$ \\\\\n",
       "\t27 & \\emph{missing} & Bolivia & -16.2902 & -63.5887 & 0 & $\\dots$ \\\\\n",
       "\t28 & \\emph{missing} & Bosnia and Herzegovina & 43.9159 & 17.6791 & 0 & $\\dots$ \\\\\n",
       "\t29 & \\emph{missing} & Brazil & -14.235 & -51.9253 & 0 & $\\dots$ \\\\\n",
       "\t30 & \\emph{missing} & Brunei & 4.5353 & 114.728 & 0 & $\\dots$ \\\\\n",
       "\t$\\dots$ & $\\dots$ & $\\dots$ & $\\dots$ & $\\dots$ & $\\dots$ &  \\\\\n",
       "\\end{tabular}\n"
      ],
      "text/plain": [
       "266×194 DataFrame. Omitted printing of 191 columns\n",
       "│ Row │ Province/State                   │ Country/Region        │ Lat      │\n",
       "│     │ \u001b[90mUnion{Missing, String}\u001b[39m           │ \u001b[90mString\u001b[39m                │ \u001b[90mFloat64\u001b[39m  │\n",
       "├─────┼──────────────────────────────────┼───────────────────────┼──────────┤\n",
       "│ 1   │ \u001b[90mmissing\u001b[39m                          │ Afghanistan           │ 33.9391  │\n",
       "│ 2   │ \u001b[90mmissing\u001b[39m                          │ Albania               │ 41.1533  │\n",
       "│ 3   │ \u001b[90mmissing\u001b[39m                          │ Algeria               │ 28.0339  │\n",
       "│ 4   │ \u001b[90mmissing\u001b[39m                          │ Andorra               │ 42.5063  │\n",
       "│ 5   │ \u001b[90mmissing\u001b[39m                          │ Angola                │ -11.2027 │\n",
       "│ 6   │ \u001b[90mmissing\u001b[39m                          │ Antigua and Barbuda   │ 17.0608  │\n",
       "│ 7   │ \u001b[90mmissing\u001b[39m                          │ Argentina             │ -38.4161 │\n",
       "│ 8   │ \u001b[90mmissing\u001b[39m                          │ Armenia               │ 40.0691  │\n",
       "│ 9   │ Australian Capital Territory     │ Australia             │ -35.4735 │\n",
       "│ 10  │ New South Wales                  │ Australia             │ -33.8688 │\n",
       "⋮\n",
       "│ 256 │ Bonaire, Sint Eustatius and Saba │ Netherlands           │ 12.1784  │\n",
       "│ 257 │ \u001b[90mmissing\u001b[39m                          │ Malawi                │ -13.2543 │\n",
       "│ 258 │ Falkland Islands (Malvinas)      │ United Kingdom        │ -51.7963 │\n",
       "│ 259 │ Saint Pierre and Miquelon        │ France                │ 46.8852  │\n",
       "│ 260 │ \u001b[90mmissing\u001b[39m                          │ South Sudan           │ 6.877    │\n",
       "│ 261 │ \u001b[90mmissing\u001b[39m                          │ Western Sahara        │ 24.2155  │\n",
       "│ 262 │ \u001b[90mmissing\u001b[39m                          │ Sao Tome and Principe │ 0.1864   │\n",
       "│ 263 │ \u001b[90mmissing\u001b[39m                          │ Yemen                 │ 15.5527  │\n",
       "│ 264 │ \u001b[90mmissing\u001b[39m                          │ Comoros               │ -11.6455 │\n",
       "│ 265 │ \u001b[90mmissing\u001b[39m                          │ Tajikistan            │ 38.861   │\n",
       "│ 266 │ \u001b[90mmissing\u001b[39m                          │ Lesotho               │ -29.61   │"
      ]
     },
     "execution_count": 4,
     "metadata": {},
     "output_type": "execute_result"
    }
   ],
   "source": [
    "# Load our Datasets\n",
    "confirmed_df = CSV.read(download(confirmed_cases_url))\n",
    "recovered_df = CSV.read(download(recovered_cases_url))\n",
    "death_df = CSV.read(download(death_cases_url))"
   ]
  },
  {
   "cell_type": "code",
   "execution_count": 5,
   "metadata": {},
   "outputs": [
    {
     "data": {
      "text/html": [
       "<table class=\"data-frame\"><thead><tr><th></th><th>Province/State</th><th>Country/Region</th><th>Lat</th><th>Long</th><th>1/22/20</th></tr><tr><th></th><th>String?</th><th>String</th><th>Float64</th><th>Float64</th><th>Int64</th></tr></thead><tbody><p>10 rows × 194 columns (omitted printing of 189 columns)</p><tr><th>1</th><td><em>missing</em></td><td>Afghanistan</td><td>33.9391</td><td>67.71</td><td>0</td></tr><tr><th>2</th><td><em>missing</em></td><td>Albania</td><td>41.1533</td><td>20.1683</td><td>0</td></tr><tr><th>3</th><td><em>missing</em></td><td>Algeria</td><td>28.0339</td><td>1.6596</td><td>0</td></tr><tr><th>4</th><td><em>missing</em></td><td>Andorra</td><td>42.5063</td><td>1.5218</td><td>0</td></tr><tr><th>5</th><td><em>missing</em></td><td>Angola</td><td>-11.2027</td><td>17.8739</td><td>0</td></tr><tr><th>6</th><td><em>missing</em></td><td>Antigua and Barbuda</td><td>17.0608</td><td>-61.7964</td><td>0</td></tr><tr><th>7</th><td><em>missing</em></td><td>Argentina</td><td>-38.4161</td><td>-63.6167</td><td>0</td></tr><tr><th>8</th><td><em>missing</em></td><td>Armenia</td><td>40.0691</td><td>45.0382</td><td>0</td></tr><tr><th>9</th><td>Australian Capital Territory</td><td>Australia</td><td>-35.4735</td><td>149.012</td><td>0</td></tr><tr><th>10</th><td>New South Wales</td><td>Australia</td><td>-33.8688</td><td>151.209</td><td>0</td></tr></tbody></table>"
      ],
      "text/latex": [
       "\\begin{tabular}{r|cccccc}\n",
       "\t& Province/State & Country/Region & Lat & Long & 1/22/20 & \\\\\n",
       "\t\\hline\n",
       "\t& String? & String & Float64 & Float64 & Int64 & \\\\\n",
       "\t\\hline\n",
       "\t1 & \\emph{missing} & Afghanistan & 33.9391 & 67.71 & 0 & $\\dots$ \\\\\n",
       "\t2 & \\emph{missing} & Albania & 41.1533 & 20.1683 & 0 & $\\dots$ \\\\\n",
       "\t3 & \\emph{missing} & Algeria & 28.0339 & 1.6596 & 0 & $\\dots$ \\\\\n",
       "\t4 & \\emph{missing} & Andorra & 42.5063 & 1.5218 & 0 & $\\dots$ \\\\\n",
       "\t5 & \\emph{missing} & Angola & -11.2027 & 17.8739 & 0 & $\\dots$ \\\\\n",
       "\t6 & \\emph{missing} & Antigua and Barbuda & 17.0608 & -61.7964 & 0 & $\\dots$ \\\\\n",
       "\t7 & \\emph{missing} & Argentina & -38.4161 & -63.6167 & 0 & $\\dots$ \\\\\n",
       "\t8 & \\emph{missing} & Armenia & 40.0691 & 45.0382 & 0 & $\\dots$ \\\\\n",
       "\t9 & Australian Capital Territory & Australia & -35.4735 & 149.012 & 0 & $\\dots$ \\\\\n",
       "\t10 & New South Wales & Australia & -33.8688 & 151.209 & 0 & $\\dots$ \\\\\n",
       "\\end{tabular}\n"
      ],
      "text/plain": [
       "10×194 DataFrame. Omitted printing of 191 columns\n",
       "│ Row │ Province/State               │ Country/Region      │ Lat      │\n",
       "│     │ \u001b[90mUnion{Missing, String}\u001b[39m       │ \u001b[90mString\u001b[39m              │ \u001b[90mFloat64\u001b[39m  │\n",
       "├─────┼──────────────────────────────┼─────────────────────┼──────────┤\n",
       "│ 1   │ \u001b[90mmissing\u001b[39m                      │ Afghanistan         │ 33.9391  │\n",
       "│ 2   │ \u001b[90mmissing\u001b[39m                      │ Albania             │ 41.1533  │\n",
       "│ 3   │ \u001b[90mmissing\u001b[39m                      │ Algeria             │ 28.0339  │\n",
       "│ 4   │ \u001b[90mmissing\u001b[39m                      │ Andorra             │ 42.5063  │\n",
       "│ 5   │ \u001b[90mmissing\u001b[39m                      │ Angola              │ -11.2027 │\n",
       "│ 6   │ \u001b[90mmissing\u001b[39m                      │ Antigua and Barbuda │ 17.0608  │\n",
       "│ 7   │ \u001b[90mmissing\u001b[39m                      │ Argentina           │ -38.4161 │\n",
       "│ 8   │ \u001b[90mmissing\u001b[39m                      │ Armenia             │ 40.0691  │\n",
       "│ 9   │ Australian Capital Territory │ Australia           │ -35.4735 │\n",
       "│ 10  │ New South Wales              │ Australia           │ -33.8688 │"
      ]
     },
     "execution_count": 5,
     "metadata": {},
     "output_type": "execute_result"
    }
   ],
   "source": [
    "# First 10 rows\n",
    "#head() Deprecated\n",
    "first(confirmed_df,10)"
   ]
  },
  {
   "cell_type": "code",
   "execution_count": 6,
   "metadata": {},
   "outputs": [
    {
     "data": {
      "text/html": [
       "<table class=\"data-frame\"><thead><tr><th></th><th>Province/State</th><th>Country/Region</th><th>Lat</th><th>Long</th><th>1/22/20</th></tr><tr><th></th><th>String?</th><th>String</th><th>Float64</th><th>Float64</th><th>Int64</th></tr></thead><tbody><p>10 rows × 194 columns (omitted printing of 189 columns)</p><tr><th>1</th><td><em>missing</em></td><td>Malawi</td><td>-13.2543</td><td>34.3015</td><td>0</td></tr><tr><th>2</th><td>Falkland Islands (Malvinas)</td><td>United Kingdom</td><td>-51.7963</td><td>-59.5236</td><td>0</td></tr><tr><th>3</th><td>Saint Pierre and Miquelon</td><td>France</td><td>46.8852</td><td>-56.3159</td><td>0</td></tr><tr><th>4</th><td><em>missing</em></td><td>South Sudan</td><td>6.877</td><td>31.307</td><td>0</td></tr><tr><th>5</th><td><em>missing</em></td><td>Western Sahara</td><td>24.2155</td><td>-12.8858</td><td>0</td></tr><tr><th>6</th><td><em>missing</em></td><td>Sao Tome and Principe</td><td>0.1864</td><td>6.6131</td><td>0</td></tr><tr><th>7</th><td><em>missing</em></td><td>Yemen</td><td>15.5527</td><td>48.5164</td><td>0</td></tr><tr><th>8</th><td><em>missing</em></td><td>Comoros</td><td>-11.6455</td><td>43.3333</td><td>0</td></tr><tr><th>9</th><td><em>missing</em></td><td>Tajikistan</td><td>38.861</td><td>71.2761</td><td>0</td></tr><tr><th>10</th><td><em>missing</em></td><td>Lesotho</td><td>-29.61</td><td>28.2336</td><td>0</td></tr></tbody></table>"
      ],
      "text/latex": [
       "\\begin{tabular}{r|cccccc}\n",
       "\t& Province/State & Country/Region & Lat & Long & 1/22/20 & \\\\\n",
       "\t\\hline\n",
       "\t& String? & String & Float64 & Float64 & Int64 & \\\\\n",
       "\t\\hline\n",
       "\t1 & \\emph{missing} & Malawi & -13.2543 & 34.3015 & 0 & $\\dots$ \\\\\n",
       "\t2 & Falkland Islands (Malvinas) & United Kingdom & -51.7963 & -59.5236 & 0 & $\\dots$ \\\\\n",
       "\t3 & Saint Pierre and Miquelon & France & 46.8852 & -56.3159 & 0 & $\\dots$ \\\\\n",
       "\t4 & \\emph{missing} & South Sudan & 6.877 & 31.307 & 0 & $\\dots$ \\\\\n",
       "\t5 & \\emph{missing} & Western Sahara & 24.2155 & -12.8858 & 0 & $\\dots$ \\\\\n",
       "\t6 & \\emph{missing} & Sao Tome and Principe & 0.1864 & 6.6131 & 0 & $\\dots$ \\\\\n",
       "\t7 & \\emph{missing} & Yemen & 15.5527 & 48.5164 & 0 & $\\dots$ \\\\\n",
       "\t8 & \\emph{missing} & Comoros & -11.6455 & 43.3333 & 0 & $\\dots$ \\\\\n",
       "\t9 & \\emph{missing} & Tajikistan & 38.861 & 71.2761 & 0 & $\\dots$ \\\\\n",
       "\t10 & \\emph{missing} & Lesotho & -29.61 & 28.2336 & 0 & $\\dots$ \\\\\n",
       "\\end{tabular}\n"
      ],
      "text/plain": [
       "10×194 DataFrame. Omitted printing of 191 columns\n",
       "│ Row │ Province/State              │ Country/Region        │ Lat      │\n",
       "│     │ \u001b[90mUnion{Missing, String}\u001b[39m      │ \u001b[90mString\u001b[39m                │ \u001b[90mFloat64\u001b[39m  │\n",
       "├─────┼─────────────────────────────┼───────────────────────┼──────────┤\n",
       "│ 1   │ \u001b[90mmissing\u001b[39m                     │ Malawi                │ -13.2543 │\n",
       "│ 2   │ Falkland Islands (Malvinas) │ United Kingdom        │ -51.7963 │\n",
       "│ 3   │ Saint Pierre and Miquelon   │ France                │ 46.8852  │\n",
       "│ 4   │ \u001b[90mmissing\u001b[39m                     │ South Sudan           │ 6.877    │\n",
       "│ 5   │ \u001b[90mmissing\u001b[39m                     │ Western Sahara        │ 24.2155  │\n",
       "│ 6   │ \u001b[90mmissing\u001b[39m                     │ Sao Tome and Principe │ 0.1864   │\n",
       "│ 7   │ \u001b[90mmissing\u001b[39m                     │ Yemen                 │ 15.5527  │\n",
       "│ 8   │ \u001b[90mmissing\u001b[39m                     │ Comoros               │ -11.6455 │\n",
       "│ 9   │ \u001b[90mmissing\u001b[39m                     │ Tajikistan            │ 38.861   │\n",
       "│ 10  │ \u001b[90mmissing\u001b[39m                     │ Lesotho               │ -29.61   │"
      ]
     },
     "execution_count": 6,
     "metadata": {},
     "output_type": "execute_result"
    }
   ],
   "source": [
    "# Last Rows\n",
    "last(confirmed_df,10)"
   ]
  },
  {
   "cell_type": "code",
   "execution_count": 7,
   "metadata": {},
   "outputs": [
    {
     "data": {
      "text/plain": [
       "194-element Array{String,1}:\n",
       " \"Province/State\"\n",
       " \"Country/Region\"\n",
       " \"Lat\"\n",
       " \"Long\"\n",
       " \"1/22/20\"\n",
       " \"1/23/20\"\n",
       " \"1/24/20\"\n",
       " \"1/25/20\"\n",
       " \"1/26/20\"\n",
       " \"1/27/20\"\n",
       " \"1/28/20\"\n",
       " \"1/29/20\"\n",
       " \"1/30/20\"\n",
       " ⋮\n",
       " \"7/18/20\"\n",
       " \"7/19/20\"\n",
       " \"7/20/20\"\n",
       " \"7/21/20\"\n",
       " \"7/22/20\"\n",
       " \"7/23/20\"\n",
       " \"7/24/20\"\n",
       " \"7/25/20\"\n",
       " \"7/26/20\"\n",
       " \"7/27/20\"\n",
       " \"7/28/20\"\n",
       " \"7/29/20\""
      ]
     },
     "execution_count": 7,
     "metadata": {},
     "output_type": "execute_result"
    }
   ],
   "source": [
    "# Columns \n",
    "names(confirmed_df)"
   ]
  },
  {
   "cell_type": "code",
   "execution_count": 8,
   "metadata": {},
   "outputs": [
    {
     "data": {
      "text/plain": [
       "(266, 194)"
      ]
     },
     "execution_count": 8,
     "metadata": {},
     "output_type": "execute_result"
    }
   ],
   "source": [
    "size(confirmed_df)"
   ]
  },
  {
   "cell_type": "code",
   "execution_count": 9,
   "metadata": {},
   "outputs": [
    {
     "data": {
      "text/plain": [
       "(253, 194)"
      ]
     },
     "execution_count": 9,
     "metadata": {},
     "output_type": "execute_result"
    }
   ],
   "source": [
    "size(recovered_df)"
   ]
  },
  {
   "cell_type": "code",
   "execution_count": 10,
   "metadata": {},
   "outputs": [
    {
     "data": {
      "text/plain": [
       "(266, 194)"
      ]
     },
     "execution_count": 10,
     "metadata": {},
     "output_type": "execute_result"
    }
   ],
   "source": [
    "size(death_df)"
   ]
  },
  {
   "cell_type": "code",
   "execution_count": 11,
   "metadata": {},
   "outputs": [],
   "source": [
    "# Restrcuture of DF\n"
   ]
  },
  {
   "cell_type": "code",
   "execution_count": 12,
   "metadata": {},
   "outputs": [
    {
     "data": {
      "text/plain": [
       "1093-element Array{Symbol,1}:\n",
       " Symbol(\"##DataFrame!#149\")\n",
       " Symbol(\"##DataFrame!#150\")\n",
       " Symbol(\"##DataFrame!#151\")\n",
       " Symbol(\"##DataFrame#125\")\n",
       " Symbol(\"##DataFrame#126\")\n",
       " Symbol(\"##DataFrame#129\")\n",
       " Symbol(\"##DataFrame#132\")\n",
       " Symbol(\"##DataFrame#133\")\n",
       " Symbol(\"##DataFrame#134\")\n",
       " Symbol(\"##DataFrame#135\")\n",
       " Symbol(\"##DataFrame#136\")\n",
       " Symbol(\"##DataFrame#139\")\n",
       " Symbol(\"##DataFrame#140\")\n",
       " ⋮\n",
       " :transform!\n",
       " :uncompact\n",
       " :unique!\n",
       " :unstack\n",
       " :update_row_maps!\n",
       " :uppercase\n",
       " :uppercasefirst\n",
       " :valuecols\n",
       " :view\n",
       " :wrap\n",
       " :wrap_row\n",
       " :wrap_table"
      ]
     },
     "execution_count": 12,
     "metadata": {},
     "output_type": "execute_result"
    }
   ],
   "source": [
    "#dir()\n",
    "names(DataFrames, all=true)"
   ]
  },
  {
   "cell_type": "code",
   "execution_count": 13,
   "metadata": {},
   "outputs": [
    {
     "data": {
      "text/plain": [
       "true"
      ]
     },
     "execution_count": 13,
     "metadata": {},
     "output_type": "execute_result"
    }
   ],
   "source": [
    "# check for melt\n",
    ":melt in names(DataFrames, all=true)"
   ]
  },
  {
   "cell_type": "code",
   "execution_count": 14,
   "metadata": {},
   "outputs": [
    {
     "data": {
      "text/plain": [
       "194-element Array{String,1}:\n",
       " \"Province/State\"\n",
       " \"Country/Region\"\n",
       " \"Lat\"\n",
       " \"Long\"\n",
       " \"1/22/20\"\n",
       " \"1/23/20\"\n",
       " \"1/24/20\"\n",
       " \"1/25/20\"\n",
       " \"1/26/20\"\n",
       " \"1/27/20\"\n",
       " \"1/28/20\"\n",
       " \"1/29/20\"\n",
       " \"1/30/20\"\n",
       " ⋮\n",
       " \"7/18/20\"\n",
       " \"7/19/20\"\n",
       " \"7/20/20\"\n",
       " \"7/21/20\"\n",
       " \"7/22/20\"\n",
       " \"7/23/20\"\n",
       " \"7/24/20\"\n",
       " \"7/25/20\"\n",
       " \"7/26/20\"\n",
       " \"7/27/20\"\n",
       " \"7/28/20\"\n",
       " \"7/29/20\""
      ]
     },
     "execution_count": 14,
     "metadata": {},
     "output_type": "execute_result"
    }
   ],
   "source": [
    "names(confirmed_df)"
   ]
  },
  {
   "cell_type": "code",
   "execution_count": 16,
   "metadata": {},
   "outputs": [
    {
     "name": "stderr",
     "output_type": "stream",
     "text": [
      "┌ Warning: `melt(df::AbstractDataFrame, id_vars; variable_name::Symbol = :variable, value_name::Symbol = :value, view::Bool = false)` is deprecated, use `stack(df, Not(id_vars); variable_name = variable_name, value_name = value_name, view = view)` instead.\n",
      "│   caller = top-level scope at In[16]:1\n",
      "└ @ Core In[16]:1\n"
     ]
    },
    {
     "data": {
      "text/html": [
       "<table class=\"data-frame\"><thead><tr><th></th><th>Province/State</th><th>Country/Region</th><th>Lat</th><th>Long</th><th>variable</th></tr><tr><th></th><th>String?</th><th>String</th><th>Float64</th><th>Float64</th><th>Cat…</th></tr></thead><tbody><p>50,540 rows × 6 columns (omitted printing of 1 columns)</p><tr><th>1</th><td><em>missing</em></td><td>Afghanistan</td><td>33.9391</td><td>67.71</td><td>1/22/20</td></tr><tr><th>2</th><td><em>missing</em></td><td>Albania</td><td>41.1533</td><td>20.1683</td><td>1/22/20</td></tr><tr><th>3</th><td><em>missing</em></td><td>Algeria</td><td>28.0339</td><td>1.6596</td><td>1/22/20</td></tr><tr><th>4</th><td><em>missing</em></td><td>Andorra</td><td>42.5063</td><td>1.5218</td><td>1/22/20</td></tr><tr><th>5</th><td><em>missing</em></td><td>Angola</td><td>-11.2027</td><td>17.8739</td><td>1/22/20</td></tr><tr><th>6</th><td><em>missing</em></td><td>Antigua and Barbuda</td><td>17.0608</td><td>-61.7964</td><td>1/22/20</td></tr><tr><th>7</th><td><em>missing</em></td><td>Argentina</td><td>-38.4161</td><td>-63.6167</td><td>1/22/20</td></tr><tr><th>8</th><td><em>missing</em></td><td>Armenia</td><td>40.0691</td><td>45.0382</td><td>1/22/20</td></tr><tr><th>9</th><td>Australian Capital Territory</td><td>Australia</td><td>-35.4735</td><td>149.012</td><td>1/22/20</td></tr><tr><th>10</th><td>New South Wales</td><td>Australia</td><td>-33.8688</td><td>151.209</td><td>1/22/20</td></tr><tr><th>11</th><td>Northern Territory</td><td>Australia</td><td>-12.4634</td><td>130.846</td><td>1/22/20</td></tr><tr><th>12</th><td>Queensland</td><td>Australia</td><td>-27.4698</td><td>153.025</td><td>1/22/20</td></tr><tr><th>13</th><td>South Australia</td><td>Australia</td><td>-34.9285</td><td>138.601</td><td>1/22/20</td></tr><tr><th>14</th><td>Tasmania</td><td>Australia</td><td>-42.8821</td><td>147.327</td><td>1/22/20</td></tr><tr><th>15</th><td>Victoria</td><td>Australia</td><td>-37.8136</td><td>144.963</td><td>1/22/20</td></tr><tr><th>16</th><td>Western Australia</td><td>Australia</td><td>-31.9505</td><td>115.861</td><td>1/22/20</td></tr><tr><th>17</th><td><em>missing</em></td><td>Austria</td><td>47.5162</td><td>14.5501</td><td>1/22/20</td></tr><tr><th>18</th><td><em>missing</em></td><td>Azerbaijan</td><td>40.1431</td><td>47.5769</td><td>1/22/20</td></tr><tr><th>19</th><td><em>missing</em></td><td>Bahamas</td><td>25.0259</td><td>-78.0359</td><td>1/22/20</td></tr><tr><th>20</th><td><em>missing</em></td><td>Bahrain</td><td>26.0275</td><td>50.55</td><td>1/22/20</td></tr><tr><th>21</th><td><em>missing</em></td><td>Bangladesh</td><td>23.685</td><td>90.3563</td><td>1/22/20</td></tr><tr><th>22</th><td><em>missing</em></td><td>Barbados</td><td>13.1939</td><td>-59.5432</td><td>1/22/20</td></tr><tr><th>23</th><td><em>missing</em></td><td>Belarus</td><td>53.7098</td><td>27.9534</td><td>1/22/20</td></tr><tr><th>24</th><td><em>missing</em></td><td>Belgium</td><td>50.8333</td><td>4.46994</td><td>1/22/20</td></tr><tr><th>25</th><td><em>missing</em></td><td>Benin</td><td>9.3077</td><td>2.3158</td><td>1/22/20</td></tr><tr><th>26</th><td><em>missing</em></td><td>Bhutan</td><td>27.5142</td><td>90.4336</td><td>1/22/20</td></tr><tr><th>27</th><td><em>missing</em></td><td>Bolivia</td><td>-16.2902</td><td>-63.5887</td><td>1/22/20</td></tr><tr><th>28</th><td><em>missing</em></td><td>Bosnia and Herzegovina</td><td>43.9159</td><td>17.6791</td><td>1/22/20</td></tr><tr><th>29</th><td><em>missing</em></td><td>Brazil</td><td>-14.235</td><td>-51.9253</td><td>1/22/20</td></tr><tr><th>30</th><td><em>missing</em></td><td>Brunei</td><td>4.5353</td><td>114.728</td><td>1/22/20</td></tr><tr><th>&vellip;</th><td>&vellip;</td><td>&vellip;</td><td>&vellip;</td><td>&vellip;</td><td>&vellip;</td></tr></tbody></table>"
      ],
      "text/latex": [
       "\\begin{tabular}{r|cccccc}\n",
       "\t& Province/State & Country/Region & Lat & Long & variable & \\\\\n",
       "\t\\hline\n",
       "\t& String? & String & Float64 & Float64 & Cat… & \\\\\n",
       "\t\\hline\n",
       "\t1 & \\emph{missing} & Afghanistan & 33.9391 & 67.71 & 1/22/20 & $\\dots$ \\\\\n",
       "\t2 & \\emph{missing} & Albania & 41.1533 & 20.1683 & 1/22/20 & $\\dots$ \\\\\n",
       "\t3 & \\emph{missing} & Algeria & 28.0339 & 1.6596 & 1/22/20 & $\\dots$ \\\\\n",
       "\t4 & \\emph{missing} & Andorra & 42.5063 & 1.5218 & 1/22/20 & $\\dots$ \\\\\n",
       "\t5 & \\emph{missing} & Angola & -11.2027 & 17.8739 & 1/22/20 & $\\dots$ \\\\\n",
       "\t6 & \\emph{missing} & Antigua and Barbuda & 17.0608 & -61.7964 & 1/22/20 & $\\dots$ \\\\\n",
       "\t7 & \\emph{missing} & Argentina & -38.4161 & -63.6167 & 1/22/20 & $\\dots$ \\\\\n",
       "\t8 & \\emph{missing} & Armenia & 40.0691 & 45.0382 & 1/22/20 & $\\dots$ \\\\\n",
       "\t9 & Australian Capital Territory & Australia & -35.4735 & 149.012 & 1/22/20 & $\\dots$ \\\\\n",
       "\t10 & New South Wales & Australia & -33.8688 & 151.209 & 1/22/20 & $\\dots$ \\\\\n",
       "\t11 & Northern Territory & Australia & -12.4634 & 130.846 & 1/22/20 & $\\dots$ \\\\\n",
       "\t12 & Queensland & Australia & -27.4698 & 153.025 & 1/22/20 & $\\dots$ \\\\\n",
       "\t13 & South Australia & Australia & -34.9285 & 138.601 & 1/22/20 & $\\dots$ \\\\\n",
       "\t14 & Tasmania & Australia & -42.8821 & 147.327 & 1/22/20 & $\\dots$ \\\\\n",
       "\t15 & Victoria & Australia & -37.8136 & 144.963 & 1/22/20 & $\\dots$ \\\\\n",
       "\t16 & Western Australia & Australia & -31.9505 & 115.861 & 1/22/20 & $\\dots$ \\\\\n",
       "\t17 & \\emph{missing} & Austria & 47.5162 & 14.5501 & 1/22/20 & $\\dots$ \\\\\n",
       "\t18 & \\emph{missing} & Azerbaijan & 40.1431 & 47.5769 & 1/22/20 & $\\dots$ \\\\\n",
       "\t19 & \\emph{missing} & Bahamas & 25.0259 & -78.0359 & 1/22/20 & $\\dots$ \\\\\n",
       "\t20 & \\emph{missing} & Bahrain & 26.0275 & 50.55 & 1/22/20 & $\\dots$ \\\\\n",
       "\t21 & \\emph{missing} & Bangladesh & 23.685 & 90.3563 & 1/22/20 & $\\dots$ \\\\\n",
       "\t22 & \\emph{missing} & Barbados & 13.1939 & -59.5432 & 1/22/20 & $\\dots$ \\\\\n",
       "\t23 & \\emph{missing} & Belarus & 53.7098 & 27.9534 & 1/22/20 & $\\dots$ \\\\\n",
       "\t24 & \\emph{missing} & Belgium & 50.8333 & 4.46994 & 1/22/20 & $\\dots$ \\\\\n",
       "\t25 & \\emph{missing} & Benin & 9.3077 & 2.3158 & 1/22/20 & $\\dots$ \\\\\n",
       "\t26 & \\emph{missing} & Bhutan & 27.5142 & 90.4336 & 1/22/20 & $\\dots$ \\\\\n",
       "\t27 & \\emph{missing} & Bolivia & -16.2902 & -63.5887 & 1/22/20 & $\\dots$ \\\\\n",
       "\t28 & \\emph{missing} & Bosnia and Herzegovina & 43.9159 & 17.6791 & 1/22/20 & $\\dots$ \\\\\n",
       "\t29 & \\emph{missing} & Brazil & -14.235 & -51.9253 & 1/22/20 & $\\dots$ \\\\\n",
       "\t30 & \\emph{missing} & Brunei & 4.5353 & 114.728 & 1/22/20 & $\\dots$ \\\\\n",
       "\t$\\dots$ & $\\dots$ & $\\dots$ & $\\dots$ & $\\dots$ & $\\dots$ &  \\\\\n",
       "\\end{tabular}\n"
      ],
      "text/plain": [
       "50540×6 DataFrame. Omitted printing of 3 columns\n",
       "│ Row   │ Province/State                   │ Country/Region        │ Lat      │\n",
       "│       │ \u001b[90mUnion{Missing, String}\u001b[39m           │ \u001b[90mString\u001b[39m                │ \u001b[90mFloat64\u001b[39m  │\n",
       "├───────┼──────────────────────────────────┼───────────────────────┼──────────┤\n",
       "│ 1     │ \u001b[90mmissing\u001b[39m                          │ Afghanistan           │ 33.9391  │\n",
       "│ 2     │ \u001b[90mmissing\u001b[39m                          │ Albania               │ 41.1533  │\n",
       "│ 3     │ \u001b[90mmissing\u001b[39m                          │ Algeria               │ 28.0339  │\n",
       "│ 4     │ \u001b[90mmissing\u001b[39m                          │ Andorra               │ 42.5063  │\n",
       "│ 5     │ \u001b[90mmissing\u001b[39m                          │ Angola                │ -11.2027 │\n",
       "│ 6     │ \u001b[90mmissing\u001b[39m                          │ Antigua and Barbuda   │ 17.0608  │\n",
       "│ 7     │ \u001b[90mmissing\u001b[39m                          │ Argentina             │ -38.4161 │\n",
       "│ 8     │ \u001b[90mmissing\u001b[39m                          │ Armenia               │ 40.0691  │\n",
       "│ 9     │ Australian Capital Territory     │ Australia             │ -35.4735 │\n",
       "│ 10    │ New South Wales                  │ Australia             │ -33.8688 │\n",
       "⋮\n",
       "│ 50530 │ Bonaire, Sint Eustatius and Saba │ Netherlands           │ 12.1784  │\n",
       "│ 50531 │ \u001b[90mmissing\u001b[39m                          │ Malawi                │ -13.2543 │\n",
       "│ 50532 │ Falkland Islands (Malvinas)      │ United Kingdom        │ -51.7963 │\n",
       "│ 50533 │ Saint Pierre and Miquelon        │ France                │ 46.8852  │\n",
       "│ 50534 │ \u001b[90mmissing\u001b[39m                          │ South Sudan           │ 6.877    │\n",
       "│ 50535 │ \u001b[90mmissing\u001b[39m                          │ Western Sahara        │ 24.2155  │\n",
       "│ 50536 │ \u001b[90mmissing\u001b[39m                          │ Sao Tome and Principe │ 0.1864   │\n",
       "│ 50537 │ \u001b[90mmissing\u001b[39m                          │ Yemen                 │ 15.5527  │\n",
       "│ 50538 │ \u001b[90mmissing\u001b[39m                          │ Comoros               │ -11.6455 │\n",
       "│ 50539 │ \u001b[90mmissing\u001b[39m                          │ Tajikistan            │ 38.861   │\n",
       "│ 50540 │ \u001b[90mmissing\u001b[39m                          │ Lesotho               │ -29.61   │"
      ]
     },
     "execution_count": 16,
     "metadata": {},
     "output_type": "execute_result"
    }
   ],
   "source": [
    "melt(confirmed_df,[Symbol(\"Province/State\"), Symbol(\"Country/Region\"), :Lat, :Long])"
   ]
  },
  {
   "cell_type": "code",
   "execution_count": 17,
   "metadata": {},
   "outputs": [
    {
     "data": {
      "text/html": [
       "<table class=\"data-frame\"><thead><tr><th></th><th>1/22/20</th><th>1/23/20</th><th>1/24/20</th><th>1/25/20</th><th>1/26/20</th><th>1/27/20</th><th>1/28/20</th><th>1/29/20</th><th>1/30/20</th></tr><tr><th></th><th>Int64</th><th>Int64</th><th>Int64</th><th>Int64</th><th>Int64</th><th>Int64</th><th>Int64</th><th>Int64</th><th>Int64</th></tr></thead><tbody><p>1,064 rows × 192 columns (omitted printing of 183 columns)</p><tr><th>1</th><td>0</td><td>0</td><td>0</td><td>0</td><td>0</td><td>0</td><td>0</td><td>0</td><td>0</td></tr><tr><th>2</th><td>0</td><td>0</td><td>0</td><td>0</td><td>0</td><td>0</td><td>0</td><td>0</td><td>0</td></tr><tr><th>3</th><td>0</td><td>0</td><td>0</td><td>0</td><td>0</td><td>0</td><td>0</td><td>0</td><td>0</td></tr><tr><th>4</th><td>0</td><td>0</td><td>0</td><td>0</td><td>0</td><td>0</td><td>0</td><td>0</td><td>0</td></tr><tr><th>5</th><td>0</td><td>0</td><td>0</td><td>0</td><td>0</td><td>0</td><td>0</td><td>0</td><td>0</td></tr><tr><th>6</th><td>0</td><td>0</td><td>0</td><td>0</td><td>0</td><td>0</td><td>0</td><td>0</td><td>0</td></tr><tr><th>7</th><td>0</td><td>0</td><td>0</td><td>0</td><td>0</td><td>0</td><td>0</td><td>0</td><td>0</td></tr><tr><th>8</th><td>0</td><td>0</td><td>0</td><td>0</td><td>0</td><td>0</td><td>0</td><td>0</td><td>0</td></tr><tr><th>9</th><td>0</td><td>0</td><td>0</td><td>0</td><td>0</td><td>0</td><td>0</td><td>0</td><td>0</td></tr><tr><th>10</th><td>0</td><td>0</td><td>0</td><td>0</td><td>3</td><td>4</td><td>4</td><td>4</td><td>4</td></tr><tr><th>11</th><td>0</td><td>0</td><td>0</td><td>0</td><td>0</td><td>0</td><td>0</td><td>0</td><td>0</td></tr><tr><th>12</th><td>0</td><td>0</td><td>0</td><td>0</td><td>0</td><td>0</td><td>0</td><td>1</td><td>3</td></tr><tr><th>13</th><td>0</td><td>0</td><td>0</td><td>0</td><td>0</td><td>0</td><td>0</td><td>0</td><td>0</td></tr><tr><th>14</th><td>0</td><td>0</td><td>0</td><td>0</td><td>0</td><td>0</td><td>0</td><td>0</td><td>0</td></tr><tr><th>15</th><td>0</td><td>0</td><td>0</td><td>0</td><td>1</td><td>1</td><td>1</td><td>1</td><td>2</td></tr><tr><th>16</th><td>0</td><td>0</td><td>0</td><td>0</td><td>0</td><td>0</td><td>0</td><td>0</td><td>0</td></tr><tr><th>17</th><td>0</td><td>0</td><td>0</td><td>0</td><td>0</td><td>0</td><td>0</td><td>0</td><td>0</td></tr><tr><th>18</th><td>0</td><td>0</td><td>0</td><td>0</td><td>0</td><td>0</td><td>0</td><td>0</td><td>0</td></tr><tr><th>19</th><td>0</td><td>0</td><td>0</td><td>0</td><td>0</td><td>0</td><td>0</td><td>0</td><td>0</td></tr><tr><th>20</th><td>0</td><td>0</td><td>0</td><td>0</td><td>0</td><td>0</td><td>0</td><td>0</td><td>0</td></tr><tr><th>21</th><td>0</td><td>0</td><td>0</td><td>0</td><td>0</td><td>0</td><td>0</td><td>0</td><td>0</td></tr><tr><th>22</th><td>0</td><td>0</td><td>0</td><td>0</td><td>0</td><td>0</td><td>0</td><td>0</td><td>0</td></tr><tr><th>23</th><td>0</td><td>0</td><td>0</td><td>0</td><td>0</td><td>0</td><td>0</td><td>0</td><td>0</td></tr><tr><th>24</th><td>0</td><td>0</td><td>0</td><td>0</td><td>0</td><td>0</td><td>0</td><td>0</td><td>0</td></tr><tr><th>25</th><td>0</td><td>0</td><td>0</td><td>0</td><td>0</td><td>0</td><td>0</td><td>0</td><td>0</td></tr><tr><th>26</th><td>0</td><td>0</td><td>0</td><td>0</td><td>0</td><td>0</td><td>0</td><td>0</td><td>0</td></tr><tr><th>27</th><td>0</td><td>0</td><td>0</td><td>0</td><td>0</td><td>0</td><td>0</td><td>0</td><td>0</td></tr><tr><th>28</th><td>0</td><td>0</td><td>0</td><td>0</td><td>0</td><td>0</td><td>0</td><td>0</td><td>0</td></tr><tr><th>29</th><td>0</td><td>0</td><td>0</td><td>0</td><td>0</td><td>0</td><td>0</td><td>0</td><td>0</td></tr><tr><th>30</th><td>0</td><td>0</td><td>0</td><td>0</td><td>0</td><td>0</td><td>0</td><td>0</td><td>0</td></tr><tr><th>&vellip;</th><td>&vellip;</td><td>&vellip;</td><td>&vellip;</td><td>&vellip;</td><td>&vellip;</td><td>&vellip;</td><td>&vellip;</td><td>&vellip;</td><td>&vellip;</td></tr></tbody></table>"
      ],
      "text/latex": [
       "\\begin{tabular}{r|cccccccccc}\n",
       "\t& 1/22/20 & 1/23/20 & 1/24/20 & 1/25/20 & 1/26/20 & 1/27/20 & 1/28/20 & 1/29/20 & 1/30/20 & \\\\\n",
       "\t\\hline\n",
       "\t& Int64 & Int64 & Int64 & Int64 & Int64 & Int64 & Int64 & Int64 & Int64 & \\\\\n",
       "\t\\hline\n",
       "\t1 & 0 & 0 & 0 & 0 & 0 & 0 & 0 & 0 & 0 & $\\dots$ \\\\\n",
       "\t2 & 0 & 0 & 0 & 0 & 0 & 0 & 0 & 0 & 0 & $\\dots$ \\\\\n",
       "\t3 & 0 & 0 & 0 & 0 & 0 & 0 & 0 & 0 & 0 & $\\dots$ \\\\\n",
       "\t4 & 0 & 0 & 0 & 0 & 0 & 0 & 0 & 0 & 0 & $\\dots$ \\\\\n",
       "\t5 & 0 & 0 & 0 & 0 & 0 & 0 & 0 & 0 & 0 & $\\dots$ \\\\\n",
       "\t6 & 0 & 0 & 0 & 0 & 0 & 0 & 0 & 0 & 0 & $\\dots$ \\\\\n",
       "\t7 & 0 & 0 & 0 & 0 & 0 & 0 & 0 & 0 & 0 & $\\dots$ \\\\\n",
       "\t8 & 0 & 0 & 0 & 0 & 0 & 0 & 0 & 0 & 0 & $\\dots$ \\\\\n",
       "\t9 & 0 & 0 & 0 & 0 & 0 & 0 & 0 & 0 & 0 & $\\dots$ \\\\\n",
       "\t10 & 0 & 0 & 0 & 0 & 3 & 4 & 4 & 4 & 4 & $\\dots$ \\\\\n",
       "\t11 & 0 & 0 & 0 & 0 & 0 & 0 & 0 & 0 & 0 & $\\dots$ \\\\\n",
       "\t12 & 0 & 0 & 0 & 0 & 0 & 0 & 0 & 1 & 3 & $\\dots$ \\\\\n",
       "\t13 & 0 & 0 & 0 & 0 & 0 & 0 & 0 & 0 & 0 & $\\dots$ \\\\\n",
       "\t14 & 0 & 0 & 0 & 0 & 0 & 0 & 0 & 0 & 0 & $\\dots$ \\\\\n",
       "\t15 & 0 & 0 & 0 & 0 & 1 & 1 & 1 & 1 & 2 & $\\dots$ \\\\\n",
       "\t16 & 0 & 0 & 0 & 0 & 0 & 0 & 0 & 0 & 0 & $\\dots$ \\\\\n",
       "\t17 & 0 & 0 & 0 & 0 & 0 & 0 & 0 & 0 & 0 & $\\dots$ \\\\\n",
       "\t18 & 0 & 0 & 0 & 0 & 0 & 0 & 0 & 0 & 0 & $\\dots$ \\\\\n",
       "\t19 & 0 & 0 & 0 & 0 & 0 & 0 & 0 & 0 & 0 & $\\dots$ \\\\\n",
       "\t20 & 0 & 0 & 0 & 0 & 0 & 0 & 0 & 0 & 0 & $\\dots$ \\\\\n",
       "\t21 & 0 & 0 & 0 & 0 & 0 & 0 & 0 & 0 & 0 & $\\dots$ \\\\\n",
       "\t22 & 0 & 0 & 0 & 0 & 0 & 0 & 0 & 0 & 0 & $\\dots$ \\\\\n",
       "\t23 & 0 & 0 & 0 & 0 & 0 & 0 & 0 & 0 & 0 & $\\dots$ \\\\\n",
       "\t24 & 0 & 0 & 0 & 0 & 0 & 0 & 0 & 0 & 0 & $\\dots$ \\\\\n",
       "\t25 & 0 & 0 & 0 & 0 & 0 & 0 & 0 & 0 & 0 & $\\dots$ \\\\\n",
       "\t26 & 0 & 0 & 0 & 0 & 0 & 0 & 0 & 0 & 0 & $\\dots$ \\\\\n",
       "\t27 & 0 & 0 & 0 & 0 & 0 & 0 & 0 & 0 & 0 & $\\dots$ \\\\\n",
       "\t28 & 0 & 0 & 0 & 0 & 0 & 0 & 0 & 0 & 0 & $\\dots$ \\\\\n",
       "\t29 & 0 & 0 & 0 & 0 & 0 & 0 & 0 & 0 & 0 & $\\dots$ \\\\\n",
       "\t30 & 0 & 0 & 0 & 0 & 0 & 0 & 0 & 0 & 0 & $\\dots$ \\\\\n",
       "\t$\\dots$ & $\\dots$ & $\\dots$ & $\\dots$ & $\\dots$ & $\\dots$ & $\\dots$ & $\\dots$ & $\\dots$ & $\\dots$ &  \\\\\n",
       "\\end{tabular}\n"
      ],
      "text/plain": [
       "1064×192 DataFrame. Omitted printing of 185 columns\n",
       "│ Row  │ 1/22/20 │ 1/23/20 │ 1/24/20 │ 1/25/20 │ 1/26/20 │ 1/27/20 │ 1/28/20 │\n",
       "│      │ \u001b[90mInt64\u001b[39m   │ \u001b[90mInt64\u001b[39m   │ \u001b[90mInt64\u001b[39m   │ \u001b[90mInt64\u001b[39m   │ \u001b[90mInt64\u001b[39m   │ \u001b[90mInt64\u001b[39m   │ \u001b[90mInt64\u001b[39m   │\n",
       "├──────┼─────────┼─────────┼─────────┼─────────┼─────────┼─────────┼─────────┤\n",
       "│ 1    │ 0       │ 0       │ 0       │ 0       │ 0       │ 0       │ 0       │\n",
       "│ 2    │ 0       │ 0       │ 0       │ 0       │ 0       │ 0       │ 0       │\n",
       "│ 3    │ 0       │ 0       │ 0       │ 0       │ 0       │ 0       │ 0       │\n",
       "│ 4    │ 0       │ 0       │ 0       │ 0       │ 0       │ 0       │ 0       │\n",
       "│ 5    │ 0       │ 0       │ 0       │ 0       │ 0       │ 0       │ 0       │\n",
       "│ 6    │ 0       │ 0       │ 0       │ 0       │ 0       │ 0       │ 0       │\n",
       "│ 7    │ 0       │ 0       │ 0       │ 0       │ 0       │ 0       │ 0       │\n",
       "│ 8    │ 0       │ 0       │ 0       │ 0       │ 0       │ 0       │ 0       │\n",
       "│ 9    │ 0       │ 0       │ 0       │ 0       │ 0       │ 0       │ 0       │\n",
       "│ 10   │ 0       │ 0       │ 0       │ 0       │ 3       │ 4       │ 4       │\n",
       "⋮\n",
       "│ 1054 │ 0       │ 0       │ 0       │ 0       │ 0       │ 0       │ 0       │\n",
       "│ 1055 │ 0       │ 0       │ 0       │ 0       │ 0       │ 0       │ 0       │\n",
       "│ 1056 │ 0       │ 0       │ 0       │ 0       │ 0       │ 0       │ 0       │\n",
       "│ 1057 │ 0       │ 0       │ 0       │ 0       │ 0       │ 0       │ 0       │\n",
       "│ 1058 │ 0       │ 0       │ 0       │ 0       │ 0       │ 0       │ 0       │\n",
       "│ 1059 │ 0       │ 0       │ 0       │ 0       │ 0       │ 0       │ 0       │\n",
       "│ 1060 │ 0       │ 0       │ 0       │ 0       │ 0       │ 0       │ 0       │\n",
       "│ 1061 │ 0       │ 0       │ 0       │ 0       │ 0       │ 0       │ 0       │\n",
       "│ 1062 │ 0       │ 0       │ 0       │ 0       │ 0       │ 0       │ 0       │\n",
       "│ 1063 │ 0       │ 0       │ 0       │ 0       │ 0       │ 0       │ 0       │\n",
       "│ 1064 │ 0       │ 0       │ 0       │ 0       │ 0       │ 0       │ 0       │"
      ]
     },
     "execution_count": 17,
     "metadata": {},
     "output_type": "execute_result"
    }
   ],
   "source": [
    "#keep these as variables\n",
    "stack(confirmed_df,[Symbol(\"Province/State\"), Symbol(\"Country/Region\"), :Lat, :Long])"
   ]
  },
  {
   "cell_type": "code",
   "execution_count": 18,
   "metadata": {},
   "outputs": [
    {
     "data": {
      "text/html": [
       "<table class=\"data-frame\"><thead><tr><th></th><th>Province/State</th><th>Country/Region</th><th>Lat</th><th>Long</th><th>variable</th></tr><tr><th></th><th>String?</th><th>String</th><th>Float64</th><th>Float64</th><th>Cat…</th></tr></thead><tbody><p>50,540 rows × 6 columns (omitted printing of 1 columns)</p><tr><th>1</th><td><em>missing</em></td><td>Afghanistan</td><td>33.9391</td><td>67.71</td><td>1/22/20</td></tr><tr><th>2</th><td><em>missing</em></td><td>Albania</td><td>41.1533</td><td>20.1683</td><td>1/22/20</td></tr><tr><th>3</th><td><em>missing</em></td><td>Algeria</td><td>28.0339</td><td>1.6596</td><td>1/22/20</td></tr><tr><th>4</th><td><em>missing</em></td><td>Andorra</td><td>42.5063</td><td>1.5218</td><td>1/22/20</td></tr><tr><th>5</th><td><em>missing</em></td><td>Angola</td><td>-11.2027</td><td>17.8739</td><td>1/22/20</td></tr><tr><th>6</th><td><em>missing</em></td><td>Antigua and Barbuda</td><td>17.0608</td><td>-61.7964</td><td>1/22/20</td></tr><tr><th>7</th><td><em>missing</em></td><td>Argentina</td><td>-38.4161</td><td>-63.6167</td><td>1/22/20</td></tr><tr><th>8</th><td><em>missing</em></td><td>Armenia</td><td>40.0691</td><td>45.0382</td><td>1/22/20</td></tr><tr><th>9</th><td>Australian Capital Territory</td><td>Australia</td><td>-35.4735</td><td>149.012</td><td>1/22/20</td></tr><tr><th>10</th><td>New South Wales</td><td>Australia</td><td>-33.8688</td><td>151.209</td><td>1/22/20</td></tr><tr><th>11</th><td>Northern Territory</td><td>Australia</td><td>-12.4634</td><td>130.846</td><td>1/22/20</td></tr><tr><th>12</th><td>Queensland</td><td>Australia</td><td>-27.4698</td><td>153.025</td><td>1/22/20</td></tr><tr><th>13</th><td>South Australia</td><td>Australia</td><td>-34.9285</td><td>138.601</td><td>1/22/20</td></tr><tr><th>14</th><td>Tasmania</td><td>Australia</td><td>-42.8821</td><td>147.327</td><td>1/22/20</td></tr><tr><th>15</th><td>Victoria</td><td>Australia</td><td>-37.8136</td><td>144.963</td><td>1/22/20</td></tr><tr><th>16</th><td>Western Australia</td><td>Australia</td><td>-31.9505</td><td>115.861</td><td>1/22/20</td></tr><tr><th>17</th><td><em>missing</em></td><td>Austria</td><td>47.5162</td><td>14.5501</td><td>1/22/20</td></tr><tr><th>18</th><td><em>missing</em></td><td>Azerbaijan</td><td>40.1431</td><td>47.5769</td><td>1/22/20</td></tr><tr><th>19</th><td><em>missing</em></td><td>Bahamas</td><td>25.0259</td><td>-78.0359</td><td>1/22/20</td></tr><tr><th>20</th><td><em>missing</em></td><td>Bahrain</td><td>26.0275</td><td>50.55</td><td>1/22/20</td></tr><tr><th>21</th><td><em>missing</em></td><td>Bangladesh</td><td>23.685</td><td>90.3563</td><td>1/22/20</td></tr><tr><th>22</th><td><em>missing</em></td><td>Barbados</td><td>13.1939</td><td>-59.5432</td><td>1/22/20</td></tr><tr><th>23</th><td><em>missing</em></td><td>Belarus</td><td>53.7098</td><td>27.9534</td><td>1/22/20</td></tr><tr><th>24</th><td><em>missing</em></td><td>Belgium</td><td>50.8333</td><td>4.46994</td><td>1/22/20</td></tr><tr><th>25</th><td><em>missing</em></td><td>Benin</td><td>9.3077</td><td>2.3158</td><td>1/22/20</td></tr><tr><th>26</th><td><em>missing</em></td><td>Bhutan</td><td>27.5142</td><td>90.4336</td><td>1/22/20</td></tr><tr><th>27</th><td><em>missing</em></td><td>Bolivia</td><td>-16.2902</td><td>-63.5887</td><td>1/22/20</td></tr><tr><th>28</th><td><em>missing</em></td><td>Bosnia and Herzegovina</td><td>43.9159</td><td>17.6791</td><td>1/22/20</td></tr><tr><th>29</th><td><em>missing</em></td><td>Brazil</td><td>-14.235</td><td>-51.9253</td><td>1/22/20</td></tr><tr><th>30</th><td><em>missing</em></td><td>Brunei</td><td>4.5353</td><td>114.728</td><td>1/22/20</td></tr><tr><th>&vellip;</th><td>&vellip;</td><td>&vellip;</td><td>&vellip;</td><td>&vellip;</td><td>&vellip;</td></tr></tbody></table>"
      ],
      "text/latex": [
       "\\begin{tabular}{r|cccccc}\n",
       "\t& Province/State & Country/Region & Lat & Long & variable & \\\\\n",
       "\t\\hline\n",
       "\t& String? & String & Float64 & Float64 & Cat… & \\\\\n",
       "\t\\hline\n",
       "\t1 & \\emph{missing} & Afghanistan & 33.9391 & 67.71 & 1/22/20 & $\\dots$ \\\\\n",
       "\t2 & \\emph{missing} & Albania & 41.1533 & 20.1683 & 1/22/20 & $\\dots$ \\\\\n",
       "\t3 & \\emph{missing} & Algeria & 28.0339 & 1.6596 & 1/22/20 & $\\dots$ \\\\\n",
       "\t4 & \\emph{missing} & Andorra & 42.5063 & 1.5218 & 1/22/20 & $\\dots$ \\\\\n",
       "\t5 & \\emph{missing} & Angola & -11.2027 & 17.8739 & 1/22/20 & $\\dots$ \\\\\n",
       "\t6 & \\emph{missing} & Antigua and Barbuda & 17.0608 & -61.7964 & 1/22/20 & $\\dots$ \\\\\n",
       "\t7 & \\emph{missing} & Argentina & -38.4161 & -63.6167 & 1/22/20 & $\\dots$ \\\\\n",
       "\t8 & \\emph{missing} & Armenia & 40.0691 & 45.0382 & 1/22/20 & $\\dots$ \\\\\n",
       "\t9 & Australian Capital Territory & Australia & -35.4735 & 149.012 & 1/22/20 & $\\dots$ \\\\\n",
       "\t10 & New South Wales & Australia & -33.8688 & 151.209 & 1/22/20 & $\\dots$ \\\\\n",
       "\t11 & Northern Territory & Australia & -12.4634 & 130.846 & 1/22/20 & $\\dots$ \\\\\n",
       "\t12 & Queensland & Australia & -27.4698 & 153.025 & 1/22/20 & $\\dots$ \\\\\n",
       "\t13 & South Australia & Australia & -34.9285 & 138.601 & 1/22/20 & $\\dots$ \\\\\n",
       "\t14 & Tasmania & Australia & -42.8821 & 147.327 & 1/22/20 & $\\dots$ \\\\\n",
       "\t15 & Victoria & Australia & -37.8136 & 144.963 & 1/22/20 & $\\dots$ \\\\\n",
       "\t16 & Western Australia & Australia & -31.9505 & 115.861 & 1/22/20 & $\\dots$ \\\\\n",
       "\t17 & \\emph{missing} & Austria & 47.5162 & 14.5501 & 1/22/20 & $\\dots$ \\\\\n",
       "\t18 & \\emph{missing} & Azerbaijan & 40.1431 & 47.5769 & 1/22/20 & $\\dots$ \\\\\n",
       "\t19 & \\emph{missing} & Bahamas & 25.0259 & -78.0359 & 1/22/20 & $\\dots$ \\\\\n",
       "\t20 & \\emph{missing} & Bahrain & 26.0275 & 50.55 & 1/22/20 & $\\dots$ \\\\\n",
       "\t21 & \\emph{missing} & Bangladesh & 23.685 & 90.3563 & 1/22/20 & $\\dots$ \\\\\n",
       "\t22 & \\emph{missing} & Barbados & 13.1939 & -59.5432 & 1/22/20 & $\\dots$ \\\\\n",
       "\t23 & \\emph{missing} & Belarus & 53.7098 & 27.9534 & 1/22/20 & $\\dots$ \\\\\n",
       "\t24 & \\emph{missing} & Belgium & 50.8333 & 4.46994 & 1/22/20 & $\\dots$ \\\\\n",
       "\t25 & \\emph{missing} & Benin & 9.3077 & 2.3158 & 1/22/20 & $\\dots$ \\\\\n",
       "\t26 & \\emph{missing} & Bhutan & 27.5142 & 90.4336 & 1/22/20 & $\\dots$ \\\\\n",
       "\t27 & \\emph{missing} & Bolivia & -16.2902 & -63.5887 & 1/22/20 & $\\dots$ \\\\\n",
       "\t28 & \\emph{missing} & Bosnia and Herzegovina & 43.9159 & 17.6791 & 1/22/20 & $\\dots$ \\\\\n",
       "\t29 & \\emph{missing} & Brazil & -14.235 & -51.9253 & 1/22/20 & $\\dots$ \\\\\n",
       "\t30 & \\emph{missing} & Brunei & 4.5353 & 114.728 & 1/22/20 & $\\dots$ \\\\\n",
       "\t$\\dots$ & $\\dots$ & $\\dots$ & $\\dots$ & $\\dots$ & $\\dots$ &  \\\\\n",
       "\\end{tabular}\n"
      ],
      "text/plain": [
       "50540×6 DataFrame. Omitted printing of 3 columns\n",
       "│ Row   │ Province/State                   │ Country/Region        │ Lat      │\n",
       "│       │ \u001b[90mUnion{Missing, String}\u001b[39m           │ \u001b[90mString\u001b[39m                │ \u001b[90mFloat64\u001b[39m  │\n",
       "├───────┼──────────────────────────────────┼───────────────────────┼──────────┤\n",
       "│ 1     │ \u001b[90mmissing\u001b[39m                          │ Afghanistan           │ 33.9391  │\n",
       "│ 2     │ \u001b[90mmissing\u001b[39m                          │ Albania               │ 41.1533  │\n",
       "│ 3     │ \u001b[90mmissing\u001b[39m                          │ Algeria               │ 28.0339  │\n",
       "│ 4     │ \u001b[90mmissing\u001b[39m                          │ Andorra               │ 42.5063  │\n",
       "│ 5     │ \u001b[90mmissing\u001b[39m                          │ Angola                │ -11.2027 │\n",
       "│ 6     │ \u001b[90mmissing\u001b[39m                          │ Antigua and Barbuda   │ 17.0608  │\n",
       "│ 7     │ \u001b[90mmissing\u001b[39m                          │ Argentina             │ -38.4161 │\n",
       "│ 8     │ \u001b[90mmissing\u001b[39m                          │ Armenia               │ 40.0691  │\n",
       "│ 9     │ Australian Capital Territory     │ Australia             │ -35.4735 │\n",
       "│ 10    │ New South Wales                  │ Australia             │ -33.8688 │\n",
       "⋮\n",
       "│ 50530 │ Bonaire, Sint Eustatius and Saba │ Netherlands           │ 12.1784  │\n",
       "│ 50531 │ \u001b[90mmissing\u001b[39m                          │ Malawi                │ -13.2543 │\n",
       "│ 50532 │ Falkland Islands (Malvinas)      │ United Kingdom        │ -51.7963 │\n",
       "│ 50533 │ Saint Pierre and Miquelon        │ France                │ 46.8852  │\n",
       "│ 50534 │ \u001b[90mmissing\u001b[39m                          │ South Sudan           │ 6.877    │\n",
       "│ 50535 │ \u001b[90mmissing\u001b[39m                          │ Western Sahara        │ 24.2155  │\n",
       "│ 50536 │ \u001b[90mmissing\u001b[39m                          │ Sao Tome and Principe │ 0.1864   │\n",
       "│ 50537 │ \u001b[90mmissing\u001b[39m                          │ Yemen                 │ 15.5527  │\n",
       "│ 50538 │ \u001b[90mmissing\u001b[39m                          │ Comoros               │ -11.6455 │\n",
       "│ 50539 │ \u001b[90mmissing\u001b[39m                          │ Tajikistan            │ 38.861   │\n",
       "│ 50540 │ \u001b[90mmissing\u001b[39m                          │ Lesotho               │ -29.61   │"
      ]
     },
     "execution_count": 18,
     "metadata": {},
     "output_type": "execute_result"
    }
   ],
   "source": [
    "#keep these as variables\n",
    "stack(confirmed_df,Not([Symbol(\"Province/State\"), Symbol(\"Country/Region\"), :Lat, :Long]))"
   ]
  },
  {
   "cell_type": "code",
   "execution_count": 20,
   "metadata": {},
   "outputs": [],
   "source": [
    "df_confirmed = stack(confirmed_df,Not([Symbol(\"Province/State\"), Symbol(\"Country/Region\"), :Lat, :Long]));"
   ]
  },
  {
   "cell_type": "code",
   "execution_count": 21,
   "metadata": {},
   "outputs": [],
   "source": [
    "df_recovered = stack(recovered_df,Not([Symbol(\"Province/State\"), Symbol(\"Country/Region\"), :Lat, :Long]));"
   ]
  },
  {
   "cell_type": "code",
   "execution_count": 22,
   "metadata": {},
   "outputs": [],
   "source": [
    "df_death = stack(death_df,Not([Symbol(\"Province/State\"), Symbol(\"Country/Region\"), :Lat, :Long]));"
   ]
  },
  {
   "cell_type": "code",
   "execution_count": 23,
   "metadata": {},
   "outputs": [
    {
     "data": {
      "text/html": [
       "<table class=\"data-frame\"><thead><tr><th></th><th>Province/State</th><th>Country/Region</th><th>Lat</th><th>Long</th><th>variable</th></tr><tr><th></th><th>String?</th><th>String</th><th>Float64</th><th>Float64</th><th>Cat…</th></tr></thead><tbody><p>50,540 rows × 6 columns (omitted printing of 1 columns)</p><tr><th>1</th><td><em>missing</em></td><td>Afghanistan</td><td>33.9391</td><td>67.71</td><td>1/22/20</td></tr><tr><th>2</th><td><em>missing</em></td><td>Albania</td><td>41.1533</td><td>20.1683</td><td>1/22/20</td></tr><tr><th>3</th><td><em>missing</em></td><td>Algeria</td><td>28.0339</td><td>1.6596</td><td>1/22/20</td></tr><tr><th>4</th><td><em>missing</em></td><td>Andorra</td><td>42.5063</td><td>1.5218</td><td>1/22/20</td></tr><tr><th>5</th><td><em>missing</em></td><td>Angola</td><td>-11.2027</td><td>17.8739</td><td>1/22/20</td></tr><tr><th>6</th><td><em>missing</em></td><td>Antigua and Barbuda</td><td>17.0608</td><td>-61.7964</td><td>1/22/20</td></tr><tr><th>7</th><td><em>missing</em></td><td>Argentina</td><td>-38.4161</td><td>-63.6167</td><td>1/22/20</td></tr><tr><th>8</th><td><em>missing</em></td><td>Armenia</td><td>40.0691</td><td>45.0382</td><td>1/22/20</td></tr><tr><th>9</th><td>Australian Capital Territory</td><td>Australia</td><td>-35.4735</td><td>149.012</td><td>1/22/20</td></tr><tr><th>10</th><td>New South Wales</td><td>Australia</td><td>-33.8688</td><td>151.209</td><td>1/22/20</td></tr><tr><th>11</th><td>Northern Territory</td><td>Australia</td><td>-12.4634</td><td>130.846</td><td>1/22/20</td></tr><tr><th>12</th><td>Queensland</td><td>Australia</td><td>-27.4698</td><td>153.025</td><td>1/22/20</td></tr><tr><th>13</th><td>South Australia</td><td>Australia</td><td>-34.9285</td><td>138.601</td><td>1/22/20</td></tr><tr><th>14</th><td>Tasmania</td><td>Australia</td><td>-42.8821</td><td>147.327</td><td>1/22/20</td></tr><tr><th>15</th><td>Victoria</td><td>Australia</td><td>-37.8136</td><td>144.963</td><td>1/22/20</td></tr><tr><th>16</th><td>Western Australia</td><td>Australia</td><td>-31.9505</td><td>115.861</td><td>1/22/20</td></tr><tr><th>17</th><td><em>missing</em></td><td>Austria</td><td>47.5162</td><td>14.5501</td><td>1/22/20</td></tr><tr><th>18</th><td><em>missing</em></td><td>Azerbaijan</td><td>40.1431</td><td>47.5769</td><td>1/22/20</td></tr><tr><th>19</th><td><em>missing</em></td><td>Bahamas</td><td>25.0259</td><td>-78.0359</td><td>1/22/20</td></tr><tr><th>20</th><td><em>missing</em></td><td>Bahrain</td><td>26.0275</td><td>50.55</td><td>1/22/20</td></tr><tr><th>21</th><td><em>missing</em></td><td>Bangladesh</td><td>23.685</td><td>90.3563</td><td>1/22/20</td></tr><tr><th>22</th><td><em>missing</em></td><td>Barbados</td><td>13.1939</td><td>-59.5432</td><td>1/22/20</td></tr><tr><th>23</th><td><em>missing</em></td><td>Belarus</td><td>53.7098</td><td>27.9534</td><td>1/22/20</td></tr><tr><th>24</th><td><em>missing</em></td><td>Belgium</td><td>50.8333</td><td>4.46994</td><td>1/22/20</td></tr><tr><th>25</th><td><em>missing</em></td><td>Benin</td><td>9.3077</td><td>2.3158</td><td>1/22/20</td></tr><tr><th>26</th><td><em>missing</em></td><td>Bhutan</td><td>27.5142</td><td>90.4336</td><td>1/22/20</td></tr><tr><th>27</th><td><em>missing</em></td><td>Bolivia</td><td>-16.2902</td><td>-63.5887</td><td>1/22/20</td></tr><tr><th>28</th><td><em>missing</em></td><td>Bosnia and Herzegovina</td><td>43.9159</td><td>17.6791</td><td>1/22/20</td></tr><tr><th>29</th><td><em>missing</em></td><td>Brazil</td><td>-14.235</td><td>-51.9253</td><td>1/22/20</td></tr><tr><th>30</th><td><em>missing</em></td><td>Brunei</td><td>4.5353</td><td>114.728</td><td>1/22/20</td></tr><tr><th>&vellip;</th><td>&vellip;</td><td>&vellip;</td><td>&vellip;</td><td>&vellip;</td><td>&vellip;</td></tr></tbody></table>"
      ],
      "text/latex": [
       "\\begin{tabular}{r|cccccc}\n",
       "\t& Province/State & Country/Region & Lat & Long & variable & \\\\\n",
       "\t\\hline\n",
       "\t& String? & String & Float64 & Float64 & Cat… & \\\\\n",
       "\t\\hline\n",
       "\t1 & \\emph{missing} & Afghanistan & 33.9391 & 67.71 & 1/22/20 & $\\dots$ \\\\\n",
       "\t2 & \\emph{missing} & Albania & 41.1533 & 20.1683 & 1/22/20 & $\\dots$ \\\\\n",
       "\t3 & \\emph{missing} & Algeria & 28.0339 & 1.6596 & 1/22/20 & $\\dots$ \\\\\n",
       "\t4 & \\emph{missing} & Andorra & 42.5063 & 1.5218 & 1/22/20 & $\\dots$ \\\\\n",
       "\t5 & \\emph{missing} & Angola & -11.2027 & 17.8739 & 1/22/20 & $\\dots$ \\\\\n",
       "\t6 & \\emph{missing} & Antigua and Barbuda & 17.0608 & -61.7964 & 1/22/20 & $\\dots$ \\\\\n",
       "\t7 & \\emph{missing} & Argentina & -38.4161 & -63.6167 & 1/22/20 & $\\dots$ \\\\\n",
       "\t8 & \\emph{missing} & Armenia & 40.0691 & 45.0382 & 1/22/20 & $\\dots$ \\\\\n",
       "\t9 & Australian Capital Territory & Australia & -35.4735 & 149.012 & 1/22/20 & $\\dots$ \\\\\n",
       "\t10 & New South Wales & Australia & -33.8688 & 151.209 & 1/22/20 & $\\dots$ \\\\\n",
       "\t11 & Northern Territory & Australia & -12.4634 & 130.846 & 1/22/20 & $\\dots$ \\\\\n",
       "\t12 & Queensland & Australia & -27.4698 & 153.025 & 1/22/20 & $\\dots$ \\\\\n",
       "\t13 & South Australia & Australia & -34.9285 & 138.601 & 1/22/20 & $\\dots$ \\\\\n",
       "\t14 & Tasmania & Australia & -42.8821 & 147.327 & 1/22/20 & $\\dots$ \\\\\n",
       "\t15 & Victoria & Australia & -37.8136 & 144.963 & 1/22/20 & $\\dots$ \\\\\n",
       "\t16 & Western Australia & Australia & -31.9505 & 115.861 & 1/22/20 & $\\dots$ \\\\\n",
       "\t17 & \\emph{missing} & Austria & 47.5162 & 14.5501 & 1/22/20 & $\\dots$ \\\\\n",
       "\t18 & \\emph{missing} & Azerbaijan & 40.1431 & 47.5769 & 1/22/20 & $\\dots$ \\\\\n",
       "\t19 & \\emph{missing} & Bahamas & 25.0259 & -78.0359 & 1/22/20 & $\\dots$ \\\\\n",
       "\t20 & \\emph{missing} & Bahrain & 26.0275 & 50.55 & 1/22/20 & $\\dots$ \\\\\n",
       "\t21 & \\emph{missing} & Bangladesh & 23.685 & 90.3563 & 1/22/20 & $\\dots$ \\\\\n",
       "\t22 & \\emph{missing} & Barbados & 13.1939 & -59.5432 & 1/22/20 & $\\dots$ \\\\\n",
       "\t23 & \\emph{missing} & Belarus & 53.7098 & 27.9534 & 1/22/20 & $\\dots$ \\\\\n",
       "\t24 & \\emph{missing} & Belgium & 50.8333 & 4.46994 & 1/22/20 & $\\dots$ \\\\\n",
       "\t25 & \\emph{missing} & Benin & 9.3077 & 2.3158 & 1/22/20 & $\\dots$ \\\\\n",
       "\t26 & \\emph{missing} & Bhutan & 27.5142 & 90.4336 & 1/22/20 & $\\dots$ \\\\\n",
       "\t27 & \\emph{missing} & Bolivia & -16.2902 & -63.5887 & 1/22/20 & $\\dots$ \\\\\n",
       "\t28 & \\emph{missing} & Bosnia and Herzegovina & 43.9159 & 17.6791 & 1/22/20 & $\\dots$ \\\\\n",
       "\t29 & \\emph{missing} & Brazil & -14.235 & -51.9253 & 1/22/20 & $\\dots$ \\\\\n",
       "\t30 & \\emph{missing} & Brunei & 4.5353 & 114.728 & 1/22/20 & $\\dots$ \\\\\n",
       "\t$\\dots$ & $\\dots$ & $\\dots$ & $\\dots$ & $\\dots$ & $\\dots$ &  \\\\\n",
       "\\end{tabular}\n"
      ],
      "text/plain": [
       "50540×6 DataFrame. Omitted printing of 3 columns\n",
       "│ Row   │ Province/State                   │ Country/Region        │ Lat      │\n",
       "│       │ \u001b[90mUnion{Missing, String}\u001b[39m           │ \u001b[90mString\u001b[39m                │ \u001b[90mFloat64\u001b[39m  │\n",
       "├───────┼──────────────────────────────────┼───────────────────────┼──────────┤\n",
       "│ 1     │ \u001b[90mmissing\u001b[39m                          │ Afghanistan           │ 33.9391  │\n",
       "│ 2     │ \u001b[90mmissing\u001b[39m                          │ Albania               │ 41.1533  │\n",
       "│ 3     │ \u001b[90mmissing\u001b[39m                          │ Algeria               │ 28.0339  │\n",
       "│ 4     │ \u001b[90mmissing\u001b[39m                          │ Andorra               │ 42.5063  │\n",
       "│ 5     │ \u001b[90mmissing\u001b[39m                          │ Angola                │ -11.2027 │\n",
       "│ 6     │ \u001b[90mmissing\u001b[39m                          │ Antigua and Barbuda   │ 17.0608  │\n",
       "│ 7     │ \u001b[90mmissing\u001b[39m                          │ Argentina             │ -38.4161 │\n",
       "│ 8     │ \u001b[90mmissing\u001b[39m                          │ Armenia               │ 40.0691  │\n",
       "│ 9     │ Australian Capital Territory     │ Australia             │ -35.4735 │\n",
       "│ 10    │ New South Wales                  │ Australia             │ -33.8688 │\n",
       "⋮\n",
       "│ 50530 │ Bonaire, Sint Eustatius and Saba │ Netherlands           │ 12.1784  │\n",
       "│ 50531 │ \u001b[90mmissing\u001b[39m                          │ Malawi                │ -13.2543 │\n",
       "│ 50532 │ Falkland Islands (Malvinas)      │ United Kingdom        │ -51.7963 │\n",
       "│ 50533 │ Saint Pierre and Miquelon        │ France                │ 46.8852  │\n",
       "│ 50534 │ \u001b[90mmissing\u001b[39m                          │ South Sudan           │ 6.877    │\n",
       "│ 50535 │ \u001b[90mmissing\u001b[39m                          │ Western Sahara        │ 24.2155  │\n",
       "│ 50536 │ \u001b[90mmissing\u001b[39m                          │ Sao Tome and Principe │ 0.1864   │\n",
       "│ 50537 │ \u001b[90mmissing\u001b[39m                          │ Yemen                 │ 15.5527  │\n",
       "│ 50538 │ \u001b[90mmissing\u001b[39m                          │ Comoros               │ -11.6455 │\n",
       "│ 50539 │ \u001b[90mmissing\u001b[39m                          │ Tajikistan            │ 38.861   │\n",
       "│ 50540 │ \u001b[90mmissing\u001b[39m                          │ Lesotho               │ -29.61   │"
      ]
     },
     "execution_count": 23,
     "metadata": {},
     "output_type": "execute_result"
    }
   ],
   "source": [
    "df_death"
   ]
  },
  {
   "cell_type": "code",
   "execution_count": 24,
   "metadata": {},
   "outputs": [
    {
     "name": "stderr",
     "output_type": "stream",
     "text": [
      "┌ Warning: `head(df::AbstractDataFrame)` is deprecated, use `first(df, 6)` instead.\n",
      "│   caller = top-level scope at In[24]:1\n",
      "└ @ Core In[24]:1\n"
     ]
    },
    {
     "data": {
      "text/html": [
       "<table class=\"data-frame\"><thead><tr><th></th><th>Province/State</th><th>Country/Region</th><th>Lat</th><th>Long</th><th>variable</th><th>value</th></tr><tr><th></th><th>String?</th><th>String</th><th>Float64</th><th>Float64</th><th>Cat…</th><th>Int64</th></tr></thead><tbody><p>6 rows × 6 columns</p><tr><th>1</th><td><em>missing</em></td><td>Afghanistan</td><td>33.9391</td><td>67.71</td><td>1/22/20</td><td>0</td></tr><tr><th>2</th><td><em>missing</em></td><td>Albania</td><td>41.1533</td><td>20.1683</td><td>1/22/20</td><td>0</td></tr><tr><th>3</th><td><em>missing</em></td><td>Algeria</td><td>28.0339</td><td>1.6596</td><td>1/22/20</td><td>0</td></tr><tr><th>4</th><td><em>missing</em></td><td>Andorra</td><td>42.5063</td><td>1.5218</td><td>1/22/20</td><td>0</td></tr><tr><th>5</th><td><em>missing</em></td><td>Angola</td><td>-11.2027</td><td>17.8739</td><td>1/22/20</td><td>0</td></tr><tr><th>6</th><td><em>missing</em></td><td>Antigua and Barbuda</td><td>17.0608</td><td>-61.7964</td><td>1/22/20</td><td>0</td></tr></tbody></table>"
      ],
      "text/latex": [
       "\\begin{tabular}{r|cccccc}\n",
       "\t& Province/State & Country/Region & Lat & Long & variable & value\\\\\n",
       "\t\\hline\n",
       "\t& String? & String & Float64 & Float64 & Cat… & Int64\\\\\n",
       "\t\\hline\n",
       "\t1 & \\emph{missing} & Afghanistan & 33.9391 & 67.71 & 1/22/20 & 0 \\\\\n",
       "\t2 & \\emph{missing} & Albania & 41.1533 & 20.1683 & 1/22/20 & 0 \\\\\n",
       "\t3 & \\emph{missing} & Algeria & 28.0339 & 1.6596 & 1/22/20 & 0 \\\\\n",
       "\t4 & \\emph{missing} & Andorra & 42.5063 & 1.5218 & 1/22/20 & 0 \\\\\n",
       "\t5 & \\emph{missing} & Angola & -11.2027 & 17.8739 & 1/22/20 & 0 \\\\\n",
       "\t6 & \\emph{missing} & Antigua and Barbuda & 17.0608 & -61.7964 & 1/22/20 & 0 \\\\\n",
       "\\end{tabular}\n"
      ],
      "text/plain": [
       "6×6 DataFrame. Omitted printing of 1 columns\n",
       "│ Row │ Province/State │ Country/Region      │ Lat      │ Long     │ variable │\n",
       "│     │ \u001b[90mString?\u001b[39m        │ \u001b[90mString\u001b[39m              │ \u001b[90mFloat64\u001b[39m  │ \u001b[90mFloat64\u001b[39m  │ \u001b[90mCat…\u001b[39m     │\n",
       "├─────┼────────────────┼─────────────────────┼──────────┼──────────┼──────────┤\n",
       "│ 1   │ \u001b[90mmissing\u001b[39m        │ Afghanistan         │ 33.9391  │ 67.71    │ 1/22/20  │\n",
       "│ 2   │ \u001b[90mmissing\u001b[39m        │ Albania             │ 41.1533  │ 20.1683  │ 1/22/20  │\n",
       "│ 3   │ \u001b[90mmissing\u001b[39m        │ Algeria             │ 28.0339  │ 1.6596   │ 1/22/20  │\n",
       "│ 4   │ \u001b[90mmissing\u001b[39m        │ Andorra             │ 42.5063  │ 1.5218   │ 1/22/20  │\n",
       "│ 5   │ \u001b[90mmissing\u001b[39m        │ Angola              │ -11.2027 │ 17.8739  │ 1/22/20  │\n",
       "│ 6   │ \u001b[90mmissing\u001b[39m        │ Antigua and Barbuda │ 17.0608  │ -61.7964 │ 1/22/20  │"
      ]
     },
     "execution_count": 24,
     "metadata": {},
     "output_type": "execute_result"
    }
   ],
   "source": [
    "head(df_confirmed)"
   ]
  },
  {
   "cell_type": "code",
   "execution_count": 25,
   "metadata": {},
   "outputs": [
    {
     "data": {
      "text/html": [
       "<table class=\"data-frame\"><thead><tr><th></th><th>Province/State</th><th>Country/Region</th><th>Lat</th><th>Long</th><th>variable</th></tr><tr><th></th><th>String?</th><th>String</th><th>Float64</th><th>Float64</th><th>Cat…</th></tr></thead><tbody><p>10 rows × 6 columns (omitted printing of 1 columns)</p><tr><th>1</th><td><em>missing</em></td><td>Afghanistan</td><td>33.9391</td><td>67.71</td><td>1/22/20</td></tr><tr><th>2</th><td><em>missing</em></td><td>Albania</td><td>41.1533</td><td>20.1683</td><td>1/22/20</td></tr><tr><th>3</th><td><em>missing</em></td><td>Algeria</td><td>28.0339</td><td>1.6596</td><td>1/22/20</td></tr><tr><th>4</th><td><em>missing</em></td><td>Andorra</td><td>42.5063</td><td>1.5218</td><td>1/22/20</td></tr><tr><th>5</th><td><em>missing</em></td><td>Angola</td><td>-11.2027</td><td>17.8739</td><td>1/22/20</td></tr><tr><th>6</th><td><em>missing</em></td><td>Antigua and Barbuda</td><td>17.0608</td><td>-61.7964</td><td>1/22/20</td></tr><tr><th>7</th><td><em>missing</em></td><td>Argentina</td><td>-38.4161</td><td>-63.6167</td><td>1/22/20</td></tr><tr><th>8</th><td><em>missing</em></td><td>Armenia</td><td>40.0691</td><td>45.0382</td><td>1/22/20</td></tr><tr><th>9</th><td>Australian Capital Territory</td><td>Australia</td><td>-35.4735</td><td>149.012</td><td>1/22/20</td></tr><tr><th>10</th><td>New South Wales</td><td>Australia</td><td>-33.8688</td><td>151.209</td><td>1/22/20</td></tr></tbody></table>"
      ],
      "text/latex": [
       "\\begin{tabular}{r|cccccc}\n",
       "\t& Province/State & Country/Region & Lat & Long & variable & \\\\\n",
       "\t\\hline\n",
       "\t& String? & String & Float64 & Float64 & Cat… & \\\\\n",
       "\t\\hline\n",
       "\t1 & \\emph{missing} & Afghanistan & 33.9391 & 67.71 & 1/22/20 & $\\dots$ \\\\\n",
       "\t2 & \\emph{missing} & Albania & 41.1533 & 20.1683 & 1/22/20 & $\\dots$ \\\\\n",
       "\t3 & \\emph{missing} & Algeria & 28.0339 & 1.6596 & 1/22/20 & $\\dots$ \\\\\n",
       "\t4 & \\emph{missing} & Andorra & 42.5063 & 1.5218 & 1/22/20 & $\\dots$ \\\\\n",
       "\t5 & \\emph{missing} & Angola & -11.2027 & 17.8739 & 1/22/20 & $\\dots$ \\\\\n",
       "\t6 & \\emph{missing} & Antigua and Barbuda & 17.0608 & -61.7964 & 1/22/20 & $\\dots$ \\\\\n",
       "\t7 & \\emph{missing} & Argentina & -38.4161 & -63.6167 & 1/22/20 & $\\dots$ \\\\\n",
       "\t8 & \\emph{missing} & Armenia & 40.0691 & 45.0382 & 1/22/20 & $\\dots$ \\\\\n",
       "\t9 & Australian Capital Territory & Australia & -35.4735 & 149.012 & 1/22/20 & $\\dots$ \\\\\n",
       "\t10 & New South Wales & Australia & -33.8688 & 151.209 & 1/22/20 & $\\dots$ \\\\\n",
       "\\end{tabular}\n"
      ],
      "text/plain": [
       "10×6 DataFrame. Omitted printing of 3 columns\n",
       "│ Row │ Province/State               │ Country/Region      │ Lat      │\n",
       "│     │ \u001b[90mUnion{Missing, String}\u001b[39m       │ \u001b[90mString\u001b[39m              │ \u001b[90mFloat64\u001b[39m  │\n",
       "├─────┼──────────────────────────────┼─────────────────────┼──────────┤\n",
       "│ 1   │ \u001b[90mmissing\u001b[39m                      │ Afghanistan         │ 33.9391  │\n",
       "│ 2   │ \u001b[90mmissing\u001b[39m                      │ Albania             │ 41.1533  │\n",
       "│ 3   │ \u001b[90mmissing\u001b[39m                      │ Algeria             │ 28.0339  │\n",
       "│ 4   │ \u001b[90mmissing\u001b[39m                      │ Andorra             │ 42.5063  │\n",
       "│ 5   │ \u001b[90mmissing\u001b[39m                      │ Angola              │ -11.2027 │\n",
       "│ 6   │ \u001b[90mmissing\u001b[39m                      │ Antigua and Barbuda │ 17.0608  │\n",
       "│ 7   │ \u001b[90mmissing\u001b[39m                      │ Argentina           │ -38.4161 │\n",
       "│ 8   │ \u001b[90mmissing\u001b[39m                      │ Armenia             │ 40.0691  │\n",
       "│ 9   │ Australian Capital Territory │ Australia           │ -35.4735 │\n",
       "│ 10  │ New South Wales              │ Australia           │ -33.8688 │"
      ]
     },
     "execution_count": 25,
     "metadata": {},
     "output_type": "execute_result"
    }
   ],
   "source": [
    "first(df_confirmed,10)"
   ]
  },
  {
   "cell_type": "code",
   "execution_count": 26,
   "metadata": {},
   "outputs": [
    {
     "data": {
      "text/plain": [
       "(50540, 6)"
      ]
     },
     "execution_count": 26,
     "metadata": {},
     "output_type": "execute_result"
    }
   ],
   "source": [
    "size(df_confirmed)"
   ]
  },
  {
   "cell_type": "code",
   "execution_count": 27,
   "metadata": {},
   "outputs": [
    {
     "data": {
      "text/plain": [
       "(48070, 6)"
      ]
     },
     "execution_count": 27,
     "metadata": {},
     "output_type": "execute_result"
    }
   ],
   "source": [
    "size(df_recovered)"
   ]
  },
  {
   "cell_type": "code",
   "execution_count": 28,
   "metadata": {},
   "outputs": [
    {
     "data": {
      "text/plain": [
       "(50540, 6)"
      ]
     },
     "execution_count": 28,
     "metadata": {},
     "output_type": "execute_result"
    }
   ],
   "source": [
    "size(df_death)"
   ]
  },
  {
   "cell_type": "code",
   "execution_count": 29,
   "metadata": {},
   "outputs": [
    {
     "data": {
      "text/plain": [
       "6-element Array{String,1}:\n",
       " \"Province/State\"\n",
       " \"Country/Region\"\n",
       " \"Lat\"\n",
       " \"Long\"\n",
       " \"variable\"\n",
       " \"value\""
      ]
     },
     "execution_count": 29,
     "metadata": {},
     "output_type": "execute_result"
    }
   ],
   "source": [
    "names(df_confirmed)"
   ]
  },
  {
   "cell_type": "code",
   "execution_count": 30,
   "metadata": {},
   "outputs": [
    {
     "data": {
      "text/html": [
       "<table class=\"data-frame\"><thead><tr><th></th><th>Province/State</th><th>Country/Region</th><th>Lat</th><th>Long</th><th>Dates</th></tr><tr><th></th><th>String?</th><th>String</th><th>Float64</th><th>Float64</th><th>Cat…</th></tr></thead><tbody><p>50,540 rows × 6 columns (omitted printing of 1 columns)</p><tr><th>1</th><td><em>missing</em></td><td>Afghanistan</td><td>33.9391</td><td>67.71</td><td>1/22/20</td></tr><tr><th>2</th><td><em>missing</em></td><td>Albania</td><td>41.1533</td><td>20.1683</td><td>1/22/20</td></tr><tr><th>3</th><td><em>missing</em></td><td>Algeria</td><td>28.0339</td><td>1.6596</td><td>1/22/20</td></tr><tr><th>4</th><td><em>missing</em></td><td>Andorra</td><td>42.5063</td><td>1.5218</td><td>1/22/20</td></tr><tr><th>5</th><td><em>missing</em></td><td>Angola</td><td>-11.2027</td><td>17.8739</td><td>1/22/20</td></tr><tr><th>6</th><td><em>missing</em></td><td>Antigua and Barbuda</td><td>17.0608</td><td>-61.7964</td><td>1/22/20</td></tr><tr><th>7</th><td><em>missing</em></td><td>Argentina</td><td>-38.4161</td><td>-63.6167</td><td>1/22/20</td></tr><tr><th>8</th><td><em>missing</em></td><td>Armenia</td><td>40.0691</td><td>45.0382</td><td>1/22/20</td></tr><tr><th>9</th><td>Australian Capital Territory</td><td>Australia</td><td>-35.4735</td><td>149.012</td><td>1/22/20</td></tr><tr><th>10</th><td>New South Wales</td><td>Australia</td><td>-33.8688</td><td>151.209</td><td>1/22/20</td></tr><tr><th>11</th><td>Northern Territory</td><td>Australia</td><td>-12.4634</td><td>130.846</td><td>1/22/20</td></tr><tr><th>12</th><td>Queensland</td><td>Australia</td><td>-27.4698</td><td>153.025</td><td>1/22/20</td></tr><tr><th>13</th><td>South Australia</td><td>Australia</td><td>-34.9285</td><td>138.601</td><td>1/22/20</td></tr><tr><th>14</th><td>Tasmania</td><td>Australia</td><td>-42.8821</td><td>147.327</td><td>1/22/20</td></tr><tr><th>15</th><td>Victoria</td><td>Australia</td><td>-37.8136</td><td>144.963</td><td>1/22/20</td></tr><tr><th>16</th><td>Western Australia</td><td>Australia</td><td>-31.9505</td><td>115.861</td><td>1/22/20</td></tr><tr><th>17</th><td><em>missing</em></td><td>Austria</td><td>47.5162</td><td>14.5501</td><td>1/22/20</td></tr><tr><th>18</th><td><em>missing</em></td><td>Azerbaijan</td><td>40.1431</td><td>47.5769</td><td>1/22/20</td></tr><tr><th>19</th><td><em>missing</em></td><td>Bahamas</td><td>25.0259</td><td>-78.0359</td><td>1/22/20</td></tr><tr><th>20</th><td><em>missing</em></td><td>Bahrain</td><td>26.0275</td><td>50.55</td><td>1/22/20</td></tr><tr><th>21</th><td><em>missing</em></td><td>Bangladesh</td><td>23.685</td><td>90.3563</td><td>1/22/20</td></tr><tr><th>22</th><td><em>missing</em></td><td>Barbados</td><td>13.1939</td><td>-59.5432</td><td>1/22/20</td></tr><tr><th>23</th><td><em>missing</em></td><td>Belarus</td><td>53.7098</td><td>27.9534</td><td>1/22/20</td></tr><tr><th>24</th><td><em>missing</em></td><td>Belgium</td><td>50.8333</td><td>4.46994</td><td>1/22/20</td></tr><tr><th>25</th><td><em>missing</em></td><td>Benin</td><td>9.3077</td><td>2.3158</td><td>1/22/20</td></tr><tr><th>26</th><td><em>missing</em></td><td>Bhutan</td><td>27.5142</td><td>90.4336</td><td>1/22/20</td></tr><tr><th>27</th><td><em>missing</em></td><td>Bolivia</td><td>-16.2902</td><td>-63.5887</td><td>1/22/20</td></tr><tr><th>28</th><td><em>missing</em></td><td>Bosnia and Herzegovina</td><td>43.9159</td><td>17.6791</td><td>1/22/20</td></tr><tr><th>29</th><td><em>missing</em></td><td>Brazil</td><td>-14.235</td><td>-51.9253</td><td>1/22/20</td></tr><tr><th>30</th><td><em>missing</em></td><td>Brunei</td><td>4.5353</td><td>114.728</td><td>1/22/20</td></tr><tr><th>&vellip;</th><td>&vellip;</td><td>&vellip;</td><td>&vellip;</td><td>&vellip;</td><td>&vellip;</td></tr></tbody></table>"
      ],
      "text/latex": [
       "\\begin{tabular}{r|cccccc}\n",
       "\t& Province/State & Country/Region & Lat & Long & Dates & \\\\\n",
       "\t\\hline\n",
       "\t& String? & String & Float64 & Float64 & Cat… & \\\\\n",
       "\t\\hline\n",
       "\t1 & \\emph{missing} & Afghanistan & 33.9391 & 67.71 & 1/22/20 & $\\dots$ \\\\\n",
       "\t2 & \\emph{missing} & Albania & 41.1533 & 20.1683 & 1/22/20 & $\\dots$ \\\\\n",
       "\t3 & \\emph{missing} & Algeria & 28.0339 & 1.6596 & 1/22/20 & $\\dots$ \\\\\n",
       "\t4 & \\emph{missing} & Andorra & 42.5063 & 1.5218 & 1/22/20 & $\\dots$ \\\\\n",
       "\t5 & \\emph{missing} & Angola & -11.2027 & 17.8739 & 1/22/20 & $\\dots$ \\\\\n",
       "\t6 & \\emph{missing} & Antigua and Barbuda & 17.0608 & -61.7964 & 1/22/20 & $\\dots$ \\\\\n",
       "\t7 & \\emph{missing} & Argentina & -38.4161 & -63.6167 & 1/22/20 & $\\dots$ \\\\\n",
       "\t8 & \\emph{missing} & Armenia & 40.0691 & 45.0382 & 1/22/20 & $\\dots$ \\\\\n",
       "\t9 & Australian Capital Territory & Australia & -35.4735 & 149.012 & 1/22/20 & $\\dots$ \\\\\n",
       "\t10 & New South Wales & Australia & -33.8688 & 151.209 & 1/22/20 & $\\dots$ \\\\\n",
       "\t11 & Northern Territory & Australia & -12.4634 & 130.846 & 1/22/20 & $\\dots$ \\\\\n",
       "\t12 & Queensland & Australia & -27.4698 & 153.025 & 1/22/20 & $\\dots$ \\\\\n",
       "\t13 & South Australia & Australia & -34.9285 & 138.601 & 1/22/20 & $\\dots$ \\\\\n",
       "\t14 & Tasmania & Australia & -42.8821 & 147.327 & 1/22/20 & $\\dots$ \\\\\n",
       "\t15 & Victoria & Australia & -37.8136 & 144.963 & 1/22/20 & $\\dots$ \\\\\n",
       "\t16 & Western Australia & Australia & -31.9505 & 115.861 & 1/22/20 & $\\dots$ \\\\\n",
       "\t17 & \\emph{missing} & Austria & 47.5162 & 14.5501 & 1/22/20 & $\\dots$ \\\\\n",
       "\t18 & \\emph{missing} & Azerbaijan & 40.1431 & 47.5769 & 1/22/20 & $\\dots$ \\\\\n",
       "\t19 & \\emph{missing} & Bahamas & 25.0259 & -78.0359 & 1/22/20 & $\\dots$ \\\\\n",
       "\t20 & \\emph{missing} & Bahrain & 26.0275 & 50.55 & 1/22/20 & $\\dots$ \\\\\n",
       "\t21 & \\emph{missing} & Bangladesh & 23.685 & 90.3563 & 1/22/20 & $\\dots$ \\\\\n",
       "\t22 & \\emph{missing} & Barbados & 13.1939 & -59.5432 & 1/22/20 & $\\dots$ \\\\\n",
       "\t23 & \\emph{missing} & Belarus & 53.7098 & 27.9534 & 1/22/20 & $\\dots$ \\\\\n",
       "\t24 & \\emph{missing} & Belgium & 50.8333 & 4.46994 & 1/22/20 & $\\dots$ \\\\\n",
       "\t25 & \\emph{missing} & Benin & 9.3077 & 2.3158 & 1/22/20 & $\\dots$ \\\\\n",
       "\t26 & \\emph{missing} & Bhutan & 27.5142 & 90.4336 & 1/22/20 & $\\dots$ \\\\\n",
       "\t27 & \\emph{missing} & Bolivia & -16.2902 & -63.5887 & 1/22/20 & $\\dots$ \\\\\n",
       "\t28 & \\emph{missing} & Bosnia and Herzegovina & 43.9159 & 17.6791 & 1/22/20 & $\\dots$ \\\\\n",
       "\t29 & \\emph{missing} & Brazil & -14.235 & -51.9253 & 1/22/20 & $\\dots$ \\\\\n",
       "\t30 & \\emph{missing} & Brunei & 4.5353 & 114.728 & 1/22/20 & $\\dots$ \\\\\n",
       "\t$\\dots$ & $\\dots$ & $\\dots$ & $\\dots$ & $\\dots$ & $\\dots$ &  \\\\\n",
       "\\end{tabular}\n"
      ],
      "text/plain": [
       "50540×6 DataFrame. Omitted printing of 3 columns\n",
       "│ Row   │ Province/State                   │ Country/Region        │ Lat      │\n",
       "│       │ \u001b[90mUnion{Missing, String}\u001b[39m           │ \u001b[90mString\u001b[39m                │ \u001b[90mFloat64\u001b[39m  │\n",
       "├───────┼──────────────────────────────────┼───────────────────────┼──────────┤\n",
       "│ 1     │ \u001b[90mmissing\u001b[39m                          │ Afghanistan           │ 33.9391  │\n",
       "│ 2     │ \u001b[90mmissing\u001b[39m                          │ Albania               │ 41.1533  │\n",
       "│ 3     │ \u001b[90mmissing\u001b[39m                          │ Algeria               │ 28.0339  │\n",
       "│ 4     │ \u001b[90mmissing\u001b[39m                          │ Andorra               │ 42.5063  │\n",
       "│ 5     │ \u001b[90mmissing\u001b[39m                          │ Angola                │ -11.2027 │\n",
       "│ 6     │ \u001b[90mmissing\u001b[39m                          │ Antigua and Barbuda   │ 17.0608  │\n",
       "│ 7     │ \u001b[90mmissing\u001b[39m                          │ Argentina             │ -38.4161 │\n",
       "│ 8     │ \u001b[90mmissing\u001b[39m                          │ Armenia               │ 40.0691  │\n",
       "│ 9     │ Australian Capital Territory     │ Australia             │ -35.4735 │\n",
       "│ 10    │ New South Wales                  │ Australia             │ -33.8688 │\n",
       "⋮\n",
       "│ 50530 │ Bonaire, Sint Eustatius and Saba │ Netherlands           │ 12.1784  │\n",
       "│ 50531 │ \u001b[90mmissing\u001b[39m                          │ Malawi                │ -13.2543 │\n",
       "│ 50532 │ Falkland Islands (Malvinas)      │ United Kingdom        │ -51.7963 │\n",
       "│ 50533 │ Saint Pierre and Miquelon        │ France                │ 46.8852  │\n",
       "│ 50534 │ \u001b[90mmissing\u001b[39m                          │ South Sudan           │ 6.877    │\n",
       "│ 50535 │ \u001b[90mmissing\u001b[39m                          │ Western Sahara        │ 24.2155  │\n",
       "│ 50536 │ \u001b[90mmissing\u001b[39m                          │ Sao Tome and Principe │ 0.1864   │\n",
       "│ 50537 │ \u001b[90mmissing\u001b[39m                          │ Yemen                 │ 15.5527  │\n",
       "│ 50538 │ \u001b[90mmissing\u001b[39m                          │ Comoros               │ -11.6455 │\n",
       "│ 50539 │ \u001b[90mmissing\u001b[39m                          │ Tajikistan            │ 38.861   │\n",
       "│ 50540 │ \u001b[90mmissing\u001b[39m                          │ Lesotho               │ -29.61   │"
      ]
     },
     "execution_count": 30,
     "metadata": {},
     "output_type": "execute_result"
    }
   ],
   "source": [
    "# Renaming \n",
    "rename!(df_confirmed, Dict(:variable => :Dates, :value => :Confirmed))"
   ]
  },
  {
   "cell_type": "code",
   "execution_count": 31,
   "metadata": {},
   "outputs": [
    {
     "data": {
      "text/html": [
       "<table class=\"data-frame\"><thead><tr><th></th><th>Province/State</th><th>Country/Region</th><th>Lat</th><th>Long</th><th>Dates</th></tr><tr><th></th><th>String?</th><th>String</th><th>Float64</th><th>Float64</th><th>Cat…</th></tr></thead><tbody><p>48,070 rows × 6 columns (omitted printing of 1 columns)</p><tr><th>1</th><td><em>missing</em></td><td>Afghanistan</td><td>33.9391</td><td>67.71</td><td>1/22/20</td></tr><tr><th>2</th><td><em>missing</em></td><td>Albania</td><td>41.1533</td><td>20.1683</td><td>1/22/20</td></tr><tr><th>3</th><td><em>missing</em></td><td>Algeria</td><td>28.0339</td><td>1.6596</td><td>1/22/20</td></tr><tr><th>4</th><td><em>missing</em></td><td>Andorra</td><td>42.5063</td><td>1.5218</td><td>1/22/20</td></tr><tr><th>5</th><td><em>missing</em></td><td>Angola</td><td>-11.2027</td><td>17.8739</td><td>1/22/20</td></tr><tr><th>6</th><td><em>missing</em></td><td>Antigua and Barbuda</td><td>17.0608</td><td>-61.7964</td><td>1/22/20</td></tr><tr><th>7</th><td><em>missing</em></td><td>Argentina</td><td>-38.4161</td><td>-63.6167</td><td>1/22/20</td></tr><tr><th>8</th><td><em>missing</em></td><td>Armenia</td><td>40.0691</td><td>45.0382</td><td>1/22/20</td></tr><tr><th>9</th><td>Australian Capital Territory</td><td>Australia</td><td>-35.4735</td><td>149.012</td><td>1/22/20</td></tr><tr><th>10</th><td>New South Wales</td><td>Australia</td><td>-33.8688</td><td>151.209</td><td>1/22/20</td></tr><tr><th>11</th><td>Northern Territory</td><td>Australia</td><td>-12.4634</td><td>130.846</td><td>1/22/20</td></tr><tr><th>12</th><td>Queensland</td><td>Australia</td><td>-27.4698</td><td>153.025</td><td>1/22/20</td></tr><tr><th>13</th><td>South Australia</td><td>Australia</td><td>-34.9285</td><td>138.601</td><td>1/22/20</td></tr><tr><th>14</th><td>Tasmania</td><td>Australia</td><td>-42.8821</td><td>147.327</td><td>1/22/20</td></tr><tr><th>15</th><td>Victoria</td><td>Australia</td><td>-37.8136</td><td>144.963</td><td>1/22/20</td></tr><tr><th>16</th><td>Western Australia</td><td>Australia</td><td>-31.9505</td><td>115.861</td><td>1/22/20</td></tr><tr><th>17</th><td><em>missing</em></td><td>Austria</td><td>47.5162</td><td>14.5501</td><td>1/22/20</td></tr><tr><th>18</th><td><em>missing</em></td><td>Azerbaijan</td><td>40.1431</td><td>47.5769</td><td>1/22/20</td></tr><tr><th>19</th><td><em>missing</em></td><td>Bahamas</td><td>25.0259</td><td>-78.0359</td><td>1/22/20</td></tr><tr><th>20</th><td><em>missing</em></td><td>Bahrain</td><td>26.0275</td><td>50.55</td><td>1/22/20</td></tr><tr><th>21</th><td><em>missing</em></td><td>Bangladesh</td><td>23.685</td><td>90.3563</td><td>1/22/20</td></tr><tr><th>22</th><td><em>missing</em></td><td>Barbados</td><td>13.1939</td><td>-59.5432</td><td>1/22/20</td></tr><tr><th>23</th><td><em>missing</em></td><td>Belarus</td><td>53.7098</td><td>27.9534</td><td>1/22/20</td></tr><tr><th>24</th><td><em>missing</em></td><td>Belgium</td><td>50.8333</td><td>4.46994</td><td>1/22/20</td></tr><tr><th>25</th><td><em>missing</em></td><td>Belize</td><td>17.1899</td><td>-88.4976</td><td>1/22/20</td></tr><tr><th>26</th><td><em>missing</em></td><td>Benin</td><td>9.3077</td><td>2.3158</td><td>1/22/20</td></tr><tr><th>27</th><td><em>missing</em></td><td>Bhutan</td><td>27.5142</td><td>90.4336</td><td>1/22/20</td></tr><tr><th>28</th><td><em>missing</em></td><td>Bolivia</td><td>-16.2902</td><td>-63.5887</td><td>1/22/20</td></tr><tr><th>29</th><td><em>missing</em></td><td>Bosnia and Herzegovina</td><td>43.9159</td><td>17.6791</td><td>1/22/20</td></tr><tr><th>30</th><td><em>missing</em></td><td>Brazil</td><td>-14.235</td><td>-51.9253</td><td>1/22/20</td></tr><tr><th>&vellip;</th><td>&vellip;</td><td>&vellip;</td><td>&vellip;</td><td>&vellip;</td><td>&vellip;</td></tr></tbody></table>"
      ],
      "text/latex": [
       "\\begin{tabular}{r|cccccc}\n",
       "\t& Province/State & Country/Region & Lat & Long & Dates & \\\\\n",
       "\t\\hline\n",
       "\t& String? & String & Float64 & Float64 & Cat… & \\\\\n",
       "\t\\hline\n",
       "\t1 & \\emph{missing} & Afghanistan & 33.9391 & 67.71 & 1/22/20 & $\\dots$ \\\\\n",
       "\t2 & \\emph{missing} & Albania & 41.1533 & 20.1683 & 1/22/20 & $\\dots$ \\\\\n",
       "\t3 & \\emph{missing} & Algeria & 28.0339 & 1.6596 & 1/22/20 & $\\dots$ \\\\\n",
       "\t4 & \\emph{missing} & Andorra & 42.5063 & 1.5218 & 1/22/20 & $\\dots$ \\\\\n",
       "\t5 & \\emph{missing} & Angola & -11.2027 & 17.8739 & 1/22/20 & $\\dots$ \\\\\n",
       "\t6 & \\emph{missing} & Antigua and Barbuda & 17.0608 & -61.7964 & 1/22/20 & $\\dots$ \\\\\n",
       "\t7 & \\emph{missing} & Argentina & -38.4161 & -63.6167 & 1/22/20 & $\\dots$ \\\\\n",
       "\t8 & \\emph{missing} & Armenia & 40.0691 & 45.0382 & 1/22/20 & $\\dots$ \\\\\n",
       "\t9 & Australian Capital Territory & Australia & -35.4735 & 149.012 & 1/22/20 & $\\dots$ \\\\\n",
       "\t10 & New South Wales & Australia & -33.8688 & 151.209 & 1/22/20 & $\\dots$ \\\\\n",
       "\t11 & Northern Territory & Australia & -12.4634 & 130.846 & 1/22/20 & $\\dots$ \\\\\n",
       "\t12 & Queensland & Australia & -27.4698 & 153.025 & 1/22/20 & $\\dots$ \\\\\n",
       "\t13 & South Australia & Australia & -34.9285 & 138.601 & 1/22/20 & $\\dots$ \\\\\n",
       "\t14 & Tasmania & Australia & -42.8821 & 147.327 & 1/22/20 & $\\dots$ \\\\\n",
       "\t15 & Victoria & Australia & -37.8136 & 144.963 & 1/22/20 & $\\dots$ \\\\\n",
       "\t16 & Western Australia & Australia & -31.9505 & 115.861 & 1/22/20 & $\\dots$ \\\\\n",
       "\t17 & \\emph{missing} & Austria & 47.5162 & 14.5501 & 1/22/20 & $\\dots$ \\\\\n",
       "\t18 & \\emph{missing} & Azerbaijan & 40.1431 & 47.5769 & 1/22/20 & $\\dots$ \\\\\n",
       "\t19 & \\emph{missing} & Bahamas & 25.0259 & -78.0359 & 1/22/20 & $\\dots$ \\\\\n",
       "\t20 & \\emph{missing} & Bahrain & 26.0275 & 50.55 & 1/22/20 & $\\dots$ \\\\\n",
       "\t21 & \\emph{missing} & Bangladesh & 23.685 & 90.3563 & 1/22/20 & $\\dots$ \\\\\n",
       "\t22 & \\emph{missing} & Barbados & 13.1939 & -59.5432 & 1/22/20 & $\\dots$ \\\\\n",
       "\t23 & \\emph{missing} & Belarus & 53.7098 & 27.9534 & 1/22/20 & $\\dots$ \\\\\n",
       "\t24 & \\emph{missing} & Belgium & 50.8333 & 4.46994 & 1/22/20 & $\\dots$ \\\\\n",
       "\t25 & \\emph{missing} & Belize & 17.1899 & -88.4976 & 1/22/20 & $\\dots$ \\\\\n",
       "\t26 & \\emph{missing} & Benin & 9.3077 & 2.3158 & 1/22/20 & $\\dots$ \\\\\n",
       "\t27 & \\emph{missing} & Bhutan & 27.5142 & 90.4336 & 1/22/20 & $\\dots$ \\\\\n",
       "\t28 & \\emph{missing} & Bolivia & -16.2902 & -63.5887 & 1/22/20 & $\\dots$ \\\\\n",
       "\t29 & \\emph{missing} & Bosnia and Herzegovina & 43.9159 & 17.6791 & 1/22/20 & $\\dots$ \\\\\n",
       "\t30 & \\emph{missing} & Brazil & -14.235 & -51.9253 & 1/22/20 & $\\dots$ \\\\\n",
       "\t$\\dots$ & $\\dots$ & $\\dots$ & $\\dots$ & $\\dots$ & $\\dots$ &  \\\\\n",
       "\\end{tabular}\n"
      ],
      "text/plain": [
       "48070×6 DataFrame. Omitted printing of 3 columns\n",
       "│ Row   │ Province/State                   │ Country/Region        │ Lat      │\n",
       "│       │ \u001b[90mUnion{Missing, String}\u001b[39m           │ \u001b[90mString\u001b[39m                │ \u001b[90mFloat64\u001b[39m  │\n",
       "├───────┼──────────────────────────────────┼───────────────────────┼──────────┤\n",
       "│ 1     │ \u001b[90mmissing\u001b[39m                          │ Afghanistan           │ 33.9391  │\n",
       "│ 2     │ \u001b[90mmissing\u001b[39m                          │ Albania               │ 41.1533  │\n",
       "│ 3     │ \u001b[90mmissing\u001b[39m                          │ Algeria               │ 28.0339  │\n",
       "│ 4     │ \u001b[90mmissing\u001b[39m                          │ Andorra               │ 42.5063  │\n",
       "│ 5     │ \u001b[90mmissing\u001b[39m                          │ Angola                │ -11.2027 │\n",
       "│ 6     │ \u001b[90mmissing\u001b[39m                          │ Antigua and Barbuda   │ 17.0608  │\n",
       "│ 7     │ \u001b[90mmissing\u001b[39m                          │ Argentina             │ -38.4161 │\n",
       "│ 8     │ \u001b[90mmissing\u001b[39m                          │ Armenia               │ 40.0691  │\n",
       "│ 9     │ Australian Capital Territory     │ Australia             │ -35.4735 │\n",
       "│ 10    │ New South Wales                  │ Australia             │ -33.8688 │\n",
       "⋮\n",
       "│ 48060 │ Bonaire, Sint Eustatius and Saba │ Netherlands           │ 12.1784  │\n",
       "│ 48061 │ \u001b[90mmissing\u001b[39m                          │ Malawi                │ -13.2543 │\n",
       "│ 48062 │ Falkland Islands (Malvinas)      │ United Kingdom        │ -51.7963 │\n",
       "│ 48063 │ Saint Pierre and Miquelon        │ France                │ 46.8852  │\n",
       "│ 48064 │ \u001b[90mmissing\u001b[39m                          │ South Sudan           │ 6.877    │\n",
       "│ 48065 │ \u001b[90mmissing\u001b[39m                          │ Western Sahara        │ 24.2155  │\n",
       "│ 48066 │ \u001b[90mmissing\u001b[39m                          │ Sao Tome and Principe │ 0.1864   │\n",
       "│ 48067 │ \u001b[90mmissing\u001b[39m                          │ Yemen                 │ 15.5527  │\n",
       "│ 48068 │ \u001b[90mmissing\u001b[39m                          │ Comoros               │ -11.6455 │\n",
       "│ 48069 │ \u001b[90mmissing\u001b[39m                          │ Tajikistan            │ 38.861   │\n",
       "│ 48070 │ \u001b[90mmissing\u001b[39m                          │ Lesotho               │ -29.61   │"
      ]
     },
     "execution_count": 31,
     "metadata": {},
     "output_type": "execute_result"
    }
   ],
   "source": [
    "# Renaming \n",
    "rename!(df_recovered, Dict(:variable => :Dates, :value => :Recovered))"
   ]
  },
  {
   "cell_type": "code",
   "execution_count": 32,
   "metadata": {},
   "outputs": [
    {
     "data": {
      "text/html": [
       "<table class=\"data-frame\"><thead><tr><th></th><th>Province/State</th><th>Country/Region</th><th>Lat</th><th>Long</th><th>Dates</th></tr><tr><th></th><th>String?</th><th>String</th><th>Float64</th><th>Float64</th><th>Cat…</th></tr></thead><tbody><p>50,540 rows × 6 columns (omitted printing of 1 columns)</p><tr><th>1</th><td><em>missing</em></td><td>Afghanistan</td><td>33.9391</td><td>67.71</td><td>1/22/20</td></tr><tr><th>2</th><td><em>missing</em></td><td>Albania</td><td>41.1533</td><td>20.1683</td><td>1/22/20</td></tr><tr><th>3</th><td><em>missing</em></td><td>Algeria</td><td>28.0339</td><td>1.6596</td><td>1/22/20</td></tr><tr><th>4</th><td><em>missing</em></td><td>Andorra</td><td>42.5063</td><td>1.5218</td><td>1/22/20</td></tr><tr><th>5</th><td><em>missing</em></td><td>Angola</td><td>-11.2027</td><td>17.8739</td><td>1/22/20</td></tr><tr><th>6</th><td><em>missing</em></td><td>Antigua and Barbuda</td><td>17.0608</td><td>-61.7964</td><td>1/22/20</td></tr><tr><th>7</th><td><em>missing</em></td><td>Argentina</td><td>-38.4161</td><td>-63.6167</td><td>1/22/20</td></tr><tr><th>8</th><td><em>missing</em></td><td>Armenia</td><td>40.0691</td><td>45.0382</td><td>1/22/20</td></tr><tr><th>9</th><td>Australian Capital Territory</td><td>Australia</td><td>-35.4735</td><td>149.012</td><td>1/22/20</td></tr><tr><th>10</th><td>New South Wales</td><td>Australia</td><td>-33.8688</td><td>151.209</td><td>1/22/20</td></tr><tr><th>11</th><td>Northern Territory</td><td>Australia</td><td>-12.4634</td><td>130.846</td><td>1/22/20</td></tr><tr><th>12</th><td>Queensland</td><td>Australia</td><td>-27.4698</td><td>153.025</td><td>1/22/20</td></tr><tr><th>13</th><td>South Australia</td><td>Australia</td><td>-34.9285</td><td>138.601</td><td>1/22/20</td></tr><tr><th>14</th><td>Tasmania</td><td>Australia</td><td>-42.8821</td><td>147.327</td><td>1/22/20</td></tr><tr><th>15</th><td>Victoria</td><td>Australia</td><td>-37.8136</td><td>144.963</td><td>1/22/20</td></tr><tr><th>16</th><td>Western Australia</td><td>Australia</td><td>-31.9505</td><td>115.861</td><td>1/22/20</td></tr><tr><th>17</th><td><em>missing</em></td><td>Austria</td><td>47.5162</td><td>14.5501</td><td>1/22/20</td></tr><tr><th>18</th><td><em>missing</em></td><td>Azerbaijan</td><td>40.1431</td><td>47.5769</td><td>1/22/20</td></tr><tr><th>19</th><td><em>missing</em></td><td>Bahamas</td><td>25.0259</td><td>-78.0359</td><td>1/22/20</td></tr><tr><th>20</th><td><em>missing</em></td><td>Bahrain</td><td>26.0275</td><td>50.55</td><td>1/22/20</td></tr><tr><th>21</th><td><em>missing</em></td><td>Bangladesh</td><td>23.685</td><td>90.3563</td><td>1/22/20</td></tr><tr><th>22</th><td><em>missing</em></td><td>Barbados</td><td>13.1939</td><td>-59.5432</td><td>1/22/20</td></tr><tr><th>23</th><td><em>missing</em></td><td>Belarus</td><td>53.7098</td><td>27.9534</td><td>1/22/20</td></tr><tr><th>24</th><td><em>missing</em></td><td>Belgium</td><td>50.8333</td><td>4.46994</td><td>1/22/20</td></tr><tr><th>25</th><td><em>missing</em></td><td>Benin</td><td>9.3077</td><td>2.3158</td><td>1/22/20</td></tr><tr><th>26</th><td><em>missing</em></td><td>Bhutan</td><td>27.5142</td><td>90.4336</td><td>1/22/20</td></tr><tr><th>27</th><td><em>missing</em></td><td>Bolivia</td><td>-16.2902</td><td>-63.5887</td><td>1/22/20</td></tr><tr><th>28</th><td><em>missing</em></td><td>Bosnia and Herzegovina</td><td>43.9159</td><td>17.6791</td><td>1/22/20</td></tr><tr><th>29</th><td><em>missing</em></td><td>Brazil</td><td>-14.235</td><td>-51.9253</td><td>1/22/20</td></tr><tr><th>30</th><td><em>missing</em></td><td>Brunei</td><td>4.5353</td><td>114.728</td><td>1/22/20</td></tr><tr><th>&vellip;</th><td>&vellip;</td><td>&vellip;</td><td>&vellip;</td><td>&vellip;</td><td>&vellip;</td></tr></tbody></table>"
      ],
      "text/latex": [
       "\\begin{tabular}{r|cccccc}\n",
       "\t& Province/State & Country/Region & Lat & Long & Dates & \\\\\n",
       "\t\\hline\n",
       "\t& String? & String & Float64 & Float64 & Cat… & \\\\\n",
       "\t\\hline\n",
       "\t1 & \\emph{missing} & Afghanistan & 33.9391 & 67.71 & 1/22/20 & $\\dots$ \\\\\n",
       "\t2 & \\emph{missing} & Albania & 41.1533 & 20.1683 & 1/22/20 & $\\dots$ \\\\\n",
       "\t3 & \\emph{missing} & Algeria & 28.0339 & 1.6596 & 1/22/20 & $\\dots$ \\\\\n",
       "\t4 & \\emph{missing} & Andorra & 42.5063 & 1.5218 & 1/22/20 & $\\dots$ \\\\\n",
       "\t5 & \\emph{missing} & Angola & -11.2027 & 17.8739 & 1/22/20 & $\\dots$ \\\\\n",
       "\t6 & \\emph{missing} & Antigua and Barbuda & 17.0608 & -61.7964 & 1/22/20 & $\\dots$ \\\\\n",
       "\t7 & \\emph{missing} & Argentina & -38.4161 & -63.6167 & 1/22/20 & $\\dots$ \\\\\n",
       "\t8 & \\emph{missing} & Armenia & 40.0691 & 45.0382 & 1/22/20 & $\\dots$ \\\\\n",
       "\t9 & Australian Capital Territory & Australia & -35.4735 & 149.012 & 1/22/20 & $\\dots$ \\\\\n",
       "\t10 & New South Wales & Australia & -33.8688 & 151.209 & 1/22/20 & $\\dots$ \\\\\n",
       "\t11 & Northern Territory & Australia & -12.4634 & 130.846 & 1/22/20 & $\\dots$ \\\\\n",
       "\t12 & Queensland & Australia & -27.4698 & 153.025 & 1/22/20 & $\\dots$ \\\\\n",
       "\t13 & South Australia & Australia & -34.9285 & 138.601 & 1/22/20 & $\\dots$ \\\\\n",
       "\t14 & Tasmania & Australia & -42.8821 & 147.327 & 1/22/20 & $\\dots$ \\\\\n",
       "\t15 & Victoria & Australia & -37.8136 & 144.963 & 1/22/20 & $\\dots$ \\\\\n",
       "\t16 & Western Australia & Australia & -31.9505 & 115.861 & 1/22/20 & $\\dots$ \\\\\n",
       "\t17 & \\emph{missing} & Austria & 47.5162 & 14.5501 & 1/22/20 & $\\dots$ \\\\\n",
       "\t18 & \\emph{missing} & Azerbaijan & 40.1431 & 47.5769 & 1/22/20 & $\\dots$ \\\\\n",
       "\t19 & \\emph{missing} & Bahamas & 25.0259 & -78.0359 & 1/22/20 & $\\dots$ \\\\\n",
       "\t20 & \\emph{missing} & Bahrain & 26.0275 & 50.55 & 1/22/20 & $\\dots$ \\\\\n",
       "\t21 & \\emph{missing} & Bangladesh & 23.685 & 90.3563 & 1/22/20 & $\\dots$ \\\\\n",
       "\t22 & \\emph{missing} & Barbados & 13.1939 & -59.5432 & 1/22/20 & $\\dots$ \\\\\n",
       "\t23 & \\emph{missing} & Belarus & 53.7098 & 27.9534 & 1/22/20 & $\\dots$ \\\\\n",
       "\t24 & \\emph{missing} & Belgium & 50.8333 & 4.46994 & 1/22/20 & $\\dots$ \\\\\n",
       "\t25 & \\emph{missing} & Benin & 9.3077 & 2.3158 & 1/22/20 & $\\dots$ \\\\\n",
       "\t26 & \\emph{missing} & Bhutan & 27.5142 & 90.4336 & 1/22/20 & $\\dots$ \\\\\n",
       "\t27 & \\emph{missing} & Bolivia & -16.2902 & -63.5887 & 1/22/20 & $\\dots$ \\\\\n",
       "\t28 & \\emph{missing} & Bosnia and Herzegovina & 43.9159 & 17.6791 & 1/22/20 & $\\dots$ \\\\\n",
       "\t29 & \\emph{missing} & Brazil & -14.235 & -51.9253 & 1/22/20 & $\\dots$ \\\\\n",
       "\t30 & \\emph{missing} & Brunei & 4.5353 & 114.728 & 1/22/20 & $\\dots$ \\\\\n",
       "\t$\\dots$ & $\\dots$ & $\\dots$ & $\\dots$ & $\\dots$ & $\\dots$ &  \\\\\n",
       "\\end{tabular}\n"
      ],
      "text/plain": [
       "50540×6 DataFrame. Omitted printing of 3 columns\n",
       "│ Row   │ Province/State                   │ Country/Region        │ Lat      │\n",
       "│       │ \u001b[90mUnion{Missing, String}\u001b[39m           │ \u001b[90mString\u001b[39m                │ \u001b[90mFloat64\u001b[39m  │\n",
       "├───────┼──────────────────────────────────┼───────────────────────┼──────────┤\n",
       "│ 1     │ \u001b[90mmissing\u001b[39m                          │ Afghanistan           │ 33.9391  │\n",
       "│ 2     │ \u001b[90mmissing\u001b[39m                          │ Albania               │ 41.1533  │\n",
       "│ 3     │ \u001b[90mmissing\u001b[39m                          │ Algeria               │ 28.0339  │\n",
       "│ 4     │ \u001b[90mmissing\u001b[39m                          │ Andorra               │ 42.5063  │\n",
       "│ 5     │ \u001b[90mmissing\u001b[39m                          │ Angola                │ -11.2027 │\n",
       "│ 6     │ \u001b[90mmissing\u001b[39m                          │ Antigua and Barbuda   │ 17.0608  │\n",
       "│ 7     │ \u001b[90mmissing\u001b[39m                          │ Argentina             │ -38.4161 │\n",
       "│ 8     │ \u001b[90mmissing\u001b[39m                          │ Armenia               │ 40.0691  │\n",
       "│ 9     │ Australian Capital Territory     │ Australia             │ -35.4735 │\n",
       "│ 10    │ New South Wales                  │ Australia             │ -33.8688 │\n",
       "⋮\n",
       "│ 50530 │ Bonaire, Sint Eustatius and Saba │ Netherlands           │ 12.1784  │\n",
       "│ 50531 │ \u001b[90mmissing\u001b[39m                          │ Malawi                │ -13.2543 │\n",
       "│ 50532 │ Falkland Islands (Malvinas)      │ United Kingdom        │ -51.7963 │\n",
       "│ 50533 │ Saint Pierre and Miquelon        │ France                │ 46.8852  │\n",
       "│ 50534 │ \u001b[90mmissing\u001b[39m                          │ South Sudan           │ 6.877    │\n",
       "│ 50535 │ \u001b[90mmissing\u001b[39m                          │ Western Sahara        │ 24.2155  │\n",
       "│ 50536 │ \u001b[90mmissing\u001b[39m                          │ Sao Tome and Principe │ 0.1864   │\n",
       "│ 50537 │ \u001b[90mmissing\u001b[39m                          │ Yemen                 │ 15.5527  │\n",
       "│ 50538 │ \u001b[90mmissing\u001b[39m                          │ Comoros               │ -11.6455 │\n",
       "│ 50539 │ \u001b[90mmissing\u001b[39m                          │ Tajikistan            │ 38.861   │\n",
       "│ 50540 │ \u001b[90mmissing\u001b[39m                          │ Lesotho               │ -29.61   │"
      ]
     },
     "execution_count": 32,
     "metadata": {},
     "output_type": "execute_result"
    }
   ],
   "source": [
    "# Renaming \n",
    "rename!(df_death, Dict(:variable => :Dates, :value => :Death))"
   ]
  },
  {
   "cell_type": "code",
   "execution_count": 33,
   "metadata": {},
   "outputs": [
    {
     "name": "stderr",
     "output_type": "stream",
     "text": [
      "┌ Warning: `head(df::AbstractDataFrame)` is deprecated, use `first(df, 6)` instead.\n",
      "│   caller = top-level scope at In[33]:1\n",
      "└ @ Core In[33]:1\n"
     ]
    },
    {
     "data": {
      "text/html": [
       "<table class=\"data-frame\"><thead><tr><th></th><th>Province/State</th><th>Country/Region</th><th>Lat</th><th>Long</th><th>Dates</th><th>Death</th></tr><tr><th></th><th>String?</th><th>String</th><th>Float64</th><th>Float64</th><th>Cat…</th><th>Int64</th></tr></thead><tbody><p>6 rows × 6 columns</p><tr><th>1</th><td><em>missing</em></td><td>Afghanistan</td><td>33.9391</td><td>67.71</td><td>1/22/20</td><td>0</td></tr><tr><th>2</th><td><em>missing</em></td><td>Albania</td><td>41.1533</td><td>20.1683</td><td>1/22/20</td><td>0</td></tr><tr><th>3</th><td><em>missing</em></td><td>Algeria</td><td>28.0339</td><td>1.6596</td><td>1/22/20</td><td>0</td></tr><tr><th>4</th><td><em>missing</em></td><td>Andorra</td><td>42.5063</td><td>1.5218</td><td>1/22/20</td><td>0</td></tr><tr><th>5</th><td><em>missing</em></td><td>Angola</td><td>-11.2027</td><td>17.8739</td><td>1/22/20</td><td>0</td></tr><tr><th>6</th><td><em>missing</em></td><td>Antigua and Barbuda</td><td>17.0608</td><td>-61.7964</td><td>1/22/20</td><td>0</td></tr></tbody></table>"
      ],
      "text/latex": [
       "\\begin{tabular}{r|cccccc}\n",
       "\t& Province/State & Country/Region & Lat & Long & Dates & Death\\\\\n",
       "\t\\hline\n",
       "\t& String? & String & Float64 & Float64 & Cat… & Int64\\\\\n",
       "\t\\hline\n",
       "\t1 & \\emph{missing} & Afghanistan & 33.9391 & 67.71 & 1/22/20 & 0 \\\\\n",
       "\t2 & \\emph{missing} & Albania & 41.1533 & 20.1683 & 1/22/20 & 0 \\\\\n",
       "\t3 & \\emph{missing} & Algeria & 28.0339 & 1.6596 & 1/22/20 & 0 \\\\\n",
       "\t4 & \\emph{missing} & Andorra & 42.5063 & 1.5218 & 1/22/20 & 0 \\\\\n",
       "\t5 & \\emph{missing} & Angola & -11.2027 & 17.8739 & 1/22/20 & 0 \\\\\n",
       "\t6 & \\emph{missing} & Antigua and Barbuda & 17.0608 & -61.7964 & 1/22/20 & 0 \\\\\n",
       "\\end{tabular}\n"
      ],
      "text/plain": [
       "6×6 DataFrame. Omitted printing of 1 columns\n",
       "│ Row │ Province/State │ Country/Region      │ Lat      │ Long     │ Dates   │\n",
       "│     │ \u001b[90mString?\u001b[39m        │ \u001b[90mString\u001b[39m              │ \u001b[90mFloat64\u001b[39m  │ \u001b[90mFloat64\u001b[39m  │ \u001b[90mCat…\u001b[39m    │\n",
       "├─────┼────────────────┼─────────────────────┼──────────┼──────────┼─────────┤\n",
       "│ 1   │ \u001b[90mmissing\u001b[39m        │ Afghanistan         │ 33.9391  │ 67.71    │ 1/22/20 │\n",
       "│ 2   │ \u001b[90mmissing\u001b[39m        │ Albania             │ 41.1533  │ 20.1683  │ 1/22/20 │\n",
       "│ 3   │ \u001b[90mmissing\u001b[39m        │ Algeria             │ 28.0339  │ 1.6596   │ 1/22/20 │\n",
       "│ 4   │ \u001b[90mmissing\u001b[39m        │ Andorra             │ 42.5063  │ 1.5218   │ 1/22/20 │\n",
       "│ 5   │ \u001b[90mmissing\u001b[39m        │ Angola              │ -11.2027 │ 17.8739  │ 1/22/20 │\n",
       "│ 6   │ \u001b[90mmissing\u001b[39m        │ Antigua and Barbuda │ 17.0608  │ -61.7964 │ 1/22/20 │"
      ]
     },
     "execution_count": 33,
     "metadata": {},
     "output_type": "execute_result"
    }
   ],
   "source": [
    "head(df_death)"
   ]
  },
  {
   "cell_type": "code",
   "execution_count": 36,
   "metadata": {},
   "outputs": [
    {
     "data": {
      "text/html": [
       "<table class=\"data-frame\"><thead><tr><th></th><th>Province/State</th><th>Country/Region</th><th>Lat</th><th>Long</th><th>Dates</th><th>Confirmed</th><th>Death</th></tr><tr><th></th><th>String?</th><th>String</th><th>Float64</th><th>Float64</th><th>Cat…</th><th>Int64</th><th>Int64</th></tr></thead><tbody><p>65,196,600 rows × 7 columns</p><tr><th>1</th><td><em>missing</em></td><td>Afghanistan</td><td>33.9391</td><td>67.71</td><td>1/22/20</td><td>0</td><td>0</td></tr><tr><th>2</th><td><em>missing</em></td><td>Afghanistan</td><td>33.9391</td><td>67.71</td><td>1/22/20</td><td>0</td><td>0</td></tr><tr><th>3</th><td><em>missing</em></td><td>Afghanistan</td><td>33.9391</td><td>67.71</td><td>1/22/20</td><td>0</td><td>0</td></tr><tr><th>4</th><td><em>missing</em></td><td>Afghanistan</td><td>33.9391</td><td>67.71</td><td>1/22/20</td><td>0</td><td>0</td></tr><tr><th>5</th><td><em>missing</em></td><td>Afghanistan</td><td>33.9391</td><td>67.71</td><td>1/22/20</td><td>0</td><td>0</td></tr><tr><th>6</th><td><em>missing</em></td><td>Afghanistan</td><td>33.9391</td><td>67.71</td><td>1/22/20</td><td>0</td><td>0</td></tr><tr><th>7</th><td><em>missing</em></td><td>Afghanistan</td><td>33.9391</td><td>67.71</td><td>1/22/20</td><td>0</td><td>0</td></tr><tr><th>8</th><td><em>missing</em></td><td>Afghanistan</td><td>33.9391</td><td>67.71</td><td>1/22/20</td><td>0</td><td>0</td></tr><tr><th>9</th><td><em>missing</em></td><td>Afghanistan</td><td>33.9391</td><td>67.71</td><td>1/22/20</td><td>0</td><td>0</td></tr><tr><th>10</th><td><em>missing</em></td><td>Afghanistan</td><td>33.9391</td><td>67.71</td><td>1/22/20</td><td>0</td><td>0</td></tr><tr><th>11</th><td><em>missing</em></td><td>Afghanistan</td><td>33.9391</td><td>67.71</td><td>1/22/20</td><td>0</td><td>0</td></tr><tr><th>12</th><td><em>missing</em></td><td>Afghanistan</td><td>33.9391</td><td>67.71</td><td>1/22/20</td><td>0</td><td>0</td></tr><tr><th>13</th><td><em>missing</em></td><td>Afghanistan</td><td>33.9391</td><td>67.71</td><td>1/22/20</td><td>0</td><td>0</td></tr><tr><th>14</th><td><em>missing</em></td><td>Afghanistan</td><td>33.9391</td><td>67.71</td><td>1/22/20</td><td>0</td><td>0</td></tr><tr><th>15</th><td><em>missing</em></td><td>Afghanistan</td><td>33.9391</td><td>67.71</td><td>1/22/20</td><td>0</td><td>0</td></tr><tr><th>16</th><td><em>missing</em></td><td>Afghanistan</td><td>33.9391</td><td>67.71</td><td>1/22/20</td><td>0</td><td>0</td></tr><tr><th>17</th><td><em>missing</em></td><td>Afghanistan</td><td>33.9391</td><td>67.71</td><td>1/22/20</td><td>0</td><td>0</td></tr><tr><th>18</th><td><em>missing</em></td><td>Afghanistan</td><td>33.9391</td><td>67.71</td><td>1/22/20</td><td>0</td><td>0</td></tr><tr><th>19</th><td><em>missing</em></td><td>Afghanistan</td><td>33.9391</td><td>67.71</td><td>1/22/20</td><td>0</td><td>0</td></tr><tr><th>20</th><td><em>missing</em></td><td>Afghanistan</td><td>33.9391</td><td>67.71</td><td>1/22/20</td><td>0</td><td>0</td></tr><tr><th>21</th><td><em>missing</em></td><td>Afghanistan</td><td>33.9391</td><td>67.71</td><td>1/22/20</td><td>0</td><td>0</td></tr><tr><th>22</th><td><em>missing</em></td><td>Afghanistan</td><td>33.9391</td><td>67.71</td><td>1/22/20</td><td>0</td><td>0</td></tr><tr><th>23</th><td><em>missing</em></td><td>Afghanistan</td><td>33.9391</td><td>67.71</td><td>1/22/20</td><td>0</td><td>0</td></tr><tr><th>24</th><td><em>missing</em></td><td>Afghanistan</td><td>33.9391</td><td>67.71</td><td>1/22/20</td><td>0</td><td>0</td></tr><tr><th>25</th><td><em>missing</em></td><td>Afghanistan</td><td>33.9391</td><td>67.71</td><td>1/22/20</td><td>0</td><td>0</td></tr><tr><th>26</th><td><em>missing</em></td><td>Afghanistan</td><td>33.9391</td><td>67.71</td><td>1/22/20</td><td>0</td><td>0</td></tr><tr><th>27</th><td><em>missing</em></td><td>Afghanistan</td><td>33.9391</td><td>67.71</td><td>1/22/20</td><td>0</td><td>0</td></tr><tr><th>28</th><td><em>missing</em></td><td>Afghanistan</td><td>33.9391</td><td>67.71</td><td>1/22/20</td><td>0</td><td>0</td></tr><tr><th>29</th><td><em>missing</em></td><td>Afghanistan</td><td>33.9391</td><td>67.71</td><td>1/22/20</td><td>0</td><td>0</td></tr><tr><th>30</th><td><em>missing</em></td><td>Afghanistan</td><td>33.9391</td><td>67.71</td><td>1/22/20</td><td>0</td><td>0</td></tr><tr><th>&vellip;</th><td>&vellip;</td><td>&vellip;</td><td>&vellip;</td><td>&vellip;</td><td>&vellip;</td><td>&vellip;</td><td>&vellip;</td></tr></tbody></table>"
      ],
      "text/latex": [
       "\\begin{tabular}{r|ccccccc}\n",
       "\t& Province/State & Country/Region & Lat & Long & Dates & Confirmed & Death\\\\\n",
       "\t\\hline\n",
       "\t& String? & String & Float64 & Float64 & Cat… & Int64 & Int64\\\\\n",
       "\t\\hline\n",
       "\t1 & \\emph{missing} & Afghanistan & 33.9391 & 67.71 & 1/22/20 & 0 & 0 \\\\\n",
       "\t2 & \\emph{missing} & Afghanistan & 33.9391 & 67.71 & 1/22/20 & 0 & 0 \\\\\n",
       "\t3 & \\emph{missing} & Afghanistan & 33.9391 & 67.71 & 1/22/20 & 0 & 0 \\\\\n",
       "\t4 & \\emph{missing} & Afghanistan & 33.9391 & 67.71 & 1/22/20 & 0 & 0 \\\\\n",
       "\t5 & \\emph{missing} & Afghanistan & 33.9391 & 67.71 & 1/22/20 & 0 & 0 \\\\\n",
       "\t6 & \\emph{missing} & Afghanistan & 33.9391 & 67.71 & 1/22/20 & 0 & 0 \\\\\n",
       "\t7 & \\emph{missing} & Afghanistan & 33.9391 & 67.71 & 1/22/20 & 0 & 0 \\\\\n",
       "\t8 & \\emph{missing} & Afghanistan & 33.9391 & 67.71 & 1/22/20 & 0 & 0 \\\\\n",
       "\t9 & \\emph{missing} & Afghanistan & 33.9391 & 67.71 & 1/22/20 & 0 & 0 \\\\\n",
       "\t10 & \\emph{missing} & Afghanistan & 33.9391 & 67.71 & 1/22/20 & 0 & 0 \\\\\n",
       "\t11 & \\emph{missing} & Afghanistan & 33.9391 & 67.71 & 1/22/20 & 0 & 0 \\\\\n",
       "\t12 & \\emph{missing} & Afghanistan & 33.9391 & 67.71 & 1/22/20 & 0 & 0 \\\\\n",
       "\t13 & \\emph{missing} & Afghanistan & 33.9391 & 67.71 & 1/22/20 & 0 & 0 \\\\\n",
       "\t14 & \\emph{missing} & Afghanistan & 33.9391 & 67.71 & 1/22/20 & 0 & 0 \\\\\n",
       "\t15 & \\emph{missing} & Afghanistan & 33.9391 & 67.71 & 1/22/20 & 0 & 0 \\\\\n",
       "\t16 & \\emph{missing} & Afghanistan & 33.9391 & 67.71 & 1/22/20 & 0 & 0 \\\\\n",
       "\t17 & \\emph{missing} & Afghanistan & 33.9391 & 67.71 & 1/22/20 & 0 & 0 \\\\\n",
       "\t18 & \\emph{missing} & Afghanistan & 33.9391 & 67.71 & 1/22/20 & 0 & 0 \\\\\n",
       "\t19 & \\emph{missing} & Afghanistan & 33.9391 & 67.71 & 1/22/20 & 0 & 0 \\\\\n",
       "\t20 & \\emph{missing} & Afghanistan & 33.9391 & 67.71 & 1/22/20 & 0 & 0 \\\\\n",
       "\t21 & \\emph{missing} & Afghanistan & 33.9391 & 67.71 & 1/22/20 & 0 & 0 \\\\\n",
       "\t22 & \\emph{missing} & Afghanistan & 33.9391 & 67.71 & 1/22/20 & 0 & 0 \\\\\n",
       "\t23 & \\emph{missing} & Afghanistan & 33.9391 & 67.71 & 1/22/20 & 0 & 0 \\\\\n",
       "\t24 & \\emph{missing} & Afghanistan & 33.9391 & 67.71 & 1/22/20 & 0 & 0 \\\\\n",
       "\t25 & \\emph{missing} & Afghanistan & 33.9391 & 67.71 & 1/22/20 & 0 & 0 \\\\\n",
       "\t26 & \\emph{missing} & Afghanistan & 33.9391 & 67.71 & 1/22/20 & 0 & 0 \\\\\n",
       "\t27 & \\emph{missing} & Afghanistan & 33.9391 & 67.71 & 1/22/20 & 0 & 0 \\\\\n",
       "\t28 & \\emph{missing} & Afghanistan & 33.9391 & 67.71 & 1/22/20 & 0 & 0 \\\\\n",
       "\t29 & \\emph{missing} & Afghanistan & 33.9391 & 67.71 & 1/22/20 & 0 & 0 \\\\\n",
       "\t30 & \\emph{missing} & Afghanistan & 33.9391 & 67.71 & 1/22/20 & 0 & 0 \\\\\n",
       "\t$\\dots$ & $\\dots$ & $\\dots$ & $\\dots$ & $\\dots$ & $\\dots$ & $\\dots$ & $\\dots$ \\\\\n",
       "\\end{tabular}\n"
      ],
      "text/plain": [
       "65196600×7 DataFrame. Omitted printing of 2 columns\n",
       "│ Row      │ Province/State │ Country/Region │ Lat     │ Long    │ Dates   │\n",
       "│          │ \u001b[90mString?\u001b[39m        │ \u001b[90mString\u001b[39m         │ \u001b[90mFloat64\u001b[39m │ \u001b[90mFloat64\u001b[39m │ \u001b[90mCat…\u001b[39m    │\n",
       "├──────────┼────────────────┼────────────────┼─────────┼─────────┼─────────┤\n",
       "│ 1        │ \u001b[90mmissing\u001b[39m        │ Afghanistan    │ 33.9391 │ 67.71   │ 1/22/20 │\n",
       "│ 2        │ \u001b[90mmissing\u001b[39m        │ Afghanistan    │ 33.9391 │ 67.71   │ 1/22/20 │\n",
       "│ 3        │ \u001b[90mmissing\u001b[39m        │ Afghanistan    │ 33.9391 │ 67.71   │ 1/22/20 │\n",
       "│ 4        │ \u001b[90mmissing\u001b[39m        │ Afghanistan    │ 33.9391 │ 67.71   │ 1/22/20 │\n",
       "│ 5        │ \u001b[90mmissing\u001b[39m        │ Afghanistan    │ 33.9391 │ 67.71   │ 1/22/20 │\n",
       "│ 6        │ \u001b[90mmissing\u001b[39m        │ Afghanistan    │ 33.9391 │ 67.71   │ 1/22/20 │\n",
       "│ 7        │ \u001b[90mmissing\u001b[39m        │ Afghanistan    │ 33.9391 │ 67.71   │ 1/22/20 │\n",
       "│ 8        │ \u001b[90mmissing\u001b[39m        │ Afghanistan    │ 33.9391 │ 67.71   │ 1/22/20 │\n",
       "│ 9        │ \u001b[90mmissing\u001b[39m        │ Afghanistan    │ 33.9391 │ 67.71   │ 1/22/20 │\n",
       "│ 10       │ \u001b[90mmissing\u001b[39m        │ Afghanistan    │ 33.9391 │ 67.71   │ 1/22/20 │\n",
       "⋮\n",
       "│ 65196590 │ \u001b[90mmissing\u001b[39m        │ Lesotho        │ -29.61  │ 28.2336 │ 7/29/20 │\n",
       "│ 65196591 │ \u001b[90mmissing\u001b[39m        │ Lesotho        │ -29.61  │ 28.2336 │ 7/29/20 │\n",
       "│ 65196592 │ \u001b[90mmissing\u001b[39m        │ Lesotho        │ -29.61  │ 28.2336 │ 7/29/20 │\n",
       "│ 65196593 │ \u001b[90mmissing\u001b[39m        │ Lesotho        │ -29.61  │ 28.2336 │ 7/29/20 │\n",
       "│ 65196594 │ \u001b[90mmissing\u001b[39m        │ Lesotho        │ -29.61  │ 28.2336 │ 7/29/20 │\n",
       "│ 65196595 │ \u001b[90mmissing\u001b[39m        │ Lesotho        │ -29.61  │ 28.2336 │ 7/29/20 │\n",
       "│ 65196596 │ \u001b[90mmissing\u001b[39m        │ Lesotho        │ -29.61  │ 28.2336 │ 7/29/20 │\n",
       "│ 65196597 │ \u001b[90mmissing\u001b[39m        │ Lesotho        │ -29.61  │ 28.2336 │ 7/29/20 │\n",
       "│ 65196598 │ \u001b[90mmissing\u001b[39m        │ Lesotho        │ -29.61  │ 28.2336 │ 7/29/20 │\n",
       "│ 65196599 │ \u001b[90mmissing\u001b[39m        │ Lesotho        │ -29.61  │ 28.2336 │ 7/29/20 │\n",
       "│ 65196600 │ \u001b[90mmissing\u001b[39m        │ Lesotho        │ -29.61  │ 28.2336 │ 7/29/20 │"
      ]
     },
     "execution_count": 36,
     "metadata": {},
     "output_type": "execute_result"
    }
   ],
   "source": [
    "# Joining or Merging \n",
    "df= join(df_confirmed,df_death[!,[:Death,Symbol(\"Country/Region\")]], on =Symbol(\"Country/Region\"))"
   ]
  },
  {
   "cell_type": "code",
   "execution_count": 37,
   "metadata": {},
   "outputs": [
    {
     "data": {
      "text/plain": [
       "\"Covid_Julia_Dataset\""
      ]
     },
     "execution_count": 37,
     "metadata": {},
     "output_type": "execute_result"
    }
   ],
   "source": [
    "# Save DF\n",
    "CSV.write(\"Covid_Julia_Dataset\",df)"
   ]
  },
  {
   "cell_type": "code",
   "execution_count": 38,
   "metadata": {},
   "outputs": [
    {
     "data": {
      "text/html": [
       "<table class=\"data-frame\"><thead><tr><th></th><th>Province/State</th><th>Country/Region</th><th>Lat</th><th>Long</th><th>Dates</th><th>Confirmed</th><th>Death</th></tr><tr><th></th><th>String?</th><th>String</th><th>Float64</th><th>Float64</th><th>Cat…</th><th>Int64</th><th>Int64</th></tr></thead><tbody><p>10 rows × 7 columns</p><tr><th>1</th><td><em>missing</em></td><td>Afghanistan</td><td>33.9391</td><td>67.71</td><td>1/22/20</td><td>0</td><td>0</td></tr><tr><th>2</th><td><em>missing</em></td><td>Afghanistan</td><td>33.9391</td><td>67.71</td><td>1/22/20</td><td>0</td><td>0</td></tr><tr><th>3</th><td><em>missing</em></td><td>Afghanistan</td><td>33.9391</td><td>67.71</td><td>1/22/20</td><td>0</td><td>0</td></tr><tr><th>4</th><td><em>missing</em></td><td>Afghanistan</td><td>33.9391</td><td>67.71</td><td>1/22/20</td><td>0</td><td>0</td></tr><tr><th>5</th><td><em>missing</em></td><td>Afghanistan</td><td>33.9391</td><td>67.71</td><td>1/22/20</td><td>0</td><td>0</td></tr><tr><th>6</th><td><em>missing</em></td><td>Afghanistan</td><td>33.9391</td><td>67.71</td><td>1/22/20</td><td>0</td><td>0</td></tr><tr><th>7</th><td><em>missing</em></td><td>Afghanistan</td><td>33.9391</td><td>67.71</td><td>1/22/20</td><td>0</td><td>0</td></tr><tr><th>8</th><td><em>missing</em></td><td>Afghanistan</td><td>33.9391</td><td>67.71</td><td>1/22/20</td><td>0</td><td>0</td></tr><tr><th>9</th><td><em>missing</em></td><td>Afghanistan</td><td>33.9391</td><td>67.71</td><td>1/22/20</td><td>0</td><td>0</td></tr><tr><th>10</th><td><em>missing</em></td><td>Afghanistan</td><td>33.9391</td><td>67.71</td><td>1/22/20</td><td>0</td><td>0</td></tr></tbody></table>"
      ],
      "text/latex": [
       "\\begin{tabular}{r|ccccccc}\n",
       "\t& Province/State & Country/Region & Lat & Long & Dates & Confirmed & Death\\\\\n",
       "\t\\hline\n",
       "\t& String? & String & Float64 & Float64 & Cat… & Int64 & Int64\\\\\n",
       "\t\\hline\n",
       "\t1 & \\emph{missing} & Afghanistan & 33.9391 & 67.71 & 1/22/20 & 0 & 0 \\\\\n",
       "\t2 & \\emph{missing} & Afghanistan & 33.9391 & 67.71 & 1/22/20 & 0 & 0 \\\\\n",
       "\t3 & \\emph{missing} & Afghanistan & 33.9391 & 67.71 & 1/22/20 & 0 & 0 \\\\\n",
       "\t4 & \\emph{missing} & Afghanistan & 33.9391 & 67.71 & 1/22/20 & 0 & 0 \\\\\n",
       "\t5 & \\emph{missing} & Afghanistan & 33.9391 & 67.71 & 1/22/20 & 0 & 0 \\\\\n",
       "\t6 & \\emph{missing} & Afghanistan & 33.9391 & 67.71 & 1/22/20 & 0 & 0 \\\\\n",
       "\t7 & \\emph{missing} & Afghanistan & 33.9391 & 67.71 & 1/22/20 & 0 & 0 \\\\\n",
       "\t8 & \\emph{missing} & Afghanistan & 33.9391 & 67.71 & 1/22/20 & 0 & 0 \\\\\n",
       "\t9 & \\emph{missing} & Afghanistan & 33.9391 & 67.71 & 1/22/20 & 0 & 0 \\\\\n",
       "\t10 & \\emph{missing} & Afghanistan & 33.9391 & 67.71 & 1/22/20 & 0 & 0 \\\\\n",
       "\\end{tabular}\n"
      ],
      "text/plain": [
       "10×7 DataFrame. Omitted printing of 2 columns\n",
       "│ Row │ Province/State │ Country/Region │ Lat     │ Long    │ Dates   │\n",
       "│     │ \u001b[90mString?\u001b[39m        │ \u001b[90mString\u001b[39m         │ \u001b[90mFloat64\u001b[39m │ \u001b[90mFloat64\u001b[39m │ \u001b[90mCat…\u001b[39m    │\n",
       "├─────┼────────────────┼────────────────┼─────────┼─────────┼─────────┤\n",
       "│ 1   │ \u001b[90mmissing\u001b[39m        │ Afghanistan    │ 33.9391 │ 67.71   │ 1/22/20 │\n",
       "│ 2   │ \u001b[90mmissing\u001b[39m        │ Afghanistan    │ 33.9391 │ 67.71   │ 1/22/20 │\n",
       "│ 3   │ \u001b[90mmissing\u001b[39m        │ Afghanistan    │ 33.9391 │ 67.71   │ 1/22/20 │\n",
       "│ 4   │ \u001b[90mmissing\u001b[39m        │ Afghanistan    │ 33.9391 │ 67.71   │ 1/22/20 │\n",
       "│ 5   │ \u001b[90mmissing\u001b[39m        │ Afghanistan    │ 33.9391 │ 67.71   │ 1/22/20 │\n",
       "│ 6   │ \u001b[90mmissing\u001b[39m        │ Afghanistan    │ 33.9391 │ 67.71   │ 1/22/20 │\n",
       "│ 7   │ \u001b[90mmissing\u001b[39m        │ Afghanistan    │ 33.9391 │ 67.71   │ 1/22/20 │\n",
       "│ 8   │ \u001b[90mmissing\u001b[39m        │ Afghanistan    │ 33.9391 │ 67.71   │ 1/22/20 │\n",
       "│ 9   │ \u001b[90mmissing\u001b[39m        │ Afghanistan    │ 33.9391 │ 67.71   │ 1/22/20 │\n",
       "│ 10  │ \u001b[90mmissing\u001b[39m        │ Afghanistan    │ 33.9391 │ 67.71   │ 1/22/20 │"
      ]
     },
     "execution_count": 38,
     "metadata": {},
     "output_type": "execute_result"
    }
   ],
   "source": [
    " # Number of Countries affected\n",
    "first(df,10)"
   ]
  },
  {
   "cell_type": "code",
   "execution_count": 39,
   "metadata": {},
   "outputs": [
    {
     "data": {
      "text/plain": [
       "188-element Array{String,1}:\n",
       " \"Afghanistan\"\n",
       " \"Albania\"\n",
       " \"Algeria\"\n",
       " \"Andorra\"\n",
       " \"Angola\"\n",
       " \"Antigua and Barbuda\"\n",
       " \"Argentina\"\n",
       " \"Armenia\"\n",
       " \"Australia\"\n",
       " \"Austria\"\n",
       " \"Azerbaijan\"\n",
       " \"Bahamas\"\n",
       " \"Bahrain\"\n",
       " ⋮\n",
       " \"MS Zaandam\"\n",
       " \"Botswana\"\n",
       " \"Burundi\"\n",
       " \"Sierra Leone\"\n",
       " \"Malawi\"\n",
       " \"South Sudan\"\n",
       " \"Western Sahara\"\n",
       " \"Sao Tome and Principe\"\n",
       " \"Yemen\"\n",
       " \"Comoros\"\n",
       " \"Tajikistan\"\n",
       " \"Lesotho\""
      ]
     },
     "execution_count": 39,
     "metadata": {},
     "output_type": "execute_result"
    }
   ],
   "source": [
    "unique(df[!, Symbol(\"Country/Region\")])"
   ]
  },
  {
   "cell_type": "code",
   "execution_count": 40,
   "metadata": {},
   "outputs": [
    {
     "data": {
      "text/plain": [
       "188"
      ]
     },
     "execution_count": 40,
     "metadata": {},
     "output_type": "execute_result"
    }
   ],
   "source": [
    "length(unique(df[!, Symbol(\"Country/Region\")]))"
   ]
  },
  {
   "cell_type": "code",
   "execution_count": 41,
   "metadata": {},
   "outputs": [
    {
     "name": "stderr",
     "output_type": "stream",
     "text": [
      "┌ Warning: `by(d::AbstractDataFrame, cols::Any; sort::Bool = false, skipmissing::Bool = false, f...)` is deprecated, use `combine(groupby(d, cols, sort = sort, skipmissing = skipmissing), [if in_col isa ColumnIndex\n",
      "│             in_col\n",
      "│         else\n",
      "│             AsTable(in_col)\n",
      "│         end => (fun => out_col) for (out_col, (in_col, fun)) = f]...)` instead.\n",
      "│   caller = ip:0x0\n",
      "└ @ Core :-1\n"
     ]
    },
    {
     "data": {
      "text/html": [
       "<table class=\"data-frame\"><thead><tr><th></th><th>Country/Region</th><th>counts</th></tr><tr><th></th><th>String</th><th>Int64</th></tr></thead><tbody><p>188 rows × 2 columns</p><tr><th>1</th><td>Afghanistan</td><td>381753510</td></tr><tr><th>2</th><td>Albania</td><td>39292760</td></tr><tr><th>3</th><td>Algeria</td><td>235143810</td></tr><tr><th>4</th><td>Andorra</td><td>18283510</td></tr><tr><th>5</th><td>Angola</td><td>4700600</td></tr><tr><th>6</th><td>Antigua and Barbuda</td><td>886160</td></tr><tr><th>7</th><td>Argentina</td><td>912571710</td></tr><tr><th>8</th><td>Armenia</td><td>315920410</td></tr><tr><th>9</th><td>Australia</td><td>1508033040</td></tr><tr><th>10</th><td>Austria</td><td>394537470</td></tr><tr><th>11</th><td>Azerbaijan</td><td>227391240</td></tr><tr><th>12</th><td>Bahamas</td><td>2475890</td></tr><tr><th>13</th><td>Bahrain</td><td>348733220</td></tr><tr><th>14</th><td>Bangladesh</td><td>1751060520</td></tr><tr><th>15</th><td>Barbados</td><td>2065680</td></tr><tr><th>16</th><td>Belarus</td><td>866712170</td></tr><tr><th>17</th><td>Belgium</td><td>1218871470</td></tr><tr><th>18</th><td>Benin</td><td>12916390</td></tr><tr><th>19</th><td>Bhutan</td><td>982110</td></tr><tr><th>20</th><td>Bolivia</td><td>440080280</td></tr><tr><th>21</th><td>Bosnia and Herzegovina</td><td>79520130</td></tr><tr><th>22</th><td>Brazil</td><td>17966480370</td></tr><tr><th>23</th><td>Brunei</td><td>3505500</td></tr><tr><th>24</th><td>Bulgaria</td><td>82222120</td></tr><tr><th>25</th><td>Burkina Faso</td><td>18688970</td></tr><tr><th>26</th><td>Cabo Verde</td><td>16617210</td></tr><tr><th>27</th><td>Cambodia</td><td>3330890</td></tr><tr><th>28</th><td>Cameroon</td><td>167057690</td></tr><tr><th>29</th><td>Canada</td><td>25516127140</td></tr><tr><th>30</th><td>Central African Republic</td><td>39493970</td></tr><tr><th>&vellip;</th><td>&vellip;</td><td>&vellip;</td></tr></tbody></table>"
      ],
      "text/latex": [
       "\\begin{tabular}{r|cc}\n",
       "\t& Country/Region & counts\\\\\n",
       "\t\\hline\n",
       "\t& String & Int64\\\\\n",
       "\t\\hline\n",
       "\t1 & Afghanistan & 381753510 \\\\\n",
       "\t2 & Albania & 39292760 \\\\\n",
       "\t3 & Algeria & 235143810 \\\\\n",
       "\t4 & Andorra & 18283510 \\\\\n",
       "\t5 & Angola & 4700600 \\\\\n",
       "\t6 & Antigua and Barbuda & 886160 \\\\\n",
       "\t7 & Argentina & 912571710 \\\\\n",
       "\t8 & Armenia & 315920410 \\\\\n",
       "\t9 & Australia & 1508033040 \\\\\n",
       "\t10 & Austria & 394537470 \\\\\n",
       "\t11 & Azerbaijan & 227391240 \\\\\n",
       "\t12 & Bahamas & 2475890 \\\\\n",
       "\t13 & Bahrain & 348733220 \\\\\n",
       "\t14 & Bangladesh & 1751060520 \\\\\n",
       "\t15 & Barbados & 2065680 \\\\\n",
       "\t16 & Belarus & 866712170 \\\\\n",
       "\t17 & Belgium & 1218871470 \\\\\n",
       "\t18 & Benin & 12916390 \\\\\n",
       "\t19 & Bhutan & 982110 \\\\\n",
       "\t20 & Bolivia & 440080280 \\\\\n",
       "\t21 & Bosnia and Herzegovina & 79520130 \\\\\n",
       "\t22 & Brazil & 17966480370 \\\\\n",
       "\t23 & Brunei & 3505500 \\\\\n",
       "\t24 & Bulgaria & 82222120 \\\\\n",
       "\t25 & Burkina Faso & 18688970 \\\\\n",
       "\t26 & Cabo Verde & 16617210 \\\\\n",
       "\t27 & Cambodia & 3330890 \\\\\n",
       "\t28 & Cameroon & 167057690 \\\\\n",
       "\t29 & Canada & 25516127140 \\\\\n",
       "\t30 & Central African Republic & 39493970 \\\\\n",
       "\t$\\dots$ & $\\dots$ & $\\dots$ \\\\\n",
       "\\end{tabular}\n"
      ],
      "text/plain": [
       "188×2 DataFrame\n",
       "│ Row │ Country/Region        │ counts     │\n",
       "│     │ \u001b[90mString\u001b[39m                │ \u001b[90mInt64\u001b[39m      │\n",
       "├─────┼───────────────────────┼────────────┤\n",
       "│ 1   │ Afghanistan           │ 381753510  │\n",
       "│ 2   │ Albania               │ 39292760   │\n",
       "│ 3   │ Algeria               │ 235143810  │\n",
       "│ 4   │ Andorra               │ 18283510   │\n",
       "│ 5   │ Angola                │ 4700600    │\n",
       "│ 6   │ Antigua and Barbuda   │ 886160     │\n",
       "│ 7   │ Argentina             │ 912571710  │\n",
       "│ 8   │ Armenia               │ 315920410  │\n",
       "│ 9   │ Australia             │ 1508033040 │\n",
       "│ 10  │ Austria               │ 394537470  │\n",
       "⋮\n",
       "│ 178 │ Botswana              │ 3201310    │\n",
       "│ 179 │ Burundi               │ 2302040    │\n",
       "│ 180 │ Sierra Leone          │ 18892650   │\n",
       "│ 181 │ Malawi                │ 18451470   │\n",
       "│ 182 │ South Sudan           │ 23454550   │\n",
       "│ 183 │ Western Sahara        │ 174990     │\n",
       "│ 184 │ Sao Tome and Principe │ 9237610    │\n",
       "│ 185 │ Yemen                 │ 13412860   │\n",
       "│ 186 │ Comoros               │ 3145450    │\n",
       "│ 187 │ Tajikistan            │ 75548180   │\n",
       "│ 188 │ Lesotho               │ 1496250    │"
      ]
     },
     "execution_count": 41,
     "metadata": {},
     "output_type": "execute_result"
    }
   ],
   "source": [
    "# Number of cases per country\n",
    "by(df,Symbol(\"Country/Region\"), counts= :Confirmed => sum)"
   ]
  },
  {
   "cell_type": "code",
   "execution_count": 43,
   "metadata": {},
   "outputs": [
    {
     "data": {
      "text/html": [
       "<table class=\"data-frame\"><thead><tr><th></th><th>Country/Region</th><th>counts</th></tr><tr><th></th><th>String</th><th>Int64</th></tr></thead><tbody><p>188 rows × 2 columns</p><tr><th>1</th><td>Afghanistan</td><td>36471</td></tr><tr><th>2</th><td>Albania</td><td>5105</td></tr><tr><th>3</th><td>Algeria</td><td>29229</td></tr><tr><th>4</th><td>Andorra</td><td>918</td></tr><tr><th>5</th><td>Angola</td><td>1078</td></tr><tr><th>6</th><td>Antigua and Barbuda</td><td>91</td></tr><tr><th>7</th><td>Argentina</td><td>178996</td></tr><tr><th>8</th><td>Armenia</td><td>37937</td></tr><tr><th>9</th><td>Australia</td><td>9998</td></tr><tr><th>10</th><td>Austria</td><td>20850</td></tr><tr><th>11</th><td>Azerbaijan</td><td>31221</td></tr><tr><th>12</th><td>Bahamas</td><td>484</td></tr><tr><th>13</th><td>Bahrain</td><td>40311</td></tr><tr><th>14</th><td>Bangladesh</td><td>232194</td></tr><tr><th>15</th><td>Barbados</td><td>110</td></tr><tr><th>16</th><td>Belarus</td><td>67518</td></tr><tr><th>17</th><td>Belgium</td><td>67335</td></tr><tr><th>18</th><td>Benin</td><td>1805</td></tr><tr><th>19</th><td>Bhutan</td><td>99</td></tr><tr><th>20</th><td>Bolivia</td><td>73534</td></tr><tr><th>21</th><td>Bosnia and Herzegovina</td><td>11127</td></tr><tr><th>22</th><td>Brazil</td><td>2552265</td></tr><tr><th>23</th><td>Brunei</td><td>141</td></tr><tr><th>24</th><td>Bulgaria</td><td>11155</td></tr><tr><th>25</th><td>Burkina Faso</td><td>1105</td></tr><tr><th>26</th><td>Cabo Verde</td><td>2373</td></tr><tr><th>27</th><td>Cambodia</td><td>226</td></tr><tr><th>28</th><td>Cameroon</td><td>17255</td></tr><tr><th>29</th><td>Canada</td><td>59073</td></tr><tr><th>30</th><td>Central African Republic</td><td>4605</td></tr><tr><th>&vellip;</th><td>&vellip;</td><td>&vellip;</td></tr></tbody></table>"
      ],
      "text/latex": [
       "\\begin{tabular}{r|cc}\n",
       "\t& Country/Region & counts\\\\\n",
       "\t\\hline\n",
       "\t& String & Int64\\\\\n",
       "\t\\hline\n",
       "\t1 & Afghanistan & 36471 \\\\\n",
       "\t2 & Albania & 5105 \\\\\n",
       "\t3 & Algeria & 29229 \\\\\n",
       "\t4 & Andorra & 918 \\\\\n",
       "\t5 & Angola & 1078 \\\\\n",
       "\t6 & Antigua and Barbuda & 91 \\\\\n",
       "\t7 & Argentina & 178996 \\\\\n",
       "\t8 & Armenia & 37937 \\\\\n",
       "\t9 & Australia & 9998 \\\\\n",
       "\t10 & Austria & 20850 \\\\\n",
       "\t11 & Azerbaijan & 31221 \\\\\n",
       "\t12 & Bahamas & 484 \\\\\n",
       "\t13 & Bahrain & 40311 \\\\\n",
       "\t14 & Bangladesh & 232194 \\\\\n",
       "\t15 & Barbados & 110 \\\\\n",
       "\t16 & Belarus & 67518 \\\\\n",
       "\t17 & Belgium & 67335 \\\\\n",
       "\t18 & Benin & 1805 \\\\\n",
       "\t19 & Bhutan & 99 \\\\\n",
       "\t20 & Bolivia & 73534 \\\\\n",
       "\t21 & Bosnia and Herzegovina & 11127 \\\\\n",
       "\t22 & Brazil & 2552265 \\\\\n",
       "\t23 & Brunei & 141 \\\\\n",
       "\t24 & Bulgaria & 11155 \\\\\n",
       "\t25 & Burkina Faso & 1105 \\\\\n",
       "\t26 & Cabo Verde & 2373 \\\\\n",
       "\t27 & Cambodia & 226 \\\\\n",
       "\t28 & Cameroon & 17255 \\\\\n",
       "\t29 & Canada & 59073 \\\\\n",
       "\t30 & Central African Republic & 4605 \\\\\n",
       "\t$\\dots$ & $\\dots$ & $\\dots$ \\\\\n",
       "\\end{tabular}\n"
      ],
      "text/plain": [
       "188×2 DataFrame\n",
       "│ Row │ Country/Region        │ counts │\n",
       "│     │ \u001b[90mString\u001b[39m                │ \u001b[90mInt64\u001b[39m  │\n",
       "├─────┼───────────────────────┼────────┤\n",
       "│ 1   │ Afghanistan           │ 36471  │\n",
       "│ 2   │ Albania               │ 5105   │\n",
       "│ 3   │ Algeria               │ 29229  │\n",
       "│ 4   │ Andorra               │ 918    │\n",
       "│ 5   │ Angola                │ 1078   │\n",
       "│ 6   │ Antigua and Barbuda   │ 91     │\n",
       "│ 7   │ Argentina             │ 178996 │\n",
       "│ 8   │ Armenia               │ 37937  │\n",
       "│ 9   │ Australia             │ 9998   │\n",
       "│ 10  │ Austria               │ 20850  │\n",
       "⋮\n",
       "│ 178 │ Botswana              │ 804    │\n",
       "│ 179 │ Burundi               │ 387    │\n",
       "│ 180 │ Sierra Leone          │ 1803   │\n",
       "│ 181 │ Malawi                │ 3738   │\n",
       "│ 182 │ South Sudan           │ 2322   │\n",
       "│ 183 │ Western Sahara        │ 10     │\n",
       "│ 184 │ Sao Tome and Principe │ 868    │\n",
       "│ 185 │ Yemen                 │ 1711   │\n",
       "│ 186 │ Comoros               │ 378    │\n",
       "│ 187 │ Tajikistan            │ 7320   │\n",
       "│ 188 │ Lesotho               │ 576    │"
      ]
     },
     "execution_count": 43,
     "metadata": {},
     "output_type": "execute_result"
    }
   ],
   "source": [
    "# Number of cases per country with Max \n",
    "cases_per_country = by(df,Symbol(\"Country/Region\"), counts= :Confirmed => maximum)"
   ]
  },
  {
   "cell_type": "code",
   "execution_count": 44,
   "metadata": {},
   "outputs": [
    {
     "data": {
      "text/plain": [
       "2-element Array{String,1}:\n",
       " \"Country/Region\"\n",
       " \"counts\""
      ]
     },
     "execution_count": 44,
     "metadata": {},
     "output_type": "execute_result"
    }
   ],
   "source": [
    "names(cases_per_country)"
   ]
  },
  {
   "cell_type": "code",
   "execution_count": 45,
   "metadata": {},
   "outputs": [
    {
     "data": {
      "text/html": [
       "<table class=\"data-frame\"><thead><tr><th></th><th>Country/Region</th><th>counts</th></tr><tr><th></th><th>String</th><th>Int64</th></tr></thead><tbody><p>188 rows × 2 columns</p><tr><th>1</th><td>US</td><td>4426982</td></tr><tr><th>2</th><td>Brazil</td><td>2552265</td></tr><tr><th>3</th><td>India</td><td>1581963</td></tr><tr><th>4</th><td>Russia</td><td>827509</td></tr><tr><th>5</th><td>South Africa</td><td>471123</td></tr><tr><th>6</th><td>Mexico</td><td>408449</td></tr><tr><th>7</th><td>Peru</td><td>400683</td></tr><tr><th>8</th><td>Chile</td><td>351575</td></tr><tr><th>9</th><td>United Kingdom</td><td>301455</td></tr><tr><th>10</th><td>Iran</td><td>298909</td></tr><tr><th>11</th><td>Spain</td><td>282641</td></tr><tr><th>12</th><td>Pakistan</td><td>276288</td></tr><tr><th>13</th><td>Colombia</td><td>276055</td></tr><tr><th>14</th><td>Saudi Arabia</td><td>272590</td></tr><tr><th>15</th><td>Italy</td><td>246776</td></tr><tr><th>16</th><td>Bangladesh</td><td>232194</td></tr><tr><th>17</th><td>Turkey</td><td>228924</td></tr><tr><th>18</th><td>France</td><td>209342</td></tr><tr><th>19</th><td>Germany</td><td>208546</td></tr><tr><th>20</th><td>Argentina</td><td>178996</td></tr><tr><th>21</th><td>Iraq</td><td>118300</td></tr><tr><th>22</th><td>Qatar</td><td>110153</td></tr><tr><th>23</th><td>Indonesia</td><td>104432</td></tr><tr><th>24</th><td>Egypt</td><td>93356</td></tr><tr><th>25</th><td>Kazakhstan</td><td>87664</td></tr><tr><th>26</th><td>Philippines</td><td>85486</td></tr><tr><th>27</th><td>Ecuador</td><td>83193</td></tr><tr><th>28</th><td>Sweden</td><td>79782</td></tr><tr><th>29</th><td>Oman</td><td>78569</td></tr><tr><th>30</th><td>Bolivia</td><td>73534</td></tr><tr><th>&vellip;</th><td>&vellip;</td><td>&vellip;</td></tr></tbody></table>"
      ],
      "text/latex": [
       "\\begin{tabular}{r|cc}\n",
       "\t& Country/Region & counts\\\\\n",
       "\t\\hline\n",
       "\t& String & Int64\\\\\n",
       "\t\\hline\n",
       "\t1 & US & 4426982 \\\\\n",
       "\t2 & Brazil & 2552265 \\\\\n",
       "\t3 & India & 1581963 \\\\\n",
       "\t4 & Russia & 827509 \\\\\n",
       "\t5 & South Africa & 471123 \\\\\n",
       "\t6 & Mexico & 408449 \\\\\n",
       "\t7 & Peru & 400683 \\\\\n",
       "\t8 & Chile & 351575 \\\\\n",
       "\t9 & United Kingdom & 301455 \\\\\n",
       "\t10 & Iran & 298909 \\\\\n",
       "\t11 & Spain & 282641 \\\\\n",
       "\t12 & Pakistan & 276288 \\\\\n",
       "\t13 & Colombia & 276055 \\\\\n",
       "\t14 & Saudi Arabia & 272590 \\\\\n",
       "\t15 & Italy & 246776 \\\\\n",
       "\t16 & Bangladesh & 232194 \\\\\n",
       "\t17 & Turkey & 228924 \\\\\n",
       "\t18 & France & 209342 \\\\\n",
       "\t19 & Germany & 208546 \\\\\n",
       "\t20 & Argentina & 178996 \\\\\n",
       "\t21 & Iraq & 118300 \\\\\n",
       "\t22 & Qatar & 110153 \\\\\n",
       "\t23 & Indonesia & 104432 \\\\\n",
       "\t24 & Egypt & 93356 \\\\\n",
       "\t25 & Kazakhstan & 87664 \\\\\n",
       "\t26 & Philippines & 85486 \\\\\n",
       "\t27 & Ecuador & 83193 \\\\\n",
       "\t28 & Sweden & 79782 \\\\\n",
       "\t29 & Oman & 78569 \\\\\n",
       "\t30 & Bolivia & 73534 \\\\\n",
       "\t$\\dots$ & $\\dots$ & $\\dots$ \\\\\n",
       "\\end{tabular}\n"
      ],
      "text/plain": [
       "188×2 DataFrame\n",
       "│ Row │ Country/Region        │ counts  │\n",
       "│     │ \u001b[90mString\u001b[39m                │ \u001b[90mInt64\u001b[39m   │\n",
       "├─────┼───────────────────────┼─────────┤\n",
       "│ 1   │ US                    │ 4426982 │\n",
       "│ 2   │ Brazil                │ 2552265 │\n",
       "│ 3   │ India                 │ 1581963 │\n",
       "│ 4   │ Russia                │ 827509  │\n",
       "│ 5   │ South Africa          │ 471123  │\n",
       "│ 6   │ Mexico                │ 408449  │\n",
       "│ 7   │ Peru                  │ 400683  │\n",
       "│ 8   │ Chile                 │ 351575  │\n",
       "│ 9   │ United Kingdom        │ 301455  │\n",
       "│ 10  │ Iran                  │ 298909  │\n",
       "⋮\n",
       "│ 178 │ Belize                │ 48      │\n",
       "│ 179 │ Fiji                  │ 27      │\n",
       "│ 180 │ Saint Lucia           │ 24      │\n",
       "│ 181 │ Timor-Leste           │ 24      │\n",
       "│ 182 │ Grenada               │ 23      │\n",
       "│ 183 │ Laos                  │ 20      │\n",
       "│ 184 │ Dominica              │ 18      │\n",
       "│ 185 │ Saint Kitts and Nevis │ 17      │\n",
       "│ 186 │ Holy See              │ 12      │\n",
       "│ 187 │ Western Sahara        │ 10      │\n",
       "│ 188 │ MS Zaandam            │ 9       │"
      ]
     },
     "execution_count": 45,
     "metadata": {},
     "output_type": "execute_result"
    }
   ],
   "source": [
    "# Top Country Affected\n",
    "sort(cases_per_country, :counts, rev=true)"
   ]
  },
  {
   "cell_type": "code",
   "execution_count": 46,
   "metadata": {},
   "outputs": [
    {
     "data": {
      "text/html": [
       "<table class=\"data-frame\"><thead><tr><th></th><th>Province/State</th><th>Country/Region</th><th>Lat</th><th>Long</th><th>Dates</th><th>Confirmed</th><th>Death</th></tr><tr><th></th><th>String?</th><th>String</th><th>Float64</th><th>Float64</th><th>Cat…</th><th>Int64</th><th>Int64</th></tr></thead><tbody><p>65,196,600 rows × 7 columns</p><tr><th>1</th><td><em>missing</em></td><td>Afghanistan</td><td>33.9391</td><td>67.71</td><td>1/22/20</td><td>0</td><td>0</td></tr><tr><th>2</th><td><em>missing</em></td><td>Afghanistan</td><td>33.9391</td><td>67.71</td><td>1/22/20</td><td>0</td><td>0</td></tr><tr><th>3</th><td><em>missing</em></td><td>Afghanistan</td><td>33.9391</td><td>67.71</td><td>1/22/20</td><td>0</td><td>0</td></tr><tr><th>4</th><td><em>missing</em></td><td>Afghanistan</td><td>33.9391</td><td>67.71</td><td>1/22/20</td><td>0</td><td>0</td></tr><tr><th>5</th><td><em>missing</em></td><td>Afghanistan</td><td>33.9391</td><td>67.71</td><td>1/22/20</td><td>0</td><td>0</td></tr><tr><th>6</th><td><em>missing</em></td><td>Afghanistan</td><td>33.9391</td><td>67.71</td><td>1/22/20</td><td>0</td><td>0</td></tr><tr><th>7</th><td><em>missing</em></td><td>Afghanistan</td><td>33.9391</td><td>67.71</td><td>1/22/20</td><td>0</td><td>0</td></tr><tr><th>8</th><td><em>missing</em></td><td>Afghanistan</td><td>33.9391</td><td>67.71</td><td>1/22/20</td><td>0</td><td>0</td></tr><tr><th>9</th><td><em>missing</em></td><td>Afghanistan</td><td>33.9391</td><td>67.71</td><td>1/22/20</td><td>0</td><td>0</td></tr><tr><th>10</th><td><em>missing</em></td><td>Afghanistan</td><td>33.9391</td><td>67.71</td><td>1/22/20</td><td>0</td><td>0</td></tr><tr><th>11</th><td><em>missing</em></td><td>Afghanistan</td><td>33.9391</td><td>67.71</td><td>1/22/20</td><td>0</td><td>0</td></tr><tr><th>12</th><td><em>missing</em></td><td>Afghanistan</td><td>33.9391</td><td>67.71</td><td>1/22/20</td><td>0</td><td>0</td></tr><tr><th>13</th><td><em>missing</em></td><td>Afghanistan</td><td>33.9391</td><td>67.71</td><td>1/22/20</td><td>0</td><td>0</td></tr><tr><th>14</th><td><em>missing</em></td><td>Afghanistan</td><td>33.9391</td><td>67.71</td><td>1/22/20</td><td>0</td><td>0</td></tr><tr><th>15</th><td><em>missing</em></td><td>Afghanistan</td><td>33.9391</td><td>67.71</td><td>1/22/20</td><td>0</td><td>0</td></tr><tr><th>16</th><td><em>missing</em></td><td>Afghanistan</td><td>33.9391</td><td>67.71</td><td>1/22/20</td><td>0</td><td>0</td></tr><tr><th>17</th><td><em>missing</em></td><td>Afghanistan</td><td>33.9391</td><td>67.71</td><td>1/22/20</td><td>0</td><td>0</td></tr><tr><th>18</th><td><em>missing</em></td><td>Afghanistan</td><td>33.9391</td><td>67.71</td><td>1/22/20</td><td>0</td><td>0</td></tr><tr><th>19</th><td><em>missing</em></td><td>Afghanistan</td><td>33.9391</td><td>67.71</td><td>1/22/20</td><td>0</td><td>0</td></tr><tr><th>20</th><td><em>missing</em></td><td>Afghanistan</td><td>33.9391</td><td>67.71</td><td>1/22/20</td><td>0</td><td>0</td></tr><tr><th>21</th><td><em>missing</em></td><td>Afghanistan</td><td>33.9391</td><td>67.71</td><td>1/22/20</td><td>0</td><td>0</td></tr><tr><th>22</th><td><em>missing</em></td><td>Afghanistan</td><td>33.9391</td><td>67.71</td><td>1/22/20</td><td>0</td><td>0</td></tr><tr><th>23</th><td><em>missing</em></td><td>Afghanistan</td><td>33.9391</td><td>67.71</td><td>1/22/20</td><td>0</td><td>0</td></tr><tr><th>24</th><td><em>missing</em></td><td>Afghanistan</td><td>33.9391</td><td>67.71</td><td>1/22/20</td><td>0</td><td>0</td></tr><tr><th>25</th><td><em>missing</em></td><td>Afghanistan</td><td>33.9391</td><td>67.71</td><td>1/22/20</td><td>0</td><td>0</td></tr><tr><th>26</th><td><em>missing</em></td><td>Afghanistan</td><td>33.9391</td><td>67.71</td><td>1/22/20</td><td>0</td><td>0</td></tr><tr><th>27</th><td><em>missing</em></td><td>Afghanistan</td><td>33.9391</td><td>67.71</td><td>1/22/20</td><td>0</td><td>0</td></tr><tr><th>28</th><td><em>missing</em></td><td>Afghanistan</td><td>33.9391</td><td>67.71</td><td>1/22/20</td><td>0</td><td>0</td></tr><tr><th>29</th><td><em>missing</em></td><td>Afghanistan</td><td>33.9391</td><td>67.71</td><td>1/22/20</td><td>0</td><td>0</td></tr><tr><th>30</th><td><em>missing</em></td><td>Afghanistan</td><td>33.9391</td><td>67.71</td><td>1/22/20</td><td>0</td><td>0</td></tr><tr><th>&vellip;</th><td>&vellip;</td><td>&vellip;</td><td>&vellip;</td><td>&vellip;</td><td>&vellip;</td><td>&vellip;</td><td>&vellip;</td></tr></tbody></table>"
      ],
      "text/latex": [
       "\\begin{tabular}{r|ccccccc}\n",
       "\t& Province/State & Country/Region & Lat & Long & Dates & Confirmed & Death\\\\\n",
       "\t\\hline\n",
       "\t& String? & String & Float64 & Float64 & Cat… & Int64 & Int64\\\\\n",
       "\t\\hline\n",
       "\t1 & \\emph{missing} & Afghanistan & 33.9391 & 67.71 & 1/22/20 & 0 & 0 \\\\\n",
       "\t2 & \\emph{missing} & Afghanistan & 33.9391 & 67.71 & 1/22/20 & 0 & 0 \\\\\n",
       "\t3 & \\emph{missing} & Afghanistan & 33.9391 & 67.71 & 1/22/20 & 0 & 0 \\\\\n",
       "\t4 & \\emph{missing} & Afghanistan & 33.9391 & 67.71 & 1/22/20 & 0 & 0 \\\\\n",
       "\t5 & \\emph{missing} & Afghanistan & 33.9391 & 67.71 & 1/22/20 & 0 & 0 \\\\\n",
       "\t6 & \\emph{missing} & Afghanistan & 33.9391 & 67.71 & 1/22/20 & 0 & 0 \\\\\n",
       "\t7 & \\emph{missing} & Afghanistan & 33.9391 & 67.71 & 1/22/20 & 0 & 0 \\\\\n",
       "\t8 & \\emph{missing} & Afghanistan & 33.9391 & 67.71 & 1/22/20 & 0 & 0 \\\\\n",
       "\t9 & \\emph{missing} & Afghanistan & 33.9391 & 67.71 & 1/22/20 & 0 & 0 \\\\\n",
       "\t10 & \\emph{missing} & Afghanistan & 33.9391 & 67.71 & 1/22/20 & 0 & 0 \\\\\n",
       "\t11 & \\emph{missing} & Afghanistan & 33.9391 & 67.71 & 1/22/20 & 0 & 0 \\\\\n",
       "\t12 & \\emph{missing} & Afghanistan & 33.9391 & 67.71 & 1/22/20 & 0 & 0 \\\\\n",
       "\t13 & \\emph{missing} & Afghanistan & 33.9391 & 67.71 & 1/22/20 & 0 & 0 \\\\\n",
       "\t14 & \\emph{missing} & Afghanistan & 33.9391 & 67.71 & 1/22/20 & 0 & 0 \\\\\n",
       "\t15 & \\emph{missing} & Afghanistan & 33.9391 & 67.71 & 1/22/20 & 0 & 0 \\\\\n",
       "\t16 & \\emph{missing} & Afghanistan & 33.9391 & 67.71 & 1/22/20 & 0 & 0 \\\\\n",
       "\t17 & \\emph{missing} & Afghanistan & 33.9391 & 67.71 & 1/22/20 & 0 & 0 \\\\\n",
       "\t18 & \\emph{missing} & Afghanistan & 33.9391 & 67.71 & 1/22/20 & 0 & 0 \\\\\n",
       "\t19 & \\emph{missing} & Afghanistan & 33.9391 & 67.71 & 1/22/20 & 0 & 0 \\\\\n",
       "\t20 & \\emph{missing} & Afghanistan & 33.9391 & 67.71 & 1/22/20 & 0 & 0 \\\\\n",
       "\t21 & \\emph{missing} & Afghanistan & 33.9391 & 67.71 & 1/22/20 & 0 & 0 \\\\\n",
       "\t22 & \\emph{missing} & Afghanistan & 33.9391 & 67.71 & 1/22/20 & 0 & 0 \\\\\n",
       "\t23 & \\emph{missing} & Afghanistan & 33.9391 & 67.71 & 1/22/20 & 0 & 0 \\\\\n",
       "\t24 & \\emph{missing} & Afghanistan & 33.9391 & 67.71 & 1/22/20 & 0 & 0 \\\\\n",
       "\t25 & \\emph{missing} & Afghanistan & 33.9391 & 67.71 & 1/22/20 & 0 & 0 \\\\\n",
       "\t26 & \\emph{missing} & Afghanistan & 33.9391 & 67.71 & 1/22/20 & 0 & 0 \\\\\n",
       "\t27 & \\emph{missing} & Afghanistan & 33.9391 & 67.71 & 1/22/20 & 0 & 0 \\\\\n",
       "\t28 & \\emph{missing} & Afghanistan & 33.9391 & 67.71 & 1/22/20 & 0 & 0 \\\\\n",
       "\t29 & \\emph{missing} & Afghanistan & 33.9391 & 67.71 & 1/22/20 & 0 & 0 \\\\\n",
       "\t30 & \\emph{missing} & Afghanistan & 33.9391 & 67.71 & 1/22/20 & 0 & 0 \\\\\n",
       "\t$\\dots$ & $\\dots$ & $\\dots$ & $\\dots$ & $\\dots$ & $\\dots$ & $\\dots$ & $\\dots$ \\\\\n",
       "\\end{tabular}\n"
      ],
      "text/plain": [
       "65196600×7 DataFrame. Omitted printing of 2 columns\n",
       "│ Row      │ Province/State │ Country/Region │ Lat     │ Long    │ Dates   │\n",
       "│          │ \u001b[90mString?\u001b[39m        │ \u001b[90mString\u001b[39m         │ \u001b[90mFloat64\u001b[39m │ \u001b[90mFloat64\u001b[39m │ \u001b[90mCat…\u001b[39m    │\n",
       "├──────────┼────────────────┼────────────────┼─────────┼─────────┼─────────┤\n",
       "│ 1        │ \u001b[90mmissing\u001b[39m        │ Afghanistan    │ 33.9391 │ 67.71   │ 1/22/20 │\n",
       "│ 2        │ \u001b[90mmissing\u001b[39m        │ Afghanistan    │ 33.9391 │ 67.71   │ 1/22/20 │\n",
       "│ 3        │ \u001b[90mmissing\u001b[39m        │ Afghanistan    │ 33.9391 │ 67.71   │ 1/22/20 │\n",
       "│ 4        │ \u001b[90mmissing\u001b[39m        │ Afghanistan    │ 33.9391 │ 67.71   │ 1/22/20 │\n",
       "│ 5        │ \u001b[90mmissing\u001b[39m        │ Afghanistan    │ 33.9391 │ 67.71   │ 1/22/20 │\n",
       "│ 6        │ \u001b[90mmissing\u001b[39m        │ Afghanistan    │ 33.9391 │ 67.71   │ 1/22/20 │\n",
       "│ 7        │ \u001b[90mmissing\u001b[39m        │ Afghanistan    │ 33.9391 │ 67.71   │ 1/22/20 │\n",
       "│ 8        │ \u001b[90mmissing\u001b[39m        │ Afghanistan    │ 33.9391 │ 67.71   │ 1/22/20 │\n",
       "│ 9        │ \u001b[90mmissing\u001b[39m        │ Afghanistan    │ 33.9391 │ 67.71   │ 1/22/20 │\n",
       "│ 10       │ \u001b[90mmissing\u001b[39m        │ Afghanistan    │ 33.9391 │ 67.71   │ 1/22/20 │\n",
       "⋮\n",
       "│ 65196590 │ \u001b[90mmissing\u001b[39m        │ Lesotho        │ -29.61  │ 28.2336 │ 7/29/20 │\n",
       "│ 65196591 │ \u001b[90mmissing\u001b[39m        │ Lesotho        │ -29.61  │ 28.2336 │ 7/29/20 │\n",
       "│ 65196592 │ \u001b[90mmissing\u001b[39m        │ Lesotho        │ -29.61  │ 28.2336 │ 7/29/20 │\n",
       "│ 65196593 │ \u001b[90mmissing\u001b[39m        │ Lesotho        │ -29.61  │ 28.2336 │ 7/29/20 │\n",
       "│ 65196594 │ \u001b[90mmissing\u001b[39m        │ Lesotho        │ -29.61  │ 28.2336 │ 7/29/20 │\n",
       "│ 65196595 │ \u001b[90mmissing\u001b[39m        │ Lesotho        │ -29.61  │ 28.2336 │ 7/29/20 │\n",
       "│ 65196596 │ \u001b[90mmissing\u001b[39m        │ Lesotho        │ -29.61  │ 28.2336 │ 7/29/20 │\n",
       "│ 65196597 │ \u001b[90mmissing\u001b[39m        │ Lesotho        │ -29.61  │ 28.2336 │ 7/29/20 │\n",
       "│ 65196598 │ \u001b[90mmissing\u001b[39m        │ Lesotho        │ -29.61  │ 28.2336 │ 7/29/20 │\n",
       "│ 65196599 │ \u001b[90mmissing\u001b[39m        │ Lesotho        │ -29.61  │ 28.2336 │ 7/29/20 │\n",
       "│ 65196600 │ \u001b[90mmissing\u001b[39m        │ Lesotho        │ -29.61  │ 28.2336 │ 7/29/20 │"
      ]
     },
     "execution_count": 46,
     "metadata": {},
     "output_type": "execute_result"
    }
   ],
   "source": [
    "#  Group by Day\n",
    "df"
   ]
  },
  {
   "cell_type": "code",
   "execution_count": 47,
   "metadata": {},
   "outputs": [
    {
     "data": {
      "text/html": [
       "<table class=\"data-frame\"><thead><tr><th></th><th>Dates</th><th>counts</th></tr><tr><th></th><th>Cat…</th><th>Int64</th></tr></thead><tbody><p>190 rows × 2 columns</p><tr><th>1</th><td>1/22/20</td><td>444</td></tr><tr><th>2</th><td>1/23/20</td><td>444</td></tr><tr><th>3</th><td>1/24/20</td><td>549</td></tr><tr><th>4</th><td>1/25/20</td><td>761</td></tr><tr><th>5</th><td>1/26/20</td><td>1058</td></tr><tr><th>6</th><td>1/27/20</td><td>1423</td></tr><tr><th>7</th><td>1/28/20</td><td>3554</td></tr><tr><th>8</th><td>1/29/20</td><td>3554</td></tr><tr><th>9</th><td>1/30/20</td><td>4903</td></tr><tr><th>10</th><td>1/31/20</td><td>5806</td></tr><tr><th>11</th><td>2/1/20</td><td>7153</td></tr><tr><th>12</th><td>2/2/20</td><td>11177</td></tr><tr><th>13</th><td>2/3/20</td><td>13522</td></tr><tr><th>14</th><td>2/4/20</td><td>16678</td></tr><tr><th>15</th><td>2/5/20</td><td>19665</td></tr><tr><th>16</th><td>2/6/20</td><td>22112</td></tr><tr><th>17</th><td>2/7/20</td><td>24953</td></tr><tr><th>18</th><td>2/8/20</td><td>27100</td></tr><tr><th>19</th><td>2/9/20</td><td>29631</td></tr><tr><th>20</th><td>2/10/20</td><td>31728</td></tr><tr><th>21</th><td>2/11/20</td><td>33366</td></tr><tr><th>22</th><td>2/12/20</td><td>33366</td></tr><tr><th>23</th><td>2/13/20</td><td>48206</td></tr><tr><th>24</th><td>2/14/20</td><td>54406</td></tr><tr><th>25</th><td>2/15/20</td><td>56249</td></tr><tr><th>26</th><td>2/16/20</td><td>58182</td></tr><tr><th>27</th><td>2/17/20</td><td>59989</td></tr><tr><th>28</th><td>2/18/20</td><td>61682</td></tr><tr><th>29</th><td>2/19/20</td><td>62031</td></tr><tr><th>30</th><td>2/20/20</td><td>62442</td></tr><tr><th>&vellip;</th><td>&vellip;</td><td>&vellip;</td></tr></tbody></table>"
      ],
      "text/latex": [
       "\\begin{tabular}{r|cc}\n",
       "\t& Dates & counts\\\\\n",
       "\t\\hline\n",
       "\t& Cat… & Int64\\\\\n",
       "\t\\hline\n",
       "\t1 & 1/22/20 & 444 \\\\\n",
       "\t2 & 1/23/20 & 444 \\\\\n",
       "\t3 & 1/24/20 & 549 \\\\\n",
       "\t4 & 1/25/20 & 761 \\\\\n",
       "\t5 & 1/26/20 & 1058 \\\\\n",
       "\t6 & 1/27/20 & 1423 \\\\\n",
       "\t7 & 1/28/20 & 3554 \\\\\n",
       "\t8 & 1/29/20 & 3554 \\\\\n",
       "\t9 & 1/30/20 & 4903 \\\\\n",
       "\t10 & 1/31/20 & 5806 \\\\\n",
       "\t11 & 2/1/20 & 7153 \\\\\n",
       "\t12 & 2/2/20 & 11177 \\\\\n",
       "\t13 & 2/3/20 & 13522 \\\\\n",
       "\t14 & 2/4/20 & 16678 \\\\\n",
       "\t15 & 2/5/20 & 19665 \\\\\n",
       "\t16 & 2/6/20 & 22112 \\\\\n",
       "\t17 & 2/7/20 & 24953 \\\\\n",
       "\t18 & 2/8/20 & 27100 \\\\\n",
       "\t19 & 2/9/20 & 29631 \\\\\n",
       "\t20 & 2/10/20 & 31728 \\\\\n",
       "\t21 & 2/11/20 & 33366 \\\\\n",
       "\t22 & 2/12/20 & 33366 \\\\\n",
       "\t23 & 2/13/20 & 48206 \\\\\n",
       "\t24 & 2/14/20 & 54406 \\\\\n",
       "\t25 & 2/15/20 & 56249 \\\\\n",
       "\t26 & 2/16/20 & 58182 \\\\\n",
       "\t27 & 2/17/20 & 59989 \\\\\n",
       "\t28 & 2/18/20 & 61682 \\\\\n",
       "\t29 & 2/19/20 & 62031 \\\\\n",
       "\t30 & 2/20/20 & 62442 \\\\\n",
       "\t$\\dots$ & $\\dots$ & $\\dots$ \\\\\n",
       "\\end{tabular}\n"
      ],
      "text/plain": [
       "190×2 DataFrame\n",
       "│ Row │ Dates   │ counts  │\n",
       "│     │ \u001b[90mCat…\u001b[39m    │ \u001b[90mInt64\u001b[39m   │\n",
       "├─────┼─────────┼─────────┤\n",
       "│ 1   │ 1/22/20 │ 444     │\n",
       "│ 2   │ 1/23/20 │ 444     │\n",
       "│ 3   │ 1/24/20 │ 549     │\n",
       "│ 4   │ 1/25/20 │ 761     │\n",
       "│ 5   │ 1/26/20 │ 1058    │\n",
       "│ 6   │ 1/27/20 │ 1423    │\n",
       "│ 7   │ 1/28/20 │ 3554    │\n",
       "│ 8   │ 1/29/20 │ 3554    │\n",
       "│ 9   │ 1/30/20 │ 4903    │\n",
       "│ 10  │ 1/31/20 │ 5806    │\n",
       "⋮\n",
       "│ 180 │ 7/19/20 │ 3773260 │\n",
       "│ 181 │ 7/20/20 │ 3834677 │\n",
       "│ 182 │ 7/21/20 │ 3899211 │\n",
       "│ 183 │ 7/22/20 │ 3970121 │\n",
       "│ 184 │ 7/23/20 │ 4038816 │\n",
       "│ 185 │ 7/24/20 │ 4112531 │\n",
       "│ 186 │ 7/25/20 │ 4178970 │\n",
       "│ 187 │ 7/26/20 │ 4233923 │\n",
       "│ 188 │ 7/27/20 │ 4290337 │\n",
       "│ 189 │ 7/28/20 │ 4356206 │\n",
       "│ 190 │ 7/29/20 │ 4426982 │"
      ]
     },
     "execution_count": 47,
     "metadata": {},
     "output_type": "execute_result"
    }
   ],
   "source": [
    "by(df,:Dates, counts= :Confirmed => maximum)"
   ]
  },
  {
   "cell_type": "code",
   "execution_count": 48,
   "metadata": {},
   "outputs": [
    {
     "data": {
      "text/html": [
       "<table class=\"data-frame\"><thead><tr><th></th><th>Dates</th><th>counts</th></tr><tr><th></th><th>Cat…</th><th>Int64</th></tr></thead><tbody><p>190 rows × 2 columns</p><tr><th>1</th><td>1/22/20</td><td>444</td></tr><tr><th>2</th><td>1/23/20</td><td>444</td></tr><tr><th>3</th><td>1/24/20</td><td>549</td></tr><tr><th>4</th><td>1/25/20</td><td>761</td></tr><tr><th>5</th><td>1/26/20</td><td>1058</td></tr><tr><th>6</th><td>1/27/20</td><td>1423</td></tr><tr><th>7</th><td>1/28/20</td><td>3554</td></tr><tr><th>8</th><td>1/29/20</td><td>3554</td></tr><tr><th>9</th><td>1/30/20</td><td>4903</td></tr><tr><th>10</th><td>1/31/20</td><td>5806</td></tr><tr><th>11</th><td>2/1/20</td><td>7153</td></tr><tr><th>12</th><td>2/2/20</td><td>11177</td></tr><tr><th>13</th><td>2/3/20</td><td>13522</td></tr><tr><th>14</th><td>2/4/20</td><td>16678</td></tr><tr><th>15</th><td>2/5/20</td><td>19665</td></tr><tr><th>16</th><td>2/6/20</td><td>22112</td></tr><tr><th>17</th><td>2/7/20</td><td>24953</td></tr><tr><th>18</th><td>2/8/20</td><td>27100</td></tr><tr><th>19</th><td>2/9/20</td><td>29631</td></tr><tr><th>20</th><td>2/10/20</td><td>31728</td></tr><tr><th>21</th><td>2/11/20</td><td>33366</td></tr><tr><th>22</th><td>2/12/20</td><td>33366</td></tr><tr><th>23</th><td>2/13/20</td><td>48206</td></tr><tr><th>24</th><td>2/14/20</td><td>54406</td></tr><tr><th>25</th><td>2/15/20</td><td>56249</td></tr><tr><th>26</th><td>2/16/20</td><td>58182</td></tr><tr><th>27</th><td>2/17/20</td><td>59989</td></tr><tr><th>28</th><td>2/18/20</td><td>61682</td></tr><tr><th>29</th><td>2/19/20</td><td>62031</td></tr><tr><th>30</th><td>2/20/20</td><td>62442</td></tr><tr><th>&vellip;</th><td>&vellip;</td><td>&vellip;</td></tr></tbody></table>"
      ],
      "text/latex": [
       "\\begin{tabular}{r|cc}\n",
       "\t& Dates & counts\\\\\n",
       "\t\\hline\n",
       "\t& Cat… & Int64\\\\\n",
       "\t\\hline\n",
       "\t1 & 1/22/20 & 444 \\\\\n",
       "\t2 & 1/23/20 & 444 \\\\\n",
       "\t3 & 1/24/20 & 549 \\\\\n",
       "\t4 & 1/25/20 & 761 \\\\\n",
       "\t5 & 1/26/20 & 1058 \\\\\n",
       "\t6 & 1/27/20 & 1423 \\\\\n",
       "\t7 & 1/28/20 & 3554 \\\\\n",
       "\t8 & 1/29/20 & 3554 \\\\\n",
       "\t9 & 1/30/20 & 4903 \\\\\n",
       "\t10 & 1/31/20 & 5806 \\\\\n",
       "\t11 & 2/1/20 & 7153 \\\\\n",
       "\t12 & 2/2/20 & 11177 \\\\\n",
       "\t13 & 2/3/20 & 13522 \\\\\n",
       "\t14 & 2/4/20 & 16678 \\\\\n",
       "\t15 & 2/5/20 & 19665 \\\\\n",
       "\t16 & 2/6/20 & 22112 \\\\\n",
       "\t17 & 2/7/20 & 24953 \\\\\n",
       "\t18 & 2/8/20 & 27100 \\\\\n",
       "\t19 & 2/9/20 & 29631 \\\\\n",
       "\t20 & 2/10/20 & 31728 \\\\\n",
       "\t21 & 2/11/20 & 33366 \\\\\n",
       "\t22 & 2/12/20 & 33366 \\\\\n",
       "\t23 & 2/13/20 & 48206 \\\\\n",
       "\t24 & 2/14/20 & 54406 \\\\\n",
       "\t25 & 2/15/20 & 56249 \\\\\n",
       "\t26 & 2/16/20 & 58182 \\\\\n",
       "\t27 & 2/17/20 & 59989 \\\\\n",
       "\t28 & 2/18/20 & 61682 \\\\\n",
       "\t29 & 2/19/20 & 62031 \\\\\n",
       "\t30 & 2/20/20 & 62442 \\\\\n",
       "\t$\\dots$ & $\\dots$ & $\\dots$ \\\\\n",
       "\\end{tabular}\n"
      ],
      "text/plain": [
       "190×2 DataFrame\n",
       "│ Row │ Dates   │ counts  │\n",
       "│     │ \u001b[90mCat…\u001b[39m    │ \u001b[90mInt64\u001b[39m   │\n",
       "├─────┼─────────┼─────────┤\n",
       "│ 1   │ 1/22/20 │ 444     │\n",
       "│ 2   │ 1/23/20 │ 444     │\n",
       "│ 3   │ 1/24/20 │ 549     │\n",
       "│ 4   │ 1/25/20 │ 761     │\n",
       "│ 5   │ 1/26/20 │ 1058    │\n",
       "│ 6   │ 1/27/20 │ 1423    │\n",
       "│ 7   │ 1/28/20 │ 3554    │\n",
       "│ 8   │ 1/29/20 │ 3554    │\n",
       "│ 9   │ 1/30/20 │ 4903    │\n",
       "│ 10  │ 1/31/20 │ 5806    │\n",
       "⋮\n",
       "│ 180 │ 7/19/20 │ 3773260 │\n",
       "│ 181 │ 7/20/20 │ 3834677 │\n",
       "│ 182 │ 7/21/20 │ 3899211 │\n",
       "│ 183 │ 7/22/20 │ 3970121 │\n",
       "│ 184 │ 7/23/20 │ 4038816 │\n",
       "│ 185 │ 7/24/20 │ 4112531 │\n",
       "│ 186 │ 7/25/20 │ 4178970 │\n",
       "│ 187 │ 7/26/20 │ 4233923 │\n",
       "│ 188 │ 7/27/20 │ 4290337 │\n",
       "│ 189 │ 7/28/20 │ 4356206 │\n",
       "│ 190 │ 7/29/20 │ 4426982 │"
      ]
     },
     "execution_count": 48,
     "metadata": {},
     "output_type": "execute_result"
    }
   ],
   "source": [
    "# Number of cases per day with Max\n",
    "cases_per_dates = by(df,:Dates, counts= :Confirmed => maximum)"
   ]
  },
  {
   "cell_type": "code",
   "execution_count": 50,
   "metadata": {},
   "outputs": [
    {
     "data": {
      "text/html": [
       "<table class=\"data-frame\"><thead><tr><th></th><th>Dates</th><th>counts</th></tr><tr><th></th><th>Cat…</th><th>Int64</th></tr></thead><tbody><p>190 rows × 2 columns</p><tr><th>1</th><td>7/29/20</td><td>4426982</td></tr><tr><th>2</th><td>7/28/20</td><td>4356206</td></tr><tr><th>3</th><td>7/27/20</td><td>4290337</td></tr><tr><th>4</th><td>7/26/20</td><td>4233923</td></tr><tr><th>5</th><td>7/25/20</td><td>4178970</td></tr><tr><th>6</th><td>7/24/20</td><td>4112531</td></tr><tr><th>7</th><td>7/23/20</td><td>4038816</td></tr><tr><th>8</th><td>7/22/20</td><td>3970121</td></tr><tr><th>9</th><td>7/21/20</td><td>3899211</td></tr><tr><th>10</th><td>7/20/20</td><td>3834677</td></tr><tr><th>11</th><td>7/19/20</td><td>3773260</td></tr><tr><th>12</th><td>7/18/20</td><td>3711413</td></tr><tr><th>13</th><td>7/17/20</td><td>3647715</td></tr><tr><th>14</th><td>7/16/20</td><td>3576157</td></tr><tr><th>15</th><td>7/15/20</td><td>3498902</td></tr><tr><th>16</th><td>7/14/20</td><td>3431574</td></tr><tr><th>17</th><td>7/13/20</td><td>3364157</td></tr><tr><th>18</th><td>7/12/20</td><td>3304942</td></tr><tr><th>19</th><td>7/11/20</td><td>3245925</td></tr><tr><th>20</th><td>7/10/20</td><td>3185737</td></tr><tr><th>21</th><td>7/9/20</td><td>3117946</td></tr><tr><th>22</th><td>7/8/20</td><td>3054699</td></tr><tr><th>23</th><td>7/7/20</td><td>2996098</td></tr><tr><th>24</th><td>7/6/20</td><td>2936077</td></tr><tr><th>25</th><td>7/5/20</td><td>2891124</td></tr><tr><th>26</th><td>7/4/20</td><td>2841241</td></tr><tr><th>27</th><td>7/3/20</td><td>2795361</td></tr><tr><th>28</th><td>7/2/20</td><td>2742049</td></tr><tr><th>29</th><td>7/1/20</td><td>2687588</td></tr><tr><th>30</th><td>6/30/20</td><td>2636414</td></tr><tr><th>&vellip;</th><td>&vellip;</td><td>&vellip;</td></tr></tbody></table>"
      ],
      "text/latex": [
       "\\begin{tabular}{r|cc}\n",
       "\t& Dates & counts\\\\\n",
       "\t\\hline\n",
       "\t& Cat… & Int64\\\\\n",
       "\t\\hline\n",
       "\t1 & 7/29/20 & 4426982 \\\\\n",
       "\t2 & 7/28/20 & 4356206 \\\\\n",
       "\t3 & 7/27/20 & 4290337 \\\\\n",
       "\t4 & 7/26/20 & 4233923 \\\\\n",
       "\t5 & 7/25/20 & 4178970 \\\\\n",
       "\t6 & 7/24/20 & 4112531 \\\\\n",
       "\t7 & 7/23/20 & 4038816 \\\\\n",
       "\t8 & 7/22/20 & 3970121 \\\\\n",
       "\t9 & 7/21/20 & 3899211 \\\\\n",
       "\t10 & 7/20/20 & 3834677 \\\\\n",
       "\t11 & 7/19/20 & 3773260 \\\\\n",
       "\t12 & 7/18/20 & 3711413 \\\\\n",
       "\t13 & 7/17/20 & 3647715 \\\\\n",
       "\t14 & 7/16/20 & 3576157 \\\\\n",
       "\t15 & 7/15/20 & 3498902 \\\\\n",
       "\t16 & 7/14/20 & 3431574 \\\\\n",
       "\t17 & 7/13/20 & 3364157 \\\\\n",
       "\t18 & 7/12/20 & 3304942 \\\\\n",
       "\t19 & 7/11/20 & 3245925 \\\\\n",
       "\t20 & 7/10/20 & 3185737 \\\\\n",
       "\t21 & 7/9/20 & 3117946 \\\\\n",
       "\t22 & 7/8/20 & 3054699 \\\\\n",
       "\t23 & 7/7/20 & 2996098 \\\\\n",
       "\t24 & 7/6/20 & 2936077 \\\\\n",
       "\t25 & 7/5/20 & 2891124 \\\\\n",
       "\t26 & 7/4/20 & 2841241 \\\\\n",
       "\t27 & 7/3/20 & 2795361 \\\\\n",
       "\t28 & 7/2/20 & 2742049 \\\\\n",
       "\t29 & 7/1/20 & 2687588 \\\\\n",
       "\t30 & 6/30/20 & 2636414 \\\\\n",
       "\t$\\dots$ & $\\dots$ & $\\dots$ \\\\\n",
       "\\end{tabular}\n"
      ],
      "text/plain": [
       "190×2 DataFrame\n",
       "│ Row │ Dates   │ counts  │\n",
       "│     │ \u001b[90mCat…\u001b[39m    │ \u001b[90mInt64\u001b[39m   │\n",
       "├─────┼─────────┼─────────┤\n",
       "│ 1   │ 7/29/20 │ 4426982 │\n",
       "│ 2   │ 7/28/20 │ 4356206 │\n",
       "│ 3   │ 7/27/20 │ 4290337 │\n",
       "│ 4   │ 7/26/20 │ 4233923 │\n",
       "│ 5   │ 7/25/20 │ 4178970 │\n",
       "│ 6   │ 7/24/20 │ 4112531 │\n",
       "│ 7   │ 7/23/20 │ 4038816 │\n",
       "│ 8   │ 7/22/20 │ 3970121 │\n",
       "│ 9   │ 7/21/20 │ 3899211 │\n",
       "│ 10  │ 7/20/20 │ 3834677 │\n",
       "⋮\n",
       "│ 180 │ 2/1/20  │ 7153    │\n",
       "│ 181 │ 1/31/20 │ 5806    │\n",
       "│ 182 │ 1/30/20 │ 4903    │\n",
       "│ 183 │ 1/28/20 │ 3554    │\n",
       "│ 184 │ 1/29/20 │ 3554    │\n",
       "│ 185 │ 1/27/20 │ 1423    │\n",
       "│ 186 │ 1/26/20 │ 1058    │\n",
       "│ 187 │ 1/25/20 │ 761     │\n",
       "│ 188 │ 1/24/20 │ 549     │\n",
       "│ 189 │ 1/22/20 │ 444     │\n",
       "│ 190 │ 1/23/20 │ 444     │"
      ]
     },
     "execution_count": 50,
     "metadata": {},
     "output_type": "execute_result"
    }
   ],
   "source": [
    "sort(cases_per_dates, :counts , rev=true)"
   ]
  },
  {
   "cell_type": "code",
   "execution_count": 59,
   "metadata": {},
   "outputs": [
    {
     "name": "stderr",
     "output_type": "stream",
     "text": [
      "┌ Info: Precompiling StatsPlots [f3b207a7-027a-5e70-b257-86293d7955fd]\n",
      "└ @ Base loading.jl:1260\n"
     ]
    }
   ],
   "source": [
    "# Data Visualization \n",
    "using Plots, StatsPlots"
   ]
  },
  {
   "cell_type": "code",
   "execution_count": 60,
   "metadata": {},
   "outputs": [
    {
     "data": {
      "image/svg+xml": [
       "<?xml version=\"1.0\" encoding=\"utf-8\"?>\n",
       "<svg xmlns=\"http://www.w3.org/2000/svg\" xmlns:xlink=\"http://www.w3.org/1999/xlink\" width=\"600\" height=\"400\" viewBox=\"0 0 2400 1600\">\n",
       "<defs>\n",
       "  <clipPath id=\"clip820\">\n",
       "    <rect x=\"0\" y=\"0\" width=\"2400\" height=\"1600\"/>\n",
       "  </clipPath>\n",
       "</defs>\n",
       "<path clip-path=\"url(#clip820)\" d=\"\n",
       "M0 1600 L2400 1600 L2400 0 L0 0  Z\n",
       "  \" fill=\"#ffffff\" fill-rule=\"evenodd\" fill-opacity=\"1\"/>\n",
       "<defs>\n",
       "  <clipPath id=\"clip821\">\n",
       "    <rect x=\"480\" y=\"0\" width=\"1681\" height=\"1600\"/>\n",
       "  </clipPath>\n",
       "</defs>\n",
       "<path clip-path=\"url(#clip820)\" d=\"\n",
       "M215.695 1486.45 L2352.76 1486.45 L2352.76 47.2441 L215.695 47.2441  Z\n",
       "  \" fill=\"#ffffff\" fill-rule=\"evenodd\" fill-opacity=\"1\"/>\n",
       "<defs>\n",
       "  <clipPath id=\"clip822\">\n",
       "    <rect x=\"215\" y=\"47\" width=\"2138\" height=\"1440\"/>\n",
       "  </clipPath>\n",
       "</defs>\n",
       "<polyline clip-path=\"url(#clip822)\" style=\"stroke:#000000; stroke-width:2; stroke-opacity:0.1; fill:none\" points=\"\n",
       "  265.511,1486.45 265.511,47.2441 \n",
       "  \"/>\n",
       "<polyline clip-path=\"url(#clip822)\" style=\"stroke:#000000; stroke-width:2; stroke-opacity:0.1; fill:none\" points=\"\n",
       "  798.869,1486.45 798.869,47.2441 \n",
       "  \"/>\n",
       "<polyline clip-path=\"url(#clip822)\" style=\"stroke:#000000; stroke-width:2; stroke-opacity:0.1; fill:none\" points=\"\n",
       "  1332.23,1486.45 1332.23,47.2441 \n",
       "  \"/>\n",
       "<polyline clip-path=\"url(#clip822)\" style=\"stroke:#000000; stroke-width:2; stroke-opacity:0.1; fill:none\" points=\"\n",
       "  1865.59,1486.45 1865.59,47.2441 \n",
       "  \"/>\n",
       "<polyline clip-path=\"url(#clip822)\" style=\"stroke:#000000; stroke-width:2; stroke-opacity:0.1; fill:none\" points=\"\n",
       "  215.695,1445.85 2352.76,1445.85 \n",
       "  \"/>\n",
       "<polyline clip-path=\"url(#clip822)\" style=\"stroke:#000000; stroke-width:2; stroke-opacity:0.1; fill:none\" points=\"\n",
       "  215.695,1139.12 2352.76,1139.12 \n",
       "  \"/>\n",
       "<polyline clip-path=\"url(#clip822)\" style=\"stroke:#000000; stroke-width:2; stroke-opacity:0.1; fill:none\" points=\"\n",
       "  215.695,832.398 2352.76,832.398 \n",
       "  \"/>\n",
       "<polyline clip-path=\"url(#clip822)\" style=\"stroke:#000000; stroke-width:2; stroke-opacity:0.1; fill:none\" points=\"\n",
       "  215.695,525.67 2352.76,525.67 \n",
       "  \"/>\n",
       "<polyline clip-path=\"url(#clip822)\" style=\"stroke:#000000; stroke-width:2; stroke-opacity:0.1; fill:none\" points=\"\n",
       "  215.695,218.943 2352.76,218.943 \n",
       "  \"/>\n",
       "<polyline clip-path=\"url(#clip820)\" style=\"stroke:#000000; stroke-width:4; stroke-opacity:1; fill:none\" points=\"\n",
       "  215.695,1486.45 2352.76,1486.45 \n",
       "  \"/>\n",
       "<polyline clip-path=\"url(#clip820)\" style=\"stroke:#000000; stroke-width:4; stroke-opacity:1; fill:none\" points=\"\n",
       "  215.695,1486.45 215.695,47.2441 \n",
       "  \"/>\n",
       "<polyline clip-path=\"url(#clip820)\" style=\"stroke:#000000; stroke-width:4; stroke-opacity:1; fill:none\" points=\"\n",
       "  265.511,1486.45 265.511,1469.18 \n",
       "  \"/>\n",
       "<polyline clip-path=\"url(#clip820)\" style=\"stroke:#000000; stroke-width:4; stroke-opacity:1; fill:none\" points=\"\n",
       "  798.869,1486.45 798.869,1469.18 \n",
       "  \"/>\n",
       "<polyline clip-path=\"url(#clip820)\" style=\"stroke:#000000; stroke-width:4; stroke-opacity:1; fill:none\" points=\"\n",
       "  1332.23,1486.45 1332.23,1469.18 \n",
       "  \"/>\n",
       "<polyline clip-path=\"url(#clip820)\" style=\"stroke:#000000; stroke-width:4; stroke-opacity:1; fill:none\" points=\"\n",
       "  1865.59,1486.45 1865.59,1469.18 \n",
       "  \"/>\n",
       "<polyline clip-path=\"url(#clip820)\" style=\"stroke:#000000; stroke-width:4; stroke-opacity:1; fill:none\" points=\"\n",
       "  215.695,1445.85 241.34,1445.85 \n",
       "  \"/>\n",
       "<polyline clip-path=\"url(#clip820)\" style=\"stroke:#000000; stroke-width:4; stroke-opacity:1; fill:none\" points=\"\n",
       "  215.695,1139.12 241.34,1139.12 \n",
       "  \"/>\n",
       "<polyline clip-path=\"url(#clip820)\" style=\"stroke:#000000; stroke-width:4; stroke-opacity:1; fill:none\" points=\"\n",
       "  215.695,832.398 241.34,832.398 \n",
       "  \"/>\n",
       "<polyline clip-path=\"url(#clip820)\" style=\"stroke:#000000; stroke-width:4; stroke-opacity:1; fill:none\" points=\"\n",
       "  215.695,525.67 241.34,525.67 \n",
       "  \"/>\n",
       "<polyline clip-path=\"url(#clip820)\" style=\"stroke:#000000; stroke-width:4; stroke-opacity:1; fill:none\" points=\"\n",
       "  215.695,218.943 241.34,218.943 \n",
       "  \"/>\n",
       "<path clip-path=\"url(#clip820)\" d=\"M 0 0 M265.511 1508.44 Q261.9 1508.44 260.071 1512 Q258.265 1515.55 258.265 1522.67 Q258.265 1529.78 260.071 1533.35 Q261.9 1536.89 265.511 1536.89 Q269.145 1536.89 270.951 1533.35 Q272.779 1529.78 272.779 1522.67 Q272.779 1515.55 270.951 1512 Q269.145 1508.44 265.511 1508.44 M265.511 1504.73 Q271.321 1504.73 274.377 1509.34 Q277.455 1513.92 277.455 1522.67 Q277.455 1531.4 274.377 1536.01 Q271.321 1540.59 265.511 1540.59 Q259.701 1540.59 256.622 1536.01 Q253.566 1531.4 253.566 1522.67 Q253.566 1513.92 256.622 1509.34 Q259.701 1504.73 265.511 1504.73 Z\" fill=\"#000000\" fill-rule=\"evenodd\" fill-opacity=\"1\" /><path clip-path=\"url(#clip820)\" d=\"M 0 0 M775.64 1505.36 L793.997 1505.36 L793.997 1509.3 L779.923 1509.3 L779.923 1517.77 Q780.941 1517.42 781.96 1517.26 Q782.978 1517.07 783.997 1517.07 Q789.784 1517.07 793.163 1520.24 Q796.543 1523.42 796.543 1528.83 Q796.543 1534.41 793.071 1537.51 Q789.599 1540.59 783.279 1540.59 Q781.103 1540.59 778.835 1540.22 Q776.589 1539.85 774.182 1539.11 L774.182 1534.41 Q776.265 1535.54 778.487 1536.1 Q780.71 1536.66 783.187 1536.66 Q787.191 1536.66 789.529 1534.55 Q791.867 1532.44 791.867 1528.83 Q791.867 1525.22 789.529 1523.11 Q787.191 1521.01 783.187 1521.01 Q781.312 1521.01 779.437 1521.42 Q777.585 1521.84 775.64 1522.72 L775.64 1505.36 Z\" fill=\"#000000\" fill-rule=\"evenodd\" fill-opacity=\"1\" /><path clip-path=\"url(#clip820)\" d=\"M 0 0 M811.612 1508.44 Q808.001 1508.44 806.173 1512 Q804.367 1515.55 804.367 1522.67 Q804.367 1529.78 806.173 1533.35 Q808.001 1536.89 811.612 1536.89 Q815.247 1536.89 817.052 1533.35 Q818.881 1529.78 818.881 1522.67 Q818.881 1515.55 817.052 1512 Q815.247 1508.44 811.612 1508.44 M811.612 1504.73 Q817.422 1504.73 820.478 1509.34 Q823.557 1513.92 823.557 1522.67 Q823.557 1531.4 820.478 1536.01 Q817.422 1540.59 811.612 1540.59 Q805.802 1540.59 802.723 1536.01 Q799.668 1531.4 799.668 1522.67 Q799.668 1513.92 802.723 1509.34 Q805.802 1504.73 811.612 1504.73 Z\" fill=\"#000000\" fill-rule=\"evenodd\" fill-opacity=\"1\" /><path clip-path=\"url(#clip820)\" d=\"M 0 0 M1295.6 1535.98 L1303.23 1535.98 L1303.23 1509.62 L1294.92 1511.29 L1294.92 1507.03 L1303.19 1505.36 L1307.86 1505.36 L1307.86 1535.98 L1315.5 1535.98 L1315.5 1539.92 L1295.6 1539.92 L1295.6 1535.98 Z\" fill=\"#000000\" fill-rule=\"evenodd\" fill-opacity=\"1\" /><path clip-path=\"url(#clip820)\" d=\"M 0 0 M1330.57 1508.44 Q1326.96 1508.44 1325.13 1512 Q1323.33 1515.55 1323.33 1522.67 Q1323.33 1529.78 1325.13 1533.35 Q1326.96 1536.89 1330.57 1536.89 Q1334.21 1536.89 1336.01 1533.35 Q1337.84 1529.78 1337.84 1522.67 Q1337.84 1515.55 1336.01 1512 Q1334.21 1508.44 1330.57 1508.44 M1330.57 1504.73 Q1336.38 1504.73 1339.44 1509.34 Q1342.52 1513.92 1342.52 1522.67 Q1342.52 1531.4 1339.44 1536.01 Q1336.38 1540.59 1330.57 1540.59 Q1324.76 1540.59 1321.68 1536.01 Q1318.63 1531.4 1318.63 1522.67 Q1318.63 1513.92 1321.68 1509.34 Q1324.76 1504.73 1330.57 1504.73 Z\" fill=\"#000000\" fill-rule=\"evenodd\" fill-opacity=\"1\" /><path clip-path=\"url(#clip820)\" d=\"M 0 0 M1357.59 1508.44 Q1353.98 1508.44 1352.15 1512 Q1350.34 1515.55 1350.34 1522.67 Q1350.34 1529.78 1352.15 1533.35 Q1353.98 1536.89 1357.59 1536.89 Q1361.22 1536.89 1363.03 1533.35 Q1364.85 1529.78 1364.85 1522.67 Q1364.85 1515.55 1363.03 1512 Q1361.22 1508.44 1357.59 1508.44 M1357.59 1504.73 Q1363.4 1504.73 1366.45 1509.34 Q1369.53 1513.92 1369.53 1522.67 Q1369.53 1531.4 1366.45 1536.01 Q1363.4 1540.59 1357.59 1540.59 Q1351.78 1540.59 1348.7 1536.01 Q1345.64 1531.4 1345.64 1522.67 Q1345.64 1513.92 1348.7 1509.34 Q1351.78 1504.73 1357.59 1504.73 Z\" fill=\"#000000\" fill-rule=\"evenodd\" fill-opacity=\"1\" /><path clip-path=\"url(#clip820)\" d=\"M 0 0 M1829.45 1535.98 L1837.09 1535.98 L1837.09 1509.62 L1828.78 1511.29 L1828.78 1507.03 L1837.04 1505.36 L1841.72 1505.36 L1841.72 1535.98 L1849.36 1535.98 L1849.36 1539.92 L1829.45 1539.92 L1829.45 1535.98 Z\" fill=\"#000000\" fill-rule=\"evenodd\" fill-opacity=\"1\" /><path clip-path=\"url(#clip820)\" d=\"M 0 0 M1854.48 1505.36 L1872.83 1505.36 L1872.83 1509.3 L1858.76 1509.3 L1858.76 1517.77 Q1859.78 1517.42 1860.79 1517.26 Q1861.81 1517.07 1862.83 1517.07 Q1868.62 1517.07 1872 1520.24 Q1875.38 1523.42 1875.38 1528.83 Q1875.38 1534.41 1871.91 1537.51 Q1868.43 1540.59 1862.11 1540.59 Q1859.94 1540.59 1857.67 1540.22 Q1855.42 1539.85 1853.02 1539.11 L1853.02 1534.41 Q1855.1 1535.54 1857.32 1536.1 Q1859.54 1536.66 1862.02 1536.66 Q1866.03 1536.66 1868.36 1534.55 Q1870.7 1532.44 1870.7 1528.83 Q1870.7 1525.22 1868.36 1523.11 Q1866.03 1521.01 1862.02 1521.01 Q1860.15 1521.01 1858.27 1521.42 Q1856.42 1521.84 1854.48 1522.72 L1854.48 1505.36 Z\" fill=\"#000000\" fill-rule=\"evenodd\" fill-opacity=\"1\" /><path clip-path=\"url(#clip820)\" d=\"M 0 0 M1890.45 1508.44 Q1886.84 1508.44 1885.01 1512 Q1883.2 1515.55 1883.2 1522.67 Q1883.2 1529.78 1885.01 1533.35 Q1886.84 1536.89 1890.45 1536.89 Q1894.08 1536.89 1895.89 1533.35 Q1897.72 1529.78 1897.72 1522.67 Q1897.72 1515.55 1895.89 1512 Q1894.08 1508.44 1890.45 1508.44 M1890.45 1504.73 Q1896.26 1504.73 1899.31 1509.34 Q1902.39 1513.92 1902.39 1522.67 Q1902.39 1531.4 1899.31 1536.01 Q1896.26 1540.59 1890.45 1540.59 Q1884.64 1540.59 1881.56 1536.01 Q1878.5 1531.4 1878.5 1522.67 Q1878.5 1513.92 1881.56 1509.34 Q1884.64 1504.73 1890.45 1504.73 Z\" fill=\"#000000\" fill-rule=\"evenodd\" fill-opacity=\"1\" /><path clip-path=\"url(#clip820)\" d=\"M 0 0 M179.751 1431.65 Q176.14 1431.65 174.311 1435.22 Q172.505 1438.76 172.505 1445.89 Q172.505 1452.99 174.311 1456.56 Q176.14 1460.1 179.751 1460.1 Q183.385 1460.1 185.191 1456.56 Q187.019 1452.99 187.019 1445.89 Q187.019 1438.76 185.191 1435.22 Q183.385 1431.65 179.751 1431.65 M179.751 1427.95 Q185.561 1427.95 188.616 1432.55 Q191.695 1437.14 191.695 1445.89 Q191.695 1454.61 188.616 1459.22 Q185.561 1463.8 179.751 1463.8 Q173.941 1463.8 170.862 1459.22 Q167.806 1454.61 167.806 1445.89 Q167.806 1437.14 170.862 1432.55 Q173.941 1427.95 179.751 1427.95 Z\" fill=\"#000000\" fill-rule=\"evenodd\" fill-opacity=\"1\" /><path clip-path=\"url(#clip820)\" d=\"M 0 0 M73.2771 1158.92 L80.9159 1158.92 L80.9159 1132.55 L72.6058 1134.22 L72.6058 1129.96 L80.8696 1128.29 L85.5455 1128.29 L85.5455 1158.92 L93.1844 1158.92 L93.1844 1162.85 L73.2771 1162.85 L73.2771 1158.92 Z\" fill=\"#000000\" fill-rule=\"evenodd\" fill-opacity=\"1\" /><path clip-path=\"url(#clip820)\" d=\"M 0 0 M126.425 1137.39 L115.846 1148.01 L126.425 1158.59 L123.67 1161.39 L113.045 1150.77 L102.42 1161.39 L99.689 1158.59 L110.244 1148.01 L99.689 1137.39 L102.42 1134.59 L113.045 1145.21 L123.67 1134.59 L126.425 1137.39 Z\" fill=\"#000000\" fill-rule=\"evenodd\" fill-opacity=\"1\" /><path clip-path=\"url(#clip820)\" d=\"M 0 0 M132.305 1158.92 L139.943 1158.92 L139.943 1132.55 L131.633 1134.22 L131.633 1129.96 L139.897 1128.29 L144.573 1128.29 L144.573 1158.92 L152.212 1158.92 L152.212 1162.85 L132.305 1162.85 L132.305 1158.92 Z\" fill=\"#000000\" fill-rule=\"evenodd\" fill-opacity=\"1\" /><path clip-path=\"url(#clip820)\" d=\"M 0 0 M167.281 1131.37 Q163.67 1131.37 161.841 1134.94 Q160.036 1138.48 160.036 1145.61 Q160.036 1152.71 161.841 1156.28 Q163.67 1159.82 167.281 1159.82 Q170.915 1159.82 172.721 1156.28 Q174.55 1152.71 174.55 1145.61 Q174.55 1138.48 172.721 1134.94 Q170.915 1131.37 167.281 1131.37 M167.281 1127.67 Q173.091 1127.67 176.147 1132.27 Q179.226 1136.86 179.226 1145.61 Q179.226 1154.33 176.147 1158.94 Q173.091 1163.52 167.281 1163.52 Q161.471 1163.52 158.392 1158.94 Q155.337 1154.33 155.337 1145.61 Q155.337 1136.86 158.392 1132.27 Q161.471 1127.67 167.281 1127.67 Z\" fill=\"#000000\" fill-rule=\"evenodd\" fill-opacity=\"1\" /><path clip-path=\"url(#clip820)\" d=\"M 0 0 M185.677 1114.13 Q184.022 1114.13 183.062 1115.11 Q182.103 1116.11 182.103 1117.82 Q182.103 1119.51 183.062 1120.49 Q184.022 1121.49 185.677 1121.49 Q187.313 1121.49 188.272 1120.49 Q189.231 1119.51 189.231 1117.82 Q189.231 1116.11 188.272 1115.11 Q187.313 1114.13 185.677 1114.13 M190.529 1107.47 L190.529 1109.41 Q189.607 1109.04 188.667 1108.85 Q187.727 1108.64 186.805 1108.64 Q184.398 1108.64 183.119 1110.05 Q181.84 1111.48 181.652 1114.36 Q182.366 1113.44 183.439 1112.95 Q184.529 1112.46 185.808 1112.46 Q188.535 1112.46 190.115 1113.89 Q191.695 1115.34 191.695 1117.82 Q191.695 1120.21 190.04 1121.69 Q188.404 1123.16 185.677 1123.16 Q182.536 1123.16 180.881 1121.07 Q179.226 1118.99 179.226 1115 Q179.226 1111.27 181.257 1109.07 Q183.288 1106.85 186.711 1106.85 Q187.633 1106.85 188.573 1107 Q189.513 1107.17 190.529 1107.47 Z\" fill=\"#000000\" fill-rule=\"evenodd\" fill-opacity=\"1\" /><path clip-path=\"url(#clip820)\" d=\"M 0 0 M76.865 852.19 L93.1844 852.19 L93.1844 856.125 L71.2401 856.125 L71.2401 852.19 Q73.9021 849.435 78.4854 844.806 Q83.0918 840.153 84.2724 838.81 Q86.5178 836.287 87.3974 834.551 Q88.3002 832.792 88.3002 831.102 Q88.3002 828.348 86.3557 826.611 Q84.4344 824.875 81.3326 824.875 Q79.1335 824.875 76.6798 825.639 Q74.2493 826.403 71.4715 827.954 L71.4715 823.232 Q74.2956 822.098 76.7493 821.519 Q79.203 820.94 81.24 820.94 Q86.6103 820.94 89.8048 823.625 Q92.9992 826.311 92.9992 830.801 Q92.9992 832.931 92.189 834.852 Q91.402 836.75 89.2955 839.343 Q88.7168 840.014 85.615 843.232 Q82.5131 846.426 76.865 852.19 Z\" fill=\"#000000\" fill-rule=\"evenodd\" fill-opacity=\"1\" /><path clip-path=\"url(#clip820)\" d=\"M 0 0 M126.425 830.662 L115.846 841.287 L126.425 851.866 L123.67 854.667 L113.045 844.042 L102.42 854.667 L99.689 851.866 L110.244 841.287 L99.689 830.662 L102.42 827.861 L113.045 838.486 L123.67 827.861 L126.425 830.662 Z\" fill=\"#000000\" fill-rule=\"evenodd\" fill-opacity=\"1\" /><path clip-path=\"url(#clip820)\" d=\"M 0 0 M132.305 852.19 L139.943 852.19 L139.943 825.824 L131.633 827.491 L131.633 823.232 L139.897 821.565 L144.573 821.565 L144.573 852.19 L152.212 852.19 L152.212 856.125 L132.305 856.125 L132.305 852.19 Z\" fill=\"#000000\" fill-rule=\"evenodd\" fill-opacity=\"1\" /><path clip-path=\"url(#clip820)\" d=\"M 0 0 M167.281 824.644 Q163.67 824.644 161.841 828.209 Q160.036 831.75 160.036 838.88 Q160.036 845.986 161.841 849.551 Q163.67 853.093 167.281 853.093 Q170.915 853.093 172.721 849.551 Q174.55 845.986 174.55 838.88 Q174.55 831.75 172.721 828.209 Q170.915 824.644 167.281 824.644 M167.281 820.94 Q173.091 820.94 176.147 825.547 Q179.226 830.13 179.226 838.88 Q179.226 847.607 176.147 852.213 Q173.091 856.796 167.281 856.796 Q161.471 856.796 158.392 852.213 Q155.337 847.607 155.337 838.88 Q155.337 830.13 158.392 825.547 Q161.471 820.94 167.281 820.94 Z\" fill=\"#000000\" fill-rule=\"evenodd\" fill-opacity=\"1\" /><path clip-path=\"url(#clip820)\" d=\"M 0 0 M185.677 807.406 Q184.022 807.406 183.062 808.384 Q182.103 809.38 182.103 811.092 Q182.103 812.785 183.062 813.763 Q184.022 814.759 185.677 814.759 Q187.313 814.759 188.272 813.763 Q189.231 812.785 189.231 811.092 Q189.231 809.38 188.272 808.384 Q187.313 807.406 185.677 807.406 M190.529 800.748 L190.529 802.685 Q189.607 802.309 188.667 802.121 Q187.727 801.914 186.805 801.914 Q184.398 801.914 183.119 803.324 Q181.84 804.754 181.652 807.631 Q182.366 806.71 183.439 806.221 Q184.529 805.732 185.808 805.732 Q188.535 805.732 190.115 807.161 Q191.695 808.609 191.695 811.092 Q191.695 813.48 190.04 814.966 Q188.404 816.433 185.677 816.433 Q182.536 816.433 180.881 814.346 Q179.226 812.258 179.226 808.271 Q179.226 804.547 181.257 802.346 Q183.288 800.127 186.711 800.127 Q187.633 800.127 188.573 800.277 Q189.513 800.447 190.529 800.748 Z\" fill=\"#000000\" fill-rule=\"evenodd\" fill-opacity=\"1\" /><path clip-path=\"url(#clip820)\" d=\"M 0 0 M86.0548 530.764 Q89.4113 531.481 91.2862 533.75 Q93.1844 536.018 93.1844 539.352 Q93.1844 544.467 89.6659 547.268 Q86.1474 550.069 79.6659 550.069 Q77.49 550.069 75.1752 549.629 Q72.8836 549.213 70.4299 548.356 L70.4299 543.842 Q72.3743 544.977 74.6891 545.555 Q77.0039 546.134 79.527 546.134 Q83.9252 546.134 86.2168 544.398 Q88.5316 542.662 88.5316 539.352 Q88.5316 536.296 86.3789 534.583 Q84.2492 532.847 80.4298 532.847 L76.4021 532.847 L76.4021 529.005 L80.615 529.005 Q84.0641 529.005 85.8928 527.639 Q87.7214 526.25 87.7214 523.657 Q87.7214 520.995 85.8233 519.583 Q83.9483 518.148 80.4298 518.148 Q78.5085 518.148 76.3095 518.565 Q74.1104 518.982 71.4715 519.861 L71.4715 515.694 Q74.1336 514.954 76.4484 514.583 Q78.7863 514.213 80.8465 514.213 Q86.1705 514.213 89.2724 516.644 Q92.3742 519.051 92.3742 523.171 Q92.3742 526.042 90.7307 528.032 Q89.0872 530 86.0548 530.764 Z\" fill=\"#000000\" fill-rule=\"evenodd\" fill-opacity=\"1\" /><path clip-path=\"url(#clip820)\" d=\"M 0 0 M126.425 523.935 L115.846 534.56 L126.425 545.139 L123.67 547.94 L113.045 537.315 L102.42 547.94 L99.689 545.139 L110.244 534.56 L99.689 523.935 L102.42 521.134 L113.045 531.759 L123.67 521.134 L126.425 523.935 Z\" fill=\"#000000\" fill-rule=\"evenodd\" fill-opacity=\"1\" /><path clip-path=\"url(#clip820)\" d=\"M 0 0 M132.305 545.463 L139.943 545.463 L139.943 519.097 L131.633 520.764 L131.633 516.505 L139.897 514.838 L144.573 514.838 L144.573 545.463 L152.212 545.463 L152.212 549.398 L132.305 549.398 L132.305 545.463 Z\" fill=\"#000000\" fill-rule=\"evenodd\" fill-opacity=\"1\" /><path clip-path=\"url(#clip820)\" d=\"M 0 0 M167.281 517.917 Q163.67 517.917 161.841 521.481 Q160.036 525.023 160.036 532.153 Q160.036 539.259 161.841 542.824 Q163.67 546.366 167.281 546.366 Q170.915 546.366 172.721 542.824 Q174.55 539.259 174.55 532.153 Q174.55 525.023 172.721 521.481 Q170.915 517.917 167.281 517.917 M167.281 514.213 Q173.091 514.213 176.147 518.819 Q179.226 523.403 179.226 532.153 Q179.226 540.88 176.147 545.486 Q173.091 550.069 167.281 550.069 Q161.471 550.069 158.392 545.486 Q155.337 540.88 155.337 532.153 Q155.337 523.403 158.392 518.819 Q161.471 514.213 167.281 514.213 Z\" fill=\"#000000\" fill-rule=\"evenodd\" fill-opacity=\"1\" /><path clip-path=\"url(#clip820)\" d=\"M 0 0 M185.677 500.678 Q184.022 500.678 183.062 501.656 Q182.103 502.653 182.103 504.365 Q182.103 506.057 183.062 507.035 Q184.022 508.032 185.677 508.032 Q187.313 508.032 188.272 507.035 Q189.231 506.057 189.231 504.365 Q189.231 502.653 188.272 501.656 Q187.313 500.678 185.677 500.678 M190.529 494.02 L190.529 495.958 Q189.607 495.581 188.667 495.393 Q187.727 495.187 186.805 495.187 Q184.398 495.187 183.119 496.597 Q181.84 498.027 181.652 500.904 Q182.366 499.983 183.439 499.494 Q184.529 499.005 185.808 499.005 Q188.535 499.005 190.115 500.434 Q191.695 501.882 191.695 504.365 Q191.695 506.753 190.04 508.239 Q188.404 509.706 185.677 509.706 Q182.536 509.706 180.881 507.618 Q179.226 505.531 179.226 501.544 Q179.226 497.82 181.257 495.619 Q183.288 493.4 186.711 493.4 Q187.633 493.4 188.573 493.55 Q189.513 493.72 190.529 494.02 Z\" fill=\"#000000\" fill-rule=\"evenodd\" fill-opacity=\"1\" /><path clip-path=\"url(#clip820)\" d=\"M 0 0 M83.6011 212.185 L71.7956 230.634 L83.6011 230.634 L83.6011 212.185 M82.3743 208.111 L88.2539 208.111 L88.2539 230.634 L93.1844 230.634 L93.1844 234.523 L88.2539 234.523 L88.2539 242.671 L83.6011 242.671 L83.6011 234.523 L67.9993 234.523 L67.9993 230.009 L82.3743 208.111 Z\" fill=\"#000000\" fill-rule=\"evenodd\" fill-opacity=\"1\" /><path clip-path=\"url(#clip820)\" d=\"M 0 0 M126.425 217.208 L115.846 227.833 L126.425 238.412 L123.67 241.213 L113.045 230.588 L102.42 241.213 L99.689 238.412 L110.244 227.833 L99.689 217.208 L102.42 214.407 L113.045 225.032 L123.67 214.407 L126.425 217.208 Z\" fill=\"#000000\" fill-rule=\"evenodd\" fill-opacity=\"1\" /><path clip-path=\"url(#clip820)\" d=\"M 0 0 M132.305 238.736 L139.943 238.736 L139.943 212.37 L131.633 214.037 L131.633 209.778 L139.897 208.111 L144.573 208.111 L144.573 238.736 L152.212 238.736 L152.212 242.671 L132.305 242.671 L132.305 238.736 Z\" fill=\"#000000\" fill-rule=\"evenodd\" fill-opacity=\"1\" /><path clip-path=\"url(#clip820)\" d=\"M 0 0 M167.281 211.19 Q163.67 211.19 161.841 214.754 Q160.036 218.296 160.036 225.426 Q160.036 232.532 161.841 236.097 Q163.67 239.638 167.281 239.638 Q170.915 239.638 172.721 236.097 Q174.55 232.532 174.55 225.426 Q174.55 218.296 172.721 214.754 Q170.915 211.19 167.281 211.19 M167.281 207.486 Q173.091 207.486 176.147 212.092 Q179.226 216.676 179.226 225.426 Q179.226 234.152 176.147 238.759 Q173.091 243.342 167.281 243.342 Q161.471 243.342 158.392 238.759 Q155.337 234.152 155.337 225.426 Q155.337 216.676 158.392 212.092 Q161.471 207.486 167.281 207.486 Z\" fill=\"#000000\" fill-rule=\"evenodd\" fill-opacity=\"1\" /><path clip-path=\"url(#clip820)\" d=\"M 0 0 M185.677 193.951 Q184.022 193.951 183.062 194.929 Q182.103 195.926 182.103 197.638 Q182.103 199.33 183.062 200.308 Q184.022 201.305 185.677 201.305 Q187.313 201.305 188.272 200.308 Q189.231 199.33 189.231 197.638 Q189.231 195.926 188.272 194.929 Q187.313 193.951 185.677 193.951 M190.529 187.293 L190.529 189.23 Q189.607 188.854 188.667 188.666 Q187.727 188.459 186.805 188.459 Q184.398 188.459 183.119 189.87 Q181.84 191.299 181.652 194.177 Q182.366 193.255 183.439 192.766 Q184.529 192.277 185.808 192.277 Q188.535 192.277 190.115 193.707 Q191.695 195.155 191.695 197.638 Q191.695 200.026 190.04 201.512 Q188.404 202.979 185.677 202.979 Q182.536 202.979 180.881 200.891 Q179.226 198.804 179.226 194.816 Q179.226 191.092 181.257 188.892 Q183.288 186.673 186.711 186.673 Q187.633 186.673 188.573 186.823 Q189.513 186.992 190.529 187.293 Z\" fill=\"#000000\" fill-rule=\"evenodd\" fill-opacity=\"1\" /><polyline clip-path=\"url(#clip822)\" style=\"stroke:#009af9; stroke-width:4; stroke-opacity:1; fill:none\" points=\"\n",
       "  276.178,1445.72 286.845,1445.72 297.512,1445.68 308.18,1445.62 318.847,1445.53 329.514,1445.42 340.181,1444.76 350.848,1444.76 361.515,1444.35 372.183,1444.07 \n",
       "  382.85,1443.66 393.517,1442.42 404.184,1441.7 414.851,1440.74 425.518,1439.82 436.186,1439.07 446.853,1438.2 457.52,1437.54 468.187,1436.76 478.854,1436.12 \n",
       "  489.521,1435.62 500.189,1435.62 510.856,1431.07 521.523,1429.16 532.19,1428.6 542.857,1428.01 553.524,1427.45 564.192,1426.93 574.859,1426.83 585.526,1426.7 \n",
       "  596.193,1426.63 606.86,1426.2 617.527,1426.2 628.195,1426.13 638.862,1425.98 649.529,1425.86 660.196,1425.73 670.863,1425.63 681.53,1425.5 692.198,1425.33 \n",
       "  702.865,1425.27 713.532,1425.23 724.199,1425.2 734.866,1425.16 745.533,1425.12 756.201,1425.1 766.868,1425.08 777.535,1425.07 788.202,1425.07 798.869,1425.06 \n",
       "  809.536,1425.06 820.204,1425.06 830.871,1425.06 841.538,1425.06 852.205,1425.06 862.872,1425.06 873.539,1425.06 884.207,1425.06 894.874,1425.06 905.541,1425.06 \n",
       "  916.208,1425.06 926.875,1425.06 937.543,1424.63 948.21,1423.04 958.877,1420.06 969.544,1414.48 980.211,1408.41 990.878,1402.54 1001.55,1395.95 1012.21,1387.97 \n",
       "  1022.88,1380.15 1033.55,1370.82 1044.21,1361.03 1054.88,1350.86 1065.55,1342.31 1076.22,1333.22 1086.88,1323.78 1097.55,1314.06 1108.22,1303.39 1118.88,1293.12 \n",
       "  1129.55,1283.91 1140.22,1275.15 1150.89,1267.39 1161.55,1259.09 1172.22,1250.17 1182.89,1240.57 1193.55,1230.53 1204.22,1221.84 1214.89,1213.85 1225.56,1205.46 \n",
       "  1236.22,1197.61 1246.89,1188.99 1257.56,1178.5 1268.22,1167.37 1278.89,1157.27 1289.56,1148.78 1300.23,1141.89 1310.89,1134.36 1321.56,1125.92 1332.23,1116.84 \n",
       "  1342.89,1106.36 1353.56,1097.4 1364.23,1089.55 1374.9,1082.66 1385.56,1075.24 1396.23,1067.5 1406.9,1058.94 1417.57,1050.61 1428.23,1042.71 1438.9,1036.65 \n",
       "  1449.57,1030.86 1460.23,1024.06 1470.9,1017.63 1481.57,1009.16 1492.24,1001.4 1502.9,993.697 1513.57,987.868 1524.24,981.191 1534.9,974.918 1545.57,967.616 \n",
       "  1556.24,959.839 1566.91,952.434 1577.57,945.741 1588.24,939.357 1598.91,933.532 1609.57,927.74 1620.24,922.132 1630.91,915.134 1641.58,907.618 1652.24,900.119 \n",
       "  1662.91,894.012 1673.58,888.688 1684.24,882.279 1694.91,876.158 1705.58,869.609 1716.25,861.872 1726.91,854.899 1737.58,849.461 1748.25,844.119 1758.91,838.559 \n",
       "  1769.58,832.181 1780.25,825.142 1790.92,817.372 1801.58,809.534 1812.25,803.453 1822.92,797.423 1833.58,790.152 1844.25,782.312 1854.92,773.782 1865.59,764.127 \n",
       "  1876.25,754.082 1886.92,745.972 1897.59,736.606 1908.25,725.813 1918.92,715.097 1929.59,702.867 1940.26,688.986 1950.92,675.887 1961.59,663.739 1972.26,651.224 \n",
       "  1982.93,637.192 1993.59,621.496 2004.26,604.791 2014.93,588.439 2025.59,574.366 2036.26,559.066 2046.93,545.277 2057.6,526.867 2068.26,508.893 2078.93,489.493 \n",
       "  2089.6,468.7 2100.26,450.239 2110.93,432.136 2121.6,413.974 2132.27,393.295 2142.93,372.644 2153.6,348.947 2164.27,326.999 2174.93,307.461 2185.6,288.491 \n",
       "  2196.27,269.652 2206.94,249.858 2217.6,228.108 2228.27,207.037 2238.94,184.427 2249.6,164.048 2260.27,147.193 2270.94,129.889 2281.61,109.685 2292.27,87.9763 \n",
       "  \n",
       "  \"/>\n",
       "<path clip-path=\"url(#clip820)\" d=\"\n",
       "M1993.05 216.178 L2281.52 216.178 L2281.52 95.2176 L1993.05 95.2176  Z\n",
       "  \" fill=\"#ffffff\" fill-rule=\"evenodd\" fill-opacity=\"1\"/>\n",
       "<polyline clip-path=\"url(#clip820)\" style=\"stroke:#000000; stroke-width:4; stroke-opacity:1; fill:none\" points=\"\n",
       "  1993.05,216.178 2281.52,216.178 2281.52,95.2176 1993.05,95.2176 1993.05,216.178 \n",
       "  \"/>\n",
       "<polyline clip-path=\"url(#clip820)\" style=\"stroke:#009af9; stroke-width:4; stroke-opacity:1; fill:none\" points=\"\n",
       "  2016.8,155.698 2159.27,155.698 \n",
       "  \"/>\n",
       "<path clip-path=\"url(#clip820)\" d=\"M 0 0 M2196.85 175.385 Q2195.05 180.015 2193.34 181.427 Q2191.62 182.839 2188.75 182.839 L2185.35 182.839 L2185.35 179.274 L2187.85 179.274 Q2189.61 179.274 2190.58 178.44 Q2191.55 177.607 2192.73 174.505 L2193.5 172.561 L2183.01 147.052 L2187.53 147.052 L2195.63 167.329 L2203.73 147.052 L2208.24 147.052 L2196.85 175.385 Z\" fill=\"#000000\" fill-rule=\"evenodd\" fill-opacity=\"1\" /><path clip-path=\"url(#clip820)\" d=\"M 0 0 M2214.12 169.042 L2221.76 169.042 L2221.76 142.677 L2213.45 144.343 L2213.45 140.084 L2221.72 138.418 L2226.39 138.418 L2226.39 169.042 L2234.03 169.042 L2234.03 172.978 L2214.12 172.978 L2214.12 169.042 Z\" fill=\"#000000\" fill-rule=\"evenodd\" fill-opacity=\"1\" /></svg>\n"
      ]
     },
     "execution_count": 60,
     "metadata": {},
     "output_type": "execute_result"
    }
   ],
   "source": [
    "@df cases_per_dates plot(x=:Dates, :counts)"
   ]
  },
  {
   "cell_type": "code",
   "execution_count": 53,
   "metadata": {},
   "outputs": [],
   "source": [
    "using Pkg "
   ]
  },
  {
   "cell_type": "code",
   "execution_count": 55,
   "metadata": {},
   "outputs": [
    {
     "name": "stderr",
     "output_type": "stream",
     "text": [
      "\u001b[32m\u001b[1m  Resolving\u001b[22m\u001b[39m package versions...\n",
      "\u001b[32m\u001b[1m  Installed\u001b[22m\u001b[39m AbstractFFTs ───────────────── v0.5.0\n",
      "\u001b[32m\u001b[1m  Installed\u001b[22m\u001b[39m OpenSpecFun_jll ────────────── v0.5.3+3\n",
      "\u001b[32m\u001b[1m  Installed\u001b[22m\u001b[39m FFTW_jll ───────────────────── v3.3.9+5\n",
      "\u001b[32m\u001b[1m  Installed\u001b[22m\u001b[39m MultivariateStats ──────────── v0.7.0\n",
      "\u001b[32m\u001b[1m  Installed\u001b[22m\u001b[39m FiniteDiff ─────────────────── v2.5.2\n",
      "\u001b[32m\u001b[1m  Installed\u001b[22m\u001b[39m MacroTools ─────────────────── v0.5.5\n",
      "\u001b[32m\u001b[1m  Installed\u001b[22m\u001b[39m Clustering ─────────────────── v0.14.1\n",
      "\u001b[32m\u001b[1m  Installed\u001b[22m\u001b[39m StatsPlots ─────────────────── v0.14.6\n",
      "\u001b[32m\u001b[1m  Installed\u001b[22m\u001b[39m NLSolversBase ──────────────── v7.6.1\n",
      "\u001b[32m\u001b[1m  Installed\u001b[22m\u001b[39m Rmath_jll ──────────────────── v0.2.2+1\n",
      "\u001b[32m\u001b[1m  Installed\u001b[22m\u001b[39m Observables ────────────────── v0.3.1\n",
      "\u001b[32m\u001b[1m  Installed\u001b[22m\u001b[39m Arpack ─────────────────────── v0.4.0\n",
      "\u001b[32m\u001b[1m  Installed\u001b[22m\u001b[39m CommonSubexpressions ───────── v0.3.0\n",
      "\u001b[32m\u001b[1m  Installed\u001b[22m\u001b[39m KernelDensity ──────────────── v0.5.1\n",
      "\u001b[32m\u001b[1m  Installed\u001b[22m\u001b[39m AxisAlgorithms ─────────────── v1.0.0\n",
      "\u001b[32m\u001b[1m  Installed\u001b[22m\u001b[39m CompilerSupportLibraries_jll ─ v0.3.3+0\n",
      "\u001b[32m\u001b[1m  Installed\u001b[22m\u001b[39m Rmath ──────────────────────── v0.6.1\n",
      "\u001b[32m\u001b[1m  Installed\u001b[22m\u001b[39m OffsetArrays ───────────────── v1.1.2\n",
      "\u001b[32m\u001b[1m  Installed\u001b[22m\u001b[39m ArrayInterface ─────────────── v2.11.0\n",
      "\u001b[32m\u001b[1m  Installed\u001b[22m\u001b[39m TableOperations ────────────── v0.2.1\n",
      "\u001b[32m\u001b[1m  Installed\u001b[22m\u001b[39m WoodburyMatrices ───────────── v0.5.2\n",
      "\u001b[32m\u001b[1m  Installed\u001b[22m\u001b[39m Optim ──────────────────────── v0.22.0\n",
      "\u001b[32m\u001b[1m  Installed\u001b[22m\u001b[39m Distributions ──────────────── v0.23.6\n",
      "\u001b[32m\u001b[1m  Installed\u001b[22m\u001b[39m Interpolations ─────────────── v0.12.10\n",
      "\u001b[32m\u001b[1m  Installed\u001b[22m\u001b[39m Ratios ─────────────────────── v0.4.0\n",
      "\u001b[32m\u001b[1m  Installed\u001b[22m\u001b[39m MKL_jll ────────────────────── v2020.1.216+0\n",
      "\u001b[32m\u001b[1m  Installed\u001b[22m\u001b[39m Distances ──────────────────── v0.9.0\n",
      "\u001b[32m\u001b[1m  Installed\u001b[22m\u001b[39m PositiveFactorizations ─────── v0.2.3\n",
      "\u001b[32m\u001b[1m  Installed\u001b[22m\u001b[39m DataValues ─────────────────── v0.4.13\n",
      "\u001b[32m\u001b[1m  Installed\u001b[22m\u001b[39m UnPack ─────────────────────── v1.0.1\n",
      "\u001b[32m\u001b[1m  Installed\u001b[22m\u001b[39m DiffRules ──────────────────── v1.0.1\n",
      "\u001b[32m\u001b[1m  Installed\u001b[22m\u001b[39m Arpack_jll ─────────────────── v3.5.0+3\n",
      "\u001b[32m\u001b[1m  Installed\u001b[22m\u001b[39m DiffResults ────────────────── v1.0.2\n",
      "\u001b[32m\u001b[1m  Installed\u001b[22m\u001b[39m QuadGK ─────────────────────── v2.4.0\n",
      "\u001b[32m\u001b[1m  Installed\u001b[22m\u001b[39m StatsFuns ──────────────────── v0.9.5\n",
      "\u001b[32m\u001b[1m  Installed\u001b[22m\u001b[39m FillArrays ─────────────────── v0.8.13\n",
      "\u001b[32m\u001b[1m  Installed\u001b[22m\u001b[39m Parameters ─────────────────── v0.12.1\n",
      "\u001b[32m\u001b[1m  Installed\u001b[22m\u001b[39m NearestNeighbors ───────────── v0.4.6\n",
      "\u001b[32m\u001b[1m  Installed\u001b[22m\u001b[39m ForwardDiff ────────────────── v0.10.12\n",
      "\u001b[32m\u001b[1m  Installed\u001b[22m\u001b[39m Widgets ────────────────────── v0.6.2\n",
      "\u001b[32m\u001b[1m  Installed\u001b[22m\u001b[39m LineSearches ───────────────── v7.0.1\n",
      "\u001b[32m\u001b[1m  Installed\u001b[22m\u001b[39m FFTW ───────────────────────── v1.2.2\n",
      "\u001b[32m\u001b[1m  Installed\u001b[22m\u001b[39m IntelOpenMP_jll ────────────── v2018.0.3+0\n",
      "\u001b[32m\u001b[1m  Installed\u001b[22m\u001b[39m PDMats ─────────────────────── v0.10.0\n",
      "\u001b[32m\u001b[1m  Installed\u001b[22m\u001b[39m OpenBLAS_jll ───────────────── v0.3.9+5\n",
      "\u001b[32m\u001b[1m  Installed\u001b[22m\u001b[39m SpecialFunctions ───────────── v0.10.3\n",
      "\u001b[32m\u001b[1m   Updating\u001b[22m\u001b[39m `C:\\Users\\yashi\\.julia\\environments\\v1.4\\Project.toml`\n",
      " \u001b[90m [f3b207a7]\u001b[39m\u001b[92m + StatsPlots v0.14.6\u001b[39m\n",
      "\u001b[32m\u001b[1m   Updating\u001b[22m\u001b[39m `C:\\Users\\yashi\\.julia\\environments\\v1.4\\Manifest.toml`\n",
      " \u001b[90m [621f4979]\u001b[39m\u001b[92m + AbstractFFTs v0.5.0\u001b[39m\n",
      " \u001b[90m [7d9fca2a]\u001b[39m\u001b[92m + Arpack v0.4.0\u001b[39m\n",
      " \u001b[90m [68821587]\u001b[39m\u001b[92m + Arpack_jll v3.5.0+3\u001b[39m\n",
      " \u001b[90m [4fba245c]\u001b[39m\u001b[92m + ArrayInterface v2.11.0\u001b[39m\n",
      " \u001b[90m [13072b0f]\u001b[39m\u001b[92m + AxisAlgorithms v1.0.0\u001b[39m\n",
      " \u001b[90m [aaaa29a8]\u001b[39m\u001b[92m + Clustering v0.14.1\u001b[39m\n",
      " \u001b[90m [bbf7d656]\u001b[39m\u001b[92m + CommonSubexpressions v0.3.0\u001b[39m\n",
      " \u001b[90m [e66e0078]\u001b[39m\u001b[92m + CompilerSupportLibraries_jll v0.3.3+0\u001b[39m\n",
      " \u001b[90m [e7dc6d0d]\u001b[39m\u001b[92m + DataValues v0.4.13\u001b[39m\n",
      " \u001b[90m [163ba53b]\u001b[39m\u001b[92m + DiffResults v1.0.2\u001b[39m\n",
      " \u001b[90m [b552c78f]\u001b[39m\u001b[92m + DiffRules v1.0.1\u001b[39m\n",
      " \u001b[90m [b4f34e82]\u001b[39m\u001b[92m + Distances v0.9.0\u001b[39m\n",
      " \u001b[90m [31c24e10]\u001b[39m\u001b[92m + Distributions v0.23.6\u001b[39m\n",
      " \u001b[90m [7a1cc6ca]\u001b[39m\u001b[92m + FFTW v1.2.2\u001b[39m\n",
      " \u001b[90m [f5851436]\u001b[39m\u001b[92m + FFTW_jll v3.3.9+5\u001b[39m\n",
      " \u001b[90m [1a297f60]\u001b[39m\u001b[92m + FillArrays v0.8.13\u001b[39m\n",
      " \u001b[90m [6a86dc24]\u001b[39m\u001b[92m + FiniteDiff v2.5.2\u001b[39m\n",
      " \u001b[90m [f6369f11]\u001b[39m\u001b[92m + ForwardDiff v0.10.12\u001b[39m\n",
      " \u001b[90m [1d5cc7b8]\u001b[39m\u001b[92m + IntelOpenMP_jll v2018.0.3+0\u001b[39m\n",
      " \u001b[90m [a98d9a8b]\u001b[39m\u001b[92m + Interpolations v0.12.10\u001b[39m\n",
      " \u001b[90m [5ab0869b]\u001b[39m\u001b[92m + KernelDensity v0.5.1\u001b[39m\n",
      " \u001b[90m [d3d80556]\u001b[39m\u001b[92m + LineSearches v7.0.1\u001b[39m\n",
      " \u001b[90m [856f044c]\u001b[39m\u001b[92m + MKL_jll v2020.1.216+0\u001b[39m\n",
      " \u001b[90m [1914dd2f]\u001b[39m\u001b[92m + MacroTools v0.5.5\u001b[39m\n",
      " \u001b[90m [6f286f6a]\u001b[39m\u001b[92m + MultivariateStats v0.7.0\u001b[39m\n",
      " \u001b[90m [d41bc354]\u001b[39m\u001b[92m + NLSolversBase v7.6.1\u001b[39m\n",
      " \u001b[90m [b8a86587]\u001b[39m\u001b[92m + NearestNeighbors v0.4.6\u001b[39m\n",
      " \u001b[90m [510215fc]\u001b[39m\u001b[92m + Observables v0.3.1\u001b[39m\n",
      " \u001b[90m [6fe1bfb0]\u001b[39m\u001b[92m + OffsetArrays v1.1.2\u001b[39m\n",
      " \u001b[90m [4536629a]\u001b[39m\u001b[92m + OpenBLAS_jll v0.3.9+5\u001b[39m\n",
      " \u001b[90m [efe28fd5]\u001b[39m\u001b[92m + OpenSpecFun_jll v0.5.3+3\u001b[39m\n",
      " \u001b[90m [429524aa]\u001b[39m\u001b[92m + Optim v0.22.0\u001b[39m\n",
      " \u001b[90m [90014a1f]\u001b[39m\u001b[92m + PDMats v0.10.0\u001b[39m\n",
      " \u001b[90m [d96e819e]\u001b[39m\u001b[92m + Parameters v0.12.1\u001b[39m\n",
      " \u001b[90m [85a6dd25]\u001b[39m\u001b[92m + PositiveFactorizations v0.2.3\u001b[39m\n",
      " \u001b[90m [1fd47b50]\u001b[39m\u001b[92m + QuadGK v2.4.0\u001b[39m\n",
      " \u001b[90m [c84ed2f1]\u001b[39m\u001b[92m + Ratios v0.4.0\u001b[39m\n",
      " \u001b[90m [79098fc4]\u001b[39m\u001b[92m + Rmath v0.6.1\u001b[39m\n",
      " \u001b[90m [f50d1b31]\u001b[39m\u001b[92m + Rmath_jll v0.2.2+1\u001b[39m\n",
      " \u001b[90m [276daf66]\u001b[39m\u001b[92m + SpecialFunctions v0.10.3\u001b[39m\n",
      " \u001b[90m [4c63d2b9]\u001b[39m\u001b[92m + StatsFuns v0.9.5\u001b[39m\n",
      " \u001b[90m [f3b207a7]\u001b[39m\u001b[92m + StatsPlots v0.14.6\u001b[39m\n",
      " \u001b[90m [ab02a1b2]\u001b[39m\u001b[92m + TableOperations v0.2.1\u001b[39m\n",
      " \u001b[90m [3a884ed6]\u001b[39m\u001b[92m + UnPack v1.0.1\u001b[39m\n",
      " \u001b[90m [cc8bc4a8]\u001b[39m\u001b[92m + Widgets v0.6.2\u001b[39m\n",
      " \u001b[90m [efce3f68]\u001b[39m\u001b[92m + WoodburyMatrices v0.5.2\u001b[39m\n",
      " \u001b[90m [4607b0f0]\u001b[39m\u001b[92m + SuiteSparse \u001b[39m\n",
      "\u001b[32m\u001b[1m   Building\u001b[22m\u001b[39m FFTW → `C:\\Users\\yashi\\.julia\\packages\\FFTW\\kcXL6\\deps\\build.log`\n"
     ]
    }
   ],
   "source": [
    "Pkg.add(\"StatsPlots\")"
   ]
  },
  {
   "cell_type": "code",
   "execution_count": 61,
   "metadata": {},
   "outputs": [
    {
     "name": "stderr",
     "output_type": "stream",
     "text": [
      "┌ Warning: `by(d::AbstractDataFrame, cols::Any, f::Base.Callable; sort::Bool = false, skipmissing::Bool = false)` is deprecated, use `combine(f, groupby(d, cols, sort = sort, skipmissing = skipmissing))` instead.\n",
      "│   caller = top-level scope at In[61]:1\n",
      "└ @ Core In[61]:1\n"
     ]
    },
    {
     "data": {
      "text/html": [
       "<table class=\"data-frame\"><thead><tr><th></th><th>Country/Region</th><th>nrow</th></tr><tr><th></th><th>String</th><th>Int64</th></tr></thead><tbody><p>188 rows × 2 columns</p><tr><th>1</th><td>Afghanistan</td><td>36100</td></tr><tr><th>2</th><td>Albania</td><td>36100</td></tr><tr><th>3</th><td>Algeria</td><td>36100</td></tr><tr><th>4</th><td>Andorra</td><td>36100</td></tr><tr><th>5</th><td>Angola</td><td>36100</td></tr><tr><th>6</th><td>Antigua and Barbuda</td><td>36100</td></tr><tr><th>7</th><td>Argentina</td><td>36100</td></tr><tr><th>8</th><td>Armenia</td><td>36100</td></tr><tr><th>9</th><td>Australia</td><td>2310400</td></tr><tr><th>10</th><td>Austria</td><td>36100</td></tr><tr><th>11</th><td>Azerbaijan</td><td>36100</td></tr><tr><th>12</th><td>Bahamas</td><td>36100</td></tr><tr><th>13</th><td>Bahrain</td><td>36100</td></tr><tr><th>14</th><td>Bangladesh</td><td>36100</td></tr><tr><th>15</th><td>Barbados</td><td>36100</td></tr><tr><th>16</th><td>Belarus</td><td>36100</td></tr><tr><th>17</th><td>Belgium</td><td>36100</td></tr><tr><th>18</th><td>Benin</td><td>36100</td></tr><tr><th>19</th><td>Bhutan</td><td>36100</td></tr><tr><th>20</th><td>Bolivia</td><td>36100</td></tr><tr><th>21</th><td>Bosnia and Herzegovina</td><td>36100</td></tr><tr><th>22</th><td>Brazil</td><td>36100</td></tr><tr><th>23</th><td>Brunei</td><td>36100</td></tr><tr><th>24</th><td>Bulgaria</td><td>36100</td></tr><tr><th>25</th><td>Burkina Faso</td><td>36100</td></tr><tr><th>26</th><td>Cabo Verde</td><td>36100</td></tr><tr><th>27</th><td>Cambodia</td><td>36100</td></tr><tr><th>28</th><td>Cameroon</td><td>36100</td></tr><tr><th>29</th><td>Canada</td><td>7075600</td></tr><tr><th>30</th><td>Central African Republic</td><td>36100</td></tr><tr><th>&vellip;</th><td>&vellip;</td><td>&vellip;</td></tr></tbody></table>"
      ],
      "text/latex": [
       "\\begin{tabular}{r|cc}\n",
       "\t& Country/Region & nrow\\\\\n",
       "\t\\hline\n",
       "\t& String & Int64\\\\\n",
       "\t\\hline\n",
       "\t1 & Afghanistan & 36100 \\\\\n",
       "\t2 & Albania & 36100 \\\\\n",
       "\t3 & Algeria & 36100 \\\\\n",
       "\t4 & Andorra & 36100 \\\\\n",
       "\t5 & Angola & 36100 \\\\\n",
       "\t6 & Antigua and Barbuda & 36100 \\\\\n",
       "\t7 & Argentina & 36100 \\\\\n",
       "\t8 & Armenia & 36100 \\\\\n",
       "\t9 & Australia & 2310400 \\\\\n",
       "\t10 & Austria & 36100 \\\\\n",
       "\t11 & Azerbaijan & 36100 \\\\\n",
       "\t12 & Bahamas & 36100 \\\\\n",
       "\t13 & Bahrain & 36100 \\\\\n",
       "\t14 & Bangladesh & 36100 \\\\\n",
       "\t15 & Barbados & 36100 \\\\\n",
       "\t16 & Belarus & 36100 \\\\\n",
       "\t17 & Belgium & 36100 \\\\\n",
       "\t18 & Benin & 36100 \\\\\n",
       "\t19 & Bhutan & 36100 \\\\\n",
       "\t20 & Bolivia & 36100 \\\\\n",
       "\t21 & Bosnia and Herzegovina & 36100 \\\\\n",
       "\t22 & Brazil & 36100 \\\\\n",
       "\t23 & Brunei & 36100 \\\\\n",
       "\t24 & Bulgaria & 36100 \\\\\n",
       "\t25 & Burkina Faso & 36100 \\\\\n",
       "\t26 & Cabo Verde & 36100 \\\\\n",
       "\t27 & Cambodia & 36100 \\\\\n",
       "\t28 & Cameroon & 36100 \\\\\n",
       "\t29 & Canada & 7075600 \\\\\n",
       "\t30 & Central African Republic & 36100 \\\\\n",
       "\t$\\dots$ & $\\dots$ & $\\dots$ \\\\\n",
       "\\end{tabular}\n"
      ],
      "text/plain": [
       "188×2 DataFrame\n",
       "│ Row │ Country/Region        │ nrow    │\n",
       "│     │ \u001b[90mString\u001b[39m                │ \u001b[90mInt64\u001b[39m   │\n",
       "├─────┼───────────────────────┼─────────┤\n",
       "│ 1   │ Afghanistan           │ 36100   │\n",
       "│ 2   │ Albania               │ 36100   │\n",
       "│ 3   │ Algeria               │ 36100   │\n",
       "│ 4   │ Andorra               │ 36100   │\n",
       "│ 5   │ Angola                │ 36100   │\n",
       "│ 6   │ Antigua and Barbuda   │ 36100   │\n",
       "│ 7   │ Argentina             │ 36100   │\n",
       "│ 8   │ Armenia               │ 36100   │\n",
       "│ 9   │ Australia             │ 2310400 │\n",
       "│ 10  │ Austria               │ 36100   │\n",
       "⋮\n",
       "│ 178 │ Botswana              │ 36100   │\n",
       "│ 179 │ Burundi               │ 36100   │\n",
       "│ 180 │ Sierra Leone          │ 36100   │\n",
       "│ 181 │ Malawi                │ 36100   │\n",
       "│ 182 │ South Sudan           │ 36100   │\n",
       "│ 183 │ Western Sahara        │ 36100   │\n",
       "│ 184 │ Sao Tome and Principe │ 36100   │\n",
       "│ 185 │ Yemen                 │ 36100   │\n",
       "│ 186 │ Comoros               │ 36100   │\n",
       "│ 187 │ Tajikistan            │ 36100   │\n",
       "│ 188 │ Lesotho               │ 36100   │"
      ]
     },
     "execution_count": 61,
     "metadata": {},
     "output_type": "execute_result"
    }
   ],
   "source": [
    "# Value Counts \n",
    "value_counts = by(df, Symbol(\"Country/Region\"), nrow)"
   ]
  },
  {
   "cell_type": "code",
   "execution_count": null,
   "metadata": {},
   "outputs": [],
   "source": []
  },
  {
   "cell_type": "code",
   "execution_count": null,
   "metadata": {},
   "outputs": [],
   "source": []
  }
 ],
 "metadata": {
  "kernelspec": {
   "display_name": "Julia 1.4.2",
   "language": "julia",
   "name": "julia-1.4"
  },
  "language_info": {
   "file_extension": ".jl",
   "mimetype": "application/julia",
   "name": "julia",
   "version": "1.4.2"
  }
 },
 "nbformat": 4,
 "nbformat_minor": 4
}
